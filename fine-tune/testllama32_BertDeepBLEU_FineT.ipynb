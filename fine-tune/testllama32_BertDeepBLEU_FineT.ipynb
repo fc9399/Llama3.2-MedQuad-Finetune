{
 "cells": [
  {
   "cell_type": "code",
   "execution_count": 2,
   "metadata": {},
   "outputs": [],
   "source": [
    "# Install Required Libraries in Terminal\n",
    "# pip install transformers datasets accelerate peft bitsandbytes torch openpyxl bert_score\n",
    "# Done"
   ]
  },
  {
   "cell_type": "code",
   "execution_count": 5,
   "metadata": {
    "scrolled": true
   },
   "outputs": [
    {
     "name": "stdout",
     "output_type": "stream",
     "text": [
      "Requirement already satisfied: huggingface_hub in /opt/conda/lib/python3.10/site-packages (0.30.2)\n",
      "Requirement already satisfied: transformers in /opt/conda/lib/python3.10/site-packages (4.51.3)\n",
      "Requirement already satisfied: datasets in /opt/conda/lib/python3.10/site-packages (3.5.0)\n",
      "Requirement already satisfied: accelerate in /opt/conda/lib/python3.10/site-packages (1.6.0)\n",
      "Requirement already satisfied: peft in /opt/conda/lib/python3.10/site-packages (0.15.2)\n",
      "Requirement already satisfied: bitsandbytes in /opt/conda/lib/python3.10/site-packages (0.45.5)\n",
      "Requirement already satisfied: torch in /opt/conda/lib/python3.10/site-packages (2.2.1)\n",
      "Requirement already satisfied: openpyxl in /opt/conda/lib/python3.10/site-packages (3.1.5)\n",
      "Requirement already satisfied: bert_score in /opt/conda/lib/python3.10/site-packages (0.3.13)\n",
      "Requirement already satisfied: filelock in /opt/conda/lib/python3.10/site-packages (from huggingface_hub) (3.13.1)\n",
      "Requirement already satisfied: fsspec>=2023.5.0 in /opt/conda/lib/python3.10/site-packages (from huggingface_hub) (2024.2.0)\n",
      "Requirement already satisfied: packaging>=20.9 in /opt/conda/lib/python3.10/site-packages (from huggingface_hub) (23.1)\n",
      "Requirement already satisfied: pyyaml>=5.1 in /opt/conda/lib/python3.10/site-packages (from huggingface_hub) (6.0.1)\n",
      "Requirement already satisfied: requests in /opt/conda/lib/python3.10/site-packages (from huggingface_hub) (2.32.3)\n",
      "Requirement already satisfied: tqdm>=4.42.1 in /opt/conda/lib/python3.10/site-packages (from huggingface_hub) (4.67.1)\n",
      "Requirement already satisfied: typing-extensions>=3.7.4.3 in /opt/conda/lib/python3.10/site-packages (from huggingface_hub) (4.9.0)\n",
      "Requirement already satisfied: numpy>=1.17 in /opt/conda/lib/python3.10/site-packages (from transformers) (1.26.3)\n",
      "Requirement already satisfied: regex!=2019.12.17 in /opt/conda/lib/python3.10/site-packages (from transformers) (2024.11.6)\n",
      "Requirement already satisfied: tokenizers<0.22,>=0.21 in /opt/conda/lib/python3.10/site-packages (from transformers) (0.21.1)\n",
      "Requirement already satisfied: safetensors>=0.4.3 in /opt/conda/lib/python3.10/site-packages (from transformers) (0.5.3)\n",
      "Requirement already satisfied: pyarrow>=15.0.0 in /opt/conda/lib/python3.10/site-packages (from datasets) (19.0.1)\n",
      "Requirement already satisfied: dill<0.3.9,>=0.3.0 in /opt/conda/lib/python3.10/site-packages (from datasets) (0.3.8)\n",
      "Requirement already satisfied: pandas in /opt/conda/lib/python3.10/site-packages (from datasets) (2.2.3)\n",
      "Requirement already satisfied: xxhash in /opt/conda/lib/python3.10/site-packages (from datasets) (3.5.0)\n",
      "Requirement already satisfied: multiprocess<0.70.17 in /opt/conda/lib/python3.10/site-packages (from datasets) (0.70.16)\n",
      "Requirement already satisfied: aiohttp in /opt/conda/lib/python3.10/site-packages (from datasets) (3.11.16)\n",
      "Requirement already satisfied: psutil in /opt/conda/lib/python3.10/site-packages (from accelerate) (5.9.0)\n",
      "Requirement already satisfied: sympy in /opt/conda/lib/python3.10/site-packages (from torch) (1.12)\n",
      "Requirement already satisfied: networkx in /opt/conda/lib/python3.10/site-packages (from torch) (3.1)\n",
      "Requirement already satisfied: jinja2 in /opt/conda/lib/python3.10/site-packages (from torch) (3.1.3)\n",
      "Requirement already satisfied: et-xmlfile in /opt/conda/lib/python3.10/site-packages (from openpyxl) (2.0.0)\n",
      "Requirement already satisfied: matplotlib in /opt/conda/lib/python3.10/site-packages (from bert_score) (3.10.1)\n",
      "Requirement already satisfied: aiohappyeyeballs>=2.3.0 in /opt/conda/lib/python3.10/site-packages (from aiohttp->datasets) (2.6.1)\n",
      "Requirement already satisfied: aiosignal>=1.1.2 in /opt/conda/lib/python3.10/site-packages (from aiohttp->datasets) (1.3.2)\n",
      "Requirement already satisfied: async-timeout<6.0,>=4.0 in /opt/conda/lib/python3.10/site-packages (from aiohttp->datasets) (5.0.1)\n",
      "Requirement already satisfied: attrs>=17.3.0 in /opt/conda/lib/python3.10/site-packages (from aiohttp->datasets) (23.1.0)\n",
      "Requirement already satisfied: frozenlist>=1.1.1 in /opt/conda/lib/python3.10/site-packages (from aiohttp->datasets) (1.6.0)\n",
      "Requirement already satisfied: multidict<7.0,>=4.5 in /opt/conda/lib/python3.10/site-packages (from aiohttp->datasets) (6.4.3)\n",
      "Requirement already satisfied: propcache>=0.2.0 in /opt/conda/lib/python3.10/site-packages (from aiohttp->datasets) (0.3.1)\n",
      "Requirement already satisfied: yarl<2.0,>=1.17.0 in /opt/conda/lib/python3.10/site-packages (from aiohttp->datasets) (1.20.0)\n",
      "Requirement already satisfied: python-dateutil>=2.8.2 in /opt/conda/lib/python3.10/site-packages (from pandas->datasets) (2.9.0.post0)\n",
      "Requirement already satisfied: pytz>=2020.1 in /opt/conda/lib/python3.10/site-packages (from pandas->datasets) (2023.3.post1)\n",
      "Requirement already satisfied: tzdata>=2022.7 in /opt/conda/lib/python3.10/site-packages (from pandas->datasets) (2025.2)\n",
      "Requirement already satisfied: charset-normalizer<4,>=2 in /opt/conda/lib/python3.10/site-packages (from requests->huggingface_hub) (2.0.4)\n",
      "Requirement already satisfied: idna<4,>=2.5 in /opt/conda/lib/python3.10/site-packages (from requests->huggingface_hub) (3.4)\n",
      "Requirement already satisfied: urllib3<3,>=1.21.1 in /opt/conda/lib/python3.10/site-packages (from requests->huggingface_hub) (2.1.0)\n",
      "Requirement already satisfied: certifi>=2017.4.17 in /opt/conda/lib/python3.10/site-packages (from requests->huggingface_hub) (2024.2.2)\n",
      "Requirement already satisfied: MarkupSafe>=2.0 in /opt/conda/lib/python3.10/site-packages (from jinja2->torch) (2.1.3)\n",
      "Requirement already satisfied: contourpy>=1.0.1 in /opt/conda/lib/python3.10/site-packages (from matplotlib->bert_score) (1.3.2)\n",
      "Requirement already satisfied: cycler>=0.10 in /opt/conda/lib/python3.10/site-packages (from matplotlib->bert_score) (0.12.1)\n",
      "Requirement already satisfied: fonttools>=4.22.0 in /opt/conda/lib/python3.10/site-packages (from matplotlib->bert_score) (4.57.0)\n",
      "Requirement already satisfied: kiwisolver>=1.3.1 in /opt/conda/lib/python3.10/site-packages (from matplotlib->bert_score) (1.4.8)\n",
      "Requirement already satisfied: pillow>=8 in /opt/conda/lib/python3.10/site-packages (from matplotlib->bert_score) (10.2.0)\n",
      "Requirement already satisfied: pyparsing>=2.3.1 in /opt/conda/lib/python3.10/site-packages (from matplotlib->bert_score) (3.2.3)\n",
      "Requirement already satisfied: mpmath>=0.19 in /opt/conda/lib/python3.10/site-packages (from sympy->torch) (1.3.0)\n",
      "Requirement already satisfied: six>=1.5 in /opt/conda/lib/python3.10/site-packages (from python-dateutil>=2.8.2->pandas->datasets) (1.16.0)\n",
      "\u001b[33mWARNING: Running pip as the 'root' user can result in broken permissions and conflicting behaviour with the system package manager. It is recommended to use a virtual environment instead: https://pip.pypa.io/warnings/venv\u001b[0m\u001b[33m\n",
      "Note: you may need to restart the kernel to use updated packages.\n"
     ]
    }
   ],
   "source": [
    "pip install huggingface_hub transformers datasets accelerate peft bitsandbytes torch openpyxl bert_score"
   ]
  },
  {
   "cell_type": "code",
   "execution_count": 6,
   "metadata": {},
   "outputs": [],
   "source": [
    "# disables tokenizer thread parallelism, \n",
    "# telling Hugging Face to run tokenization single-threaded, avoiding the risk of threading issues across forked processes.\n",
    "import os\n",
    "os.environ[\"TOKENIZERS_PARALLELISM\"] = \"false\""
   ]
  },
  {
   "cell_type": "markdown",
   "metadata": {},
   "source": [
    "Login into hugging face to get access to LLM"
   ]
  },
  {
   "cell_type": "code",
   "execution_count": null,
   "metadata": {},
   "outputs": [],
   "source": [
    "from huggingface_hub import login\n",
    "login(\"\") # USE YOUR OWN TOKEN"
   ]
  },
  {
   "cell_type": "markdown",
   "metadata": {},
   "source": [
    "## Load the model"
   ]
  },
  {
   "cell_type": "code",
   "execution_count": 4,
   "metadata": {},
   "outputs": [
    {
     "data": {
      "application/vnd.jupyter.widget-view+json": {
       "model_id": "2bfd8b4381a8498e9e0b2cd50ada2d0a",
       "version_major": 2,
       "version_minor": 0
      },
      "text/plain": [
       "tokenizer_config.json:   0%|          | 0.00/54.5k [00:00<?, ?B/s]"
      ]
     },
     "metadata": {},
     "output_type": "display_data"
    },
    {
     "data": {
      "application/vnd.jupyter.widget-view+json": {
       "model_id": "1561c147265042c29e069d1908530eca",
       "version_major": 2,
       "version_minor": 0
      },
      "text/plain": [
       "tokenizer.json:   0%|          | 0.00/9.09M [00:00<?, ?B/s]"
      ]
     },
     "metadata": {},
     "output_type": "display_data"
    },
    {
     "data": {
      "application/vnd.jupyter.widget-view+json": {
       "model_id": "911aa4f8cd314680ab18e3e416a858bf",
       "version_major": 2,
       "version_minor": 0
      },
      "text/plain": [
       "special_tokens_map.json:   0%|          | 0.00/296 [00:00<?, ?B/s]"
      ]
     },
     "metadata": {},
     "output_type": "display_data"
    },
    {
     "data": {
      "application/vnd.jupyter.widget-view+json": {
       "model_id": "6780e808b58744e288b8a665d43d19c7",
       "version_major": 2,
       "version_minor": 0
      },
      "text/plain": [
       "config.json:   0%|          | 0.00/878 [00:00<?, ?B/s]"
      ]
     },
     "metadata": {},
     "output_type": "display_data"
    },
    {
     "data": {
      "application/vnd.jupyter.widget-view+json": {
       "model_id": "74cb119de6b44b8a95d072e4212ec1b7",
       "version_major": 2,
       "version_minor": 0
      },
      "text/plain": [
       "model.safetensors.index.json:   0%|          | 0.00/20.9k [00:00<?, ?B/s]"
      ]
     },
     "metadata": {},
     "output_type": "display_data"
    },
    {
     "data": {
      "application/vnd.jupyter.widget-view+json": {
       "model_id": "71a4515519b64cf3a4ca45bc199ee042",
       "version_major": 2,
       "version_minor": 0
      },
      "text/plain": [
       "Fetching 2 files:   0%|          | 0/2 [00:00<?, ?it/s]"
      ]
     },
     "metadata": {},
     "output_type": "display_data"
    },
    {
     "data": {
      "application/vnd.jupyter.widget-view+json": {
       "model_id": "242547389b3b47d1b233341f26925ff0",
       "version_major": 2,
       "version_minor": 0
      },
      "text/plain": [
       "model-00001-of-00002.safetensors:   0%|          | 0.00/4.97G [00:00<?, ?B/s]"
      ]
     },
     "metadata": {},
     "output_type": "display_data"
    },
    {
     "data": {
      "application/vnd.jupyter.widget-view+json": {
       "model_id": "4f456463fb914bd0acdc11c8842ea781",
       "version_major": 2,
       "version_minor": 0
      },
      "text/plain": [
       "model-00002-of-00002.safetensors:   0%|          | 0.00/1.46G [00:00<?, ?B/s]"
      ]
     },
     "metadata": {},
     "output_type": "display_data"
    },
    {
     "data": {
      "application/vnd.jupyter.widget-view+json": {
       "model_id": "4ef387e331764ebe85d0ef5863584973",
       "version_major": 2,
       "version_minor": 0
      },
      "text/plain": [
       "Loading checkpoint shards:   0%|          | 0/2 [00:00<?, ?it/s]"
      ]
     },
     "metadata": {},
     "output_type": "display_data"
    },
    {
     "data": {
      "application/vnd.jupyter.widget-view+json": {
       "model_id": "a20d8a515fd644fa996af869cde57f24",
       "version_major": 2,
       "version_minor": 0
      },
      "text/plain": [
       "generation_config.json:   0%|          | 0.00/189 [00:00<?, ?B/s]"
      ]
     },
     "metadata": {},
     "output_type": "display_data"
    },
    {
     "name": "stdout",
     "output_type": "stream",
     "text": [
      "Model successfully loaded from cache: /workspace/model_cache\n"
     ]
    }
   ],
   "source": [
    "from transformers import AutoTokenizer, AutoModelForCausalLM  # Import tokenizer and model loader\n",
    "import torch  # PyTorch for handling tensors and model inference\n",
    "import pandas as pd  # Pandas for reading and processing the dataset\n",
    "import bert_score  # BERTScore for evaluating model-generated responses\n",
    "\n",
    "# ========== 1. Prevent model from being downloaded repeatedly ==========\n",
    "model_id = \"meta-llama/Llama-3.2-3B-Instruct\"  # Model name\n",
    "cache_dir = \"/workspace/model_cache\"  # Set cache directory to store model locally\n",
    "\n",
    "# Ensure the cache directory exists\n",
    "import os\n",
    "os.makedirs(cache_dir, exist_ok=True)\n",
    "\n",
    "# Load tokenizer from cache (if available); otherwise, download and store it\n",
    "tokenizer = AutoTokenizer.from_pretrained(model_id, cache_dir=cache_dir)\n",
    "\n",
    "# Load model with reduced memory usage and automatic GPU allocation\n",
    "model = AutoModelForCausalLM.from_pretrained(\n",
    "    model_id,\n",
    "    torch_dtype=torch.bfloat16,  # Use bfloat16 to save memory while maintaining precision\n",
    "    device_map=\"auto\",  # Automatically assigns model to GPU (if available)\n",
    "    cache_dir=cache_dir  # Store model in cache to avoid re-downloading\n",
    ")\n",
    "\n",
    "print(\"Model successfully loaded from cache:\", cache_dir)"
   ]
  },
  {
   "cell_type": "markdown",
   "metadata": {},
   "source": [
    "# FROM HERE, \n",
    "# after reload the NEW & Trained model, \n",
    "# you can re-run the codes below till the end of BLEU"
   ]
  },
  {
   "cell_type": "code",
   "execution_count": 19,
   "metadata": {},
   "outputs": [
    {
     "name": "stdout",
     "output_type": "stream",
     "text": [
      "                      AnswerID    Unnamed: 2                    Unnamed: 3  \\\n",
      "0        ADAM_0002818_Sec1.txt  3-Incomplete         ADAM_0002818_Sec1.txt   \n",
      "1        ADAM_0002818_Sec2.txt  3-Incomplete         ADAM_0002818_Sec2.txt   \n",
      "2        GARD_0004450_Sec1.txt  3-Incomplete         GARD_0004450_Sec1.txt   \n",
      "3        GARD_0004450_Sec2.txt  3-Incomplete         GARD_0004450_Sec2.txt   \n",
      "4        GARD_0004450_Sec3.txt  3-Incomplete         GARD_0004450_Sec3.txt   \n",
      "5         GHR_0000804_Sec1.txt  3-Incomplete          GHR_0000804_Sec1.txt   \n",
      "6         GHR_0000804_Sec3.txt  3-Incomplete          GHR_0000804_Sec3.txt   \n",
      "7         GHR_0000804_Sec4.txt  3-Incomplete          GHR_0000804_Sec4.txt   \n",
      "8  MPlusDrugs_0001309_Sec2.txt  3-Incomplete   MPlusDrugs_0001309_Sec2.txt   \n",
      "9  MPlusDrugs_0001309_Sec5.txt  3-Incomplete   MPlusDrugs_0001309_Sec5.txt   \n",
      "\n",
      "                                            Question  \\\n",
      "0                    What is (are) Noonan syndrome ?   \n",
      "1                      What causes Noonan syndrome ?   \n",
      "2  What is (are) Noonan syndrome ? (Also called: ...   \n",
      "3  What are the symptoms of Noonan syndrome ? (Al...   \n",
      "4  Is Noonan syndrome inherited ? (Also called: M...   \n",
      "5  What is (are) polycystic kidney disease ? (Als...   \n",
      "6  What are the genetic changes related to polycy...   \n",
      "7  Is polycystic kidney disease inherited ? (Also...   \n",
      "8  How should Zolmitriptan be used and what is th...   \n",
      "9  What are the side effects or risks of Zolmitri...   \n",
      "\n",
      "                                              Answer  \n",
      "0  Noonan syndrome is a disease that can be passe...  \n",
      "1  Noonan syndrome is linked to defects in severa...  \n",
      "2  Noonan syndrome is a genetic disorder that cau...  \n",
      "3  What are the signs and symptoms of Noonan synd...  \n",
      "4  How is Noonan syndrome inherited? Noonan syndr...  \n",
      "5  Polycystic kidney disease is a disorder that a...  \n",
      "6  Mutations in the PKD1, PKD2, and PKHD1 genes c...  \n",
      "7  Most cases of polycystic kidney disease have a...  \n",
      "8  Zolmitriptan comes as a tablet and an orally d...  \n",
      "9  Zolmitriptan may cause side effects. Tell your...  \n"
     ]
    }
   ],
   "source": [
    "# ========== 2. Load dataset ==========\n",
    "data_path = \"VerifiedQ_A.xlsx\"  # Path to dataset file\n",
    "df = pd.read_excel(data_path)  # Load the dataset into a DataFrame\n",
    "print(df.head(10))  # Print the first few rows to verify correct loading\n"
   ]
  },
  {
   "cell_type": "code",
   "execution_count": 20,
   "metadata": {},
   "outputs": [
    {
     "name": "stdout",
     "output_type": "stream",
     "text": [
      "⚠️ 0 questions were skipped due to invalid format.\n"
     ]
    }
   ],
   "source": [
    "# ========== 3. Generate answers using Llama 3.2 ==========\n",
    "\n",
    "# generate_answer() with Post-Trim Cleanup\n",
    "# ISSUE: Llama always generate its model answer along with the question itself, unnecessarily consuming the max_token space.\n",
    "# ISSUE: it would be problematic if the question is very long!!!\n",
    "\n",
    "#Revised generate_answer() with Improved Echo Trimming\n",
    "def generate_answer(question):\n",
    "    \"\"\"Generates a clean model response from LLaMA using a direct instruction prompt.\"\"\"\n",
    "\n",
    "    if not isinstance(question, str):\n",
    "        return \"Skipped\"\n",
    "\n",
    "    # Instruction-style prompt to guide model toward answering\n",
    "    prompt = f\"Answer concisely:\\n\\n{question}\\n\\nAnswer:\"\n",
    "\n",
    "    inputs = tokenizer(prompt, return_tensors=\"pt\").to(\"cuda\")\n",
    "\n",
    "    with torch.no_grad():\n",
    "        output = model.generate(\n",
    "            **inputs,\n",
    "            max_length=256,\n",
    "            pad_token_id=tokenizer.eos_token_id\n",
    "        )\n",
    "\n",
    "    decoded = tokenizer.decode(output[0], skip_special_tokens=True).strip()\n",
    "\n",
    "    # Strip everything before \"Answer:\" if model includes it in output\n",
    "    if \"Answer:\" in decoded:\n",
    "        decoded = decoded.split(\"Answer:\")[-1].strip()\n",
    "\n",
    "    return decoded\n",
    "\n",
    "\n",
    "# Apply model to generate answers only for valid text questions\n",
    "df[\"Model_Answer\"] = df[\"Question\"].apply(generate_answer)\n",
    "\n",
    "# Print skipped questions for debugging\n",
    "skipped_count = (df[\"Model_Answer\"] == \"Skipped\").sum()\n",
    "print(f\"⚠️ {skipped_count} questions were skipped due to invalid format.\")"
   ]
  },
  {
   "cell_type": "markdown",
   "metadata": {},
   "source": [
    "Save the data to make sure all evaluations are based on the same data"
   ]
  },
  {
   "cell_type": "code",
   "execution_count": 21,
   "metadata": {},
   "outputs": [
    {
     "name": "stdout",
     "output_type": "stream",
     "text": [
      "DataFrame saved as generated_answers.xlsx\n"
     ]
    }
   ],
   "source": [
    "df.to_excel(\"generated_answers.xlsx\", index=False)\n",
    "print(\"DataFrame saved as generated_answers.xlsx\")"
   ]
  },
  {
   "cell_type": "markdown",
   "metadata": {},
   "source": [
    "## For BertScore"
   ]
  },
  {
   "cell_type": "code",
   "execution_count": 22,
   "metadata": {
    "scrolled": true
   },
   "outputs": [
    {
     "name": "stdout",
     "output_type": "stream",
     "text": [
      "✅ DataFrame reloaded successfully!\n",
      "                AnswerID    Unnamed: 2              Unnamed: 3  \\\n",
      "0  ADAM_0002818_Sec1.txt  3-Incomplete   ADAM_0002818_Sec1.txt   \n",
      "1  ADAM_0002818_Sec2.txt  3-Incomplete   ADAM_0002818_Sec2.txt   \n",
      "2  GARD_0004450_Sec1.txt  3-Incomplete   GARD_0004450_Sec1.txt   \n",
      "3  GARD_0004450_Sec2.txt  3-Incomplete   GARD_0004450_Sec2.txt   \n",
      "4  GARD_0004450_Sec3.txt  3-Incomplete   GARD_0004450_Sec3.txt   \n",
      "\n",
      "                                            Question  \\\n",
      "0                    What is (are) Noonan syndrome ?   \n",
      "1                      What causes Noonan syndrome ?   \n",
      "2  What is (are) Noonan syndrome ? (Also called: ...   \n",
      "3  What are the symptoms of Noonan syndrome ? (Al...   \n",
      "4  Is Noonan syndrome inherited ? (Also called: M...   \n",
      "\n",
      "                                              Answer  \\\n",
      "0  Noonan syndrome is a disease that can be passe...   \n",
      "1  Noonan syndrome is linked to defects in severa...   \n",
      "2  Noonan syndrome is a genetic disorder that cau...   \n",
      "3  What are the signs and symptoms of Noonan synd...   \n",
      "4  How is Noonan syndrome inherited? Noonan syndr...   \n",
      "\n",
      "                                        Model_Answer  \n",
      "0  Noonan syndrome is a disease that can be passe...  \n",
      "1  Noonan syndrome is linked to defects in severa...  \n",
      "2  Noonan syndrome is a genetic disorder that cau...  \n",
      "3  What are the signs and symptoms of Noonan synd...  \n",
      "4  How is Noonan syndrome inherited? Noonan syndr...  \n"
     ]
    }
   ],
   "source": [
    "import pandas as pd\n",
    "\n",
    "# Load the saved Excel file\n",
    "df = pd.read_excel(\"generated_answers.xlsx\")\n",
    "\n",
    "print(\"✅ DataFrame reloaded successfully!\")\n",
    "print(df.head())  # Display the first few rows to verify"
   ]
  },
  {
   "cell_type": "code",
   "execution_count": 23,
   "metadata": {},
   "outputs": [
    {
     "data": {
      "application/vnd.jupyter.widget-view+json": {
       "model_id": "5f4503a40eee4333900898a7e434b8c8",
       "version_major": 2,
       "version_minor": 0
      },
      "text/plain": [
       "tokenizer_config.json:   0%|          | 0.00/25.0 [00:00<?, ?B/s]"
      ]
     },
     "metadata": {},
     "output_type": "display_data"
    },
    {
     "data": {
      "application/vnd.jupyter.widget-view+json": {
       "model_id": "47e98c5a497b46e5ae65bb383df34382",
       "version_major": 2,
       "version_minor": 0
      },
      "text/plain": [
       "config.json:   0%|          | 0.00/482 [00:00<?, ?B/s]"
      ]
     },
     "metadata": {},
     "output_type": "display_data"
    },
    {
     "data": {
      "application/vnd.jupyter.widget-view+json": {
       "model_id": "c79412b72ca34e02ab2e47abba6deaa2",
       "version_major": 2,
       "version_minor": 0
      },
      "text/plain": [
       "vocab.json:   0%|          | 0.00/899k [00:00<?, ?B/s]"
      ]
     },
     "metadata": {},
     "output_type": "display_data"
    },
    {
     "data": {
      "application/vnd.jupyter.widget-view+json": {
       "model_id": "bedc516bbc8447bea0f1272a745792f9",
       "version_major": 2,
       "version_minor": 0
      },
      "text/plain": [
       "merges.txt:   0%|          | 0.00/456k [00:00<?, ?B/s]"
      ]
     },
     "metadata": {},
     "output_type": "display_data"
    },
    {
     "data": {
      "application/vnd.jupyter.widget-view+json": {
       "model_id": "ebfb1b1eed914a75ac7ff9ab37313c6d",
       "version_major": 2,
       "version_minor": 0
      },
      "text/plain": [
       "tokenizer.json:   0%|          | 0.00/1.36M [00:00<?, ?B/s]"
      ]
     },
     "metadata": {},
     "output_type": "display_data"
    },
    {
     "name": "stderr",
     "output_type": "stream",
     "text": [
      "Xet Storage is enabled for this repo, but the 'hf_xet' package is not installed. Falling back to regular HTTP download. For better performance, install the package with: `pip install huggingface_hub[hf_xet]` or `pip install hf_xet`\n"
     ]
    },
    {
     "data": {
      "application/vnd.jupyter.widget-view+json": {
       "model_id": "7f51d2b9614c4c6cab768ea2c30c7b42",
       "version_major": 2,
       "version_minor": 0
      },
      "text/plain": [
       "model.safetensors:   0%|          | 0.00/1.42G [00:00<?, ?B/s]"
      ]
     },
     "metadata": {},
     "output_type": "display_data"
    },
    {
     "name": "stderr",
     "output_type": "stream",
     "text": [
      "Some weights of RobertaModel were not initialized from the model checkpoint at roberta-large and are newly initialized: ['pooler.dense.bias', 'pooler.dense.weight']\n",
      "You should probably TRAIN this model on a down-stream task to be able to use it for predictions and inference.\n"
     ]
    },
    {
     "name": "stdout",
     "output_type": "stream",
     "text": [
      "✅ Computation completed. 150 valid responses evaluated.\n",
      "Results saved as `bert_score_results.csv`\n"
     ]
    }
   ],
   "source": [
    "# ========== 4. Compute BERTScore ==========\n",
    "import bert_score\n",
    "# Filter out skipped answers before evaluation\n",
    "valid_rows = df[df[\"Model_Answer\"] != \"Skipped\"].copy()  # Keep only valid responses\n",
    "\n",
    "# Ensure that valid_rows has aligned Model Answers and Reference Answers\n",
    "P, R, F1 = bert_score.score(\n",
    "    valid_rows[\"Model_Answer\"].tolist(),  # Only valid generated answers\n",
    "    valid_rows[\"Answer\"].tolist(),  # Corresponding reference answers\n",
    "    lang=\"en\"  # Specify language as English\n",
    ")\n",
    "\n",
    "# Store computed BERTScore metrics in the filtered DataFrame\n",
    "valid_rows[\"BERT_Precision\"] = P.tolist()\n",
    "valid_rows[\"BERT_Recall\"] = R.tolist()\n",
    "valid_rows[\"BERT_F1\"] = F1.tolist()\n",
    "\n",
    "# ========== 5. Save results ==========\n",
    "valid_rows.to_csv(\"bert_score_results.csv\", index=False)  # Save only valid results\n",
    "print(f\"✅ Computation completed. {len(valid_rows)} valid responses evaluated.\")\n",
    "print(\"Results saved as `bert_score_results.csv`\")"
   ]
  },
  {
   "cell_type": "markdown",
   "metadata": {},
   "source": [
    "## For DeepEval Scores"
   ]
  },
  {
   "cell_type": "code",
   "execution_count": 1,
   "metadata": {
    "scrolled": true
   },
   "outputs": [
    {
     "name": "stdout",
     "output_type": "stream",
     "text": [
      "Requirement already satisfied: pydantic in /opt/conda/lib/python3.10/site-packages (2.11.3)\n",
      "Requirement already satisfied: typing_extensions in /opt/conda/lib/python3.10/site-packages (4.13.2)\n",
      "Requirement already satisfied: deepeval in /opt/conda/lib/python3.10/site-packages (2.7.4)\n",
      "Requirement already satisfied: annotated-types>=0.6.0 in /opt/conda/lib/python3.10/site-packages (from pydantic) (0.7.0)\n",
      "Requirement already satisfied: pydantic-core==2.33.1 in /opt/conda/lib/python3.10/site-packages (from pydantic) (2.33.1)\n",
      "Requirement already satisfied: typing-inspection>=0.4.0 in /opt/conda/lib/python3.10/site-packages (from pydantic) (0.4.0)\n",
      "Requirement already satisfied: aiohttp in /opt/conda/lib/python3.10/site-packages (from deepeval) (3.11.16)\n",
      "Requirement already satisfied: anthropic<0.50.0,>=0.49.0 in /opt/conda/lib/python3.10/site-packages (from deepeval) (0.49.0)\n",
      "Requirement already satisfied: black in /opt/conda/lib/python3.10/site-packages (from deepeval) (25.1.0)\n",
      "Requirement already satisfied: coverage in /opt/conda/lib/python3.10/site-packages (from deepeval) (7.8.0)\n",
      "Requirement already satisfied: google-genai<2.0.0,>=1.9.0 in /opt/conda/lib/python3.10/site-packages (from deepeval) (1.11.0)\n",
      "Requirement already satisfied: grpcio<2.0.0,>=1.67.1 in /opt/conda/lib/python3.10/site-packages (from deepeval) (1.71.0)\n",
      "Requirement already satisfied: instructor in /opt/conda/lib/python3.10/site-packages (from deepeval) (1.7.9)\n",
      "Requirement already satisfied: langchain_community in /opt/conda/lib/python3.10/site-packages (from deepeval) (0.3.21)\n",
      "Requirement already satisfied: langchain_openai in /opt/conda/lib/python3.10/site-packages (from deepeval) (0.3.14)\n",
      "Requirement already satisfied: llama-index in /opt/conda/lib/python3.10/site-packages (from deepeval) (0.12.31)\n",
      "Requirement already satisfied: ollama in /opt/conda/lib/python3.10/site-packages (from deepeval) (0.4.8)\n",
      "Requirement already satisfied: openai in /opt/conda/lib/python3.10/site-packages (from deepeval) (1.75.0)\n",
      "Requirement already satisfied: opentelemetry-api<2.0.0,>=1.24.0 in /opt/conda/lib/python3.10/site-packages (from deepeval) (1.32.1)\n",
      "Requirement already satisfied: opentelemetry-exporter-otlp-proto-grpc<2.0.0,>=1.24.0 in /opt/conda/lib/python3.10/site-packages (from deepeval) (1.32.1)\n",
      "Requirement already satisfied: opentelemetry-sdk<2.0.0,>=1.24.0 in /opt/conda/lib/python3.10/site-packages (from deepeval) (1.32.1)\n",
      "Requirement already satisfied: portalocker in /opt/conda/lib/python3.10/site-packages (from deepeval) (3.1.1)\n",
      "Requirement already satisfied: posthog<4.0.0,>=3.23.0 in /opt/conda/lib/python3.10/site-packages (from deepeval) (3.25.0)\n",
      "Requirement already satisfied: pytest in /opt/conda/lib/python3.10/site-packages (from deepeval) (8.3.4)\n",
      "Requirement already satisfied: pytest-asyncio in /opt/conda/lib/python3.10/site-packages (from deepeval) (0.26.0)\n",
      "Requirement already satisfied: pytest-repeat in /opt/conda/lib/python3.10/site-packages (from deepeval) (0.9.4)\n",
      "Requirement already satisfied: pytest-rerunfailures<13.0,>=12.0 in /opt/conda/lib/python3.10/site-packages (from deepeval) (12.0)\n",
      "Requirement already satisfied: pytest-xdist in /opt/conda/lib/python3.10/site-packages (from deepeval) (3.6.1)\n",
      "Requirement already satisfied: requests<3.0.0,>=2.31.0 in /opt/conda/lib/python3.10/site-packages (from deepeval) (2.32.3)\n",
      "Requirement already satisfied: rich<14.0.0,>=13.6.0 in /opt/conda/lib/python3.10/site-packages (from deepeval) (13.9.4)\n",
      "Requirement already satisfied: sentry-sdk in /opt/conda/lib/python3.10/site-packages (from deepeval) (2.26.1)\n",
      "Requirement already satisfied: setuptools in /opt/conda/lib/python3.10/site-packages (from deepeval) (68.2.2)\n",
      "Requirement already satisfied: tabulate<0.10.0,>=0.9.0 in /opt/conda/lib/python3.10/site-packages (from deepeval) (0.9.0)\n",
      "Requirement already satisfied: tenacity<=9.0.0 in /opt/conda/lib/python3.10/site-packages (from deepeval) (9.0.0)\n",
      "Requirement already satisfied: tqdm<5.0.0,>=4.66.1 in /opt/conda/lib/python3.10/site-packages (from deepeval) (4.67.1)\n",
      "Requirement already satisfied: twine==5.1.1 in /opt/conda/lib/python3.10/site-packages (from deepeval) (5.1.1)\n",
      "Requirement already satisfied: typer in /opt/conda/lib/python3.10/site-packages (from deepeval) (0.15.2)\n",
      "Requirement already satisfied: wheel in /opt/conda/lib/python3.10/site-packages (from deepeval) (0.41.2)\n",
      "Requirement already satisfied: pkginfo>=1.8.1 in /opt/conda/lib/python3.10/site-packages (from twine==5.1.1->deepeval) (1.9.6)\n",
      "Requirement already satisfied: readme-renderer>=35.0 in /opt/conda/lib/python3.10/site-packages (from twine==5.1.1->deepeval) (44.0)\n",
      "Requirement already satisfied: requests-toolbelt!=0.9.0,>=0.8.0 in /opt/conda/lib/python3.10/site-packages (from twine==5.1.1->deepeval) (1.0.0)\n",
      "Requirement already satisfied: urllib3>=1.26.0 in /opt/conda/lib/python3.10/site-packages (from twine==5.1.1->deepeval) (2.1.0)\n",
      "Requirement already satisfied: importlib-metadata>=3.6 in /opt/conda/lib/python3.10/site-packages (from twine==5.1.1->deepeval) (8.6.1)\n",
      "Requirement already satisfied: keyring>=15.1 in /opt/conda/lib/python3.10/site-packages (from twine==5.1.1->deepeval) (25.6.0)\n",
      "Requirement already satisfied: rfc3986>=1.4.0 in /opt/conda/lib/python3.10/site-packages (from twine==5.1.1->deepeval) (2.0.0)\n",
      "Requirement already satisfied: anyio<5,>=3.5.0 in /opt/conda/lib/python3.10/site-packages (from anthropic<0.50.0,>=0.49.0->deepeval) (4.9.0)\n",
      "Requirement already satisfied: distro<2,>=1.7.0 in /opt/conda/lib/python3.10/site-packages (from anthropic<0.50.0,>=0.49.0->deepeval) (1.8.0)\n",
      "Requirement already satisfied: httpx<1,>=0.23.0 in /opt/conda/lib/python3.10/site-packages (from anthropic<0.50.0,>=0.49.0->deepeval) (0.28.1)\n",
      "Requirement already satisfied: jiter<1,>=0.4.0 in /opt/conda/lib/python3.10/site-packages (from anthropic<0.50.0,>=0.49.0->deepeval) (0.8.2)\n",
      "Requirement already satisfied: sniffio in /opt/conda/lib/python3.10/site-packages (from anthropic<0.50.0,>=0.49.0->deepeval) (1.3.1)\n",
      "Requirement already satisfied: google-auth<3.0.0,>=2.14.1 in /opt/conda/lib/python3.10/site-packages (from google-genai<2.0.0,>=1.9.0->deepeval) (2.39.0)\n",
      "Requirement already satisfied: websockets<15.1.0,>=13.0.0 in /opt/conda/lib/python3.10/site-packages (from google-genai<2.0.0,>=1.9.0->deepeval) (15.0.1)\n",
      "Requirement already satisfied: deprecated>=1.2.6 in /opt/conda/lib/python3.10/site-packages (from opentelemetry-api<2.0.0,>=1.24.0->deepeval) (1.2.18)\n",
      "Requirement already satisfied: googleapis-common-protos~=1.52 in /opt/conda/lib/python3.10/site-packages (from opentelemetry-exporter-otlp-proto-grpc<2.0.0,>=1.24.0->deepeval) (1.70.0)\n",
      "Requirement already satisfied: opentelemetry-exporter-otlp-proto-common==1.32.1 in /opt/conda/lib/python3.10/site-packages (from opentelemetry-exporter-otlp-proto-grpc<2.0.0,>=1.24.0->deepeval) (1.32.1)\n",
      "Requirement already satisfied: opentelemetry-proto==1.32.1 in /opt/conda/lib/python3.10/site-packages (from opentelemetry-exporter-otlp-proto-grpc<2.0.0,>=1.24.0->deepeval) (1.32.1)\n",
      "Requirement already satisfied: protobuf<6.0,>=5.0 in /opt/conda/lib/python3.10/site-packages (from opentelemetry-proto==1.32.1->opentelemetry-exporter-otlp-proto-grpc<2.0.0,>=1.24.0->deepeval) (5.29.4)\n",
      "Requirement already satisfied: opentelemetry-semantic-conventions==0.53b1 in /opt/conda/lib/python3.10/site-packages (from opentelemetry-sdk<2.0.0,>=1.24.0->deepeval) (0.53b1)\n",
      "Requirement already satisfied: six>=1.5 in /opt/conda/lib/python3.10/site-packages (from posthog<4.0.0,>=3.23.0->deepeval) (1.16.0)\n",
      "Requirement already satisfied: monotonic>=1.5 in /opt/conda/lib/python3.10/site-packages (from posthog<4.0.0,>=3.23.0->deepeval) (1.6)\n",
      "Requirement already satisfied: backoff>=1.10.0 in /opt/conda/lib/python3.10/site-packages (from posthog<4.0.0,>=3.23.0->deepeval) (2.2.1)\n",
      "Requirement already satisfied: python-dateutil>2.1 in /opt/conda/lib/python3.10/site-packages (from posthog<4.0.0,>=3.23.0->deepeval) (2.9.0.post0)\n",
      "Requirement already satisfied: packaging>=17.1 in /opt/conda/lib/python3.10/site-packages (from pytest-rerunfailures<13.0,>=12.0->deepeval) (24.2)\n",
      "Requirement already satisfied: exceptiongroup>=1.0.0rc8 in /opt/conda/lib/python3.10/site-packages (from pytest->deepeval) (1.2.0)\n",
      "Requirement already satisfied: iniconfig in /opt/conda/lib/python3.10/site-packages (from pytest->deepeval) (2.0.0)\n",
      "Requirement already satisfied: pluggy<2,>=1.5 in /opt/conda/lib/python3.10/site-packages (from pytest->deepeval) (1.5.0)\n",
      "Requirement already satisfied: tomli>=1 in /opt/conda/lib/python3.10/site-packages (from pytest->deepeval) (2.0.1)\n",
      "Requirement already satisfied: charset-normalizer<4,>=2 in /opt/conda/lib/python3.10/site-packages (from requests<3.0.0,>=2.31.0->deepeval) (2.0.4)\n",
      "Requirement already satisfied: idna<4,>=2.5 in /opt/conda/lib/python3.10/site-packages (from requests<3.0.0,>=2.31.0->deepeval) (3.4)\n",
      "Requirement already satisfied: certifi>=2017.4.17 in /opt/conda/lib/python3.10/site-packages (from requests<3.0.0,>=2.31.0->deepeval) (2025.1.31)\n",
      "Requirement already satisfied: markdown-it-py>=2.2.0 in /opt/conda/lib/python3.10/site-packages (from rich<14.0.0,>=13.6.0->deepeval) (3.0.0)\n",
      "Requirement already satisfied: pygments<3.0.0,>=2.13.0 in /opt/conda/lib/python3.10/site-packages (from rich<14.0.0,>=13.6.0->deepeval) (2.15.1)\n",
      "Requirement already satisfied: aiohappyeyeballs>=2.3.0 in /opt/conda/lib/python3.10/site-packages (from aiohttp->deepeval) (2.6.1)\n",
      "Requirement already satisfied: aiosignal>=1.1.2 in /opt/conda/lib/python3.10/site-packages (from aiohttp->deepeval) (1.3.2)\n",
      "Requirement already satisfied: async-timeout<6.0,>=4.0 in /opt/conda/lib/python3.10/site-packages (from aiohttp->deepeval) (4.0.3)\n",
      "Requirement already satisfied: attrs>=17.3.0 in /opt/conda/lib/python3.10/site-packages (from aiohttp->deepeval) (23.1.0)\n",
      "Requirement already satisfied: frozenlist>=1.1.1 in /opt/conda/lib/python3.10/site-packages (from aiohttp->deepeval) (1.6.0)\n",
      "Requirement already satisfied: multidict<7.0,>=4.5 in /opt/conda/lib/python3.10/site-packages (from aiohttp->deepeval) (6.4.3)\n",
      "Requirement already satisfied: propcache>=0.2.0 in /opt/conda/lib/python3.10/site-packages (from aiohttp->deepeval) (0.3.1)\n",
      "Requirement already satisfied: yarl<2.0,>=1.17.0 in /opt/conda/lib/python3.10/site-packages (from aiohttp->deepeval) (1.20.0)\n",
      "Requirement already satisfied: click>=8.0.0 in /opt/conda/lib/python3.10/site-packages (from black->deepeval) (8.1.7)\n",
      "Requirement already satisfied: mypy-extensions>=0.4.3 in /opt/conda/lib/python3.10/site-packages (from black->deepeval) (1.0.0)\n",
      "Requirement already satisfied: pathspec>=0.9.0 in /opt/conda/lib/python3.10/site-packages (from black->deepeval) (0.12.1)\n",
      "Requirement already satisfied: platformdirs>=2 in /opt/conda/lib/python3.10/site-packages (from black->deepeval) (4.3.7)\n",
      "Requirement already satisfied: docstring-parser<1.0,>=0.16 in /opt/conda/lib/python3.10/site-packages (from instructor->deepeval) (0.16)\n",
      "Requirement already satisfied: jinja2<4.0.0,>=3.1.4 in /opt/conda/lib/python3.10/site-packages (from instructor->deepeval) (3.1.6)\n",
      "Requirement already satisfied: shellingham>=1.3.0 in /opt/conda/lib/python3.10/site-packages (from typer->deepeval) (1.5.4)\n",
      "Requirement already satisfied: langchain-core<1.0.0,>=0.3.51 in /opt/conda/lib/python3.10/site-packages (from langchain_community->deepeval) (0.3.54)\n",
      "Requirement already satisfied: langchain<1.0.0,>=0.3.23 in /opt/conda/lib/python3.10/site-packages (from langchain_community->deepeval) (0.3.23)\n",
      "Requirement already satisfied: SQLAlchemy<3,>=1.4 in /opt/conda/lib/python3.10/site-packages (from langchain_community->deepeval) (2.0.40)\n",
      "Requirement already satisfied: PyYAML>=5.3 in /opt/conda/lib/python3.10/site-packages (from langchain_community->deepeval) (6.0.1)\n",
      "Requirement already satisfied: dataclasses-json<0.7,>=0.5.7 in /opt/conda/lib/python3.10/site-packages (from langchain_community->deepeval) (0.6.7)\n",
      "Requirement already satisfied: pydantic-settings<3.0.0,>=2.4.0 in /opt/conda/lib/python3.10/site-packages (from langchain_community->deepeval) (2.8.1)\n",
      "Requirement already satisfied: langsmith<0.4,>=0.1.125 in /opt/conda/lib/python3.10/site-packages (from langchain_community->deepeval) (0.3.32)\n",
      "Requirement already satisfied: httpx-sse<1.0.0,>=0.4.0 in /opt/conda/lib/python3.10/site-packages (from langchain_community->deepeval) (0.4.0)\n",
      "Requirement already satisfied: numpy<3,>=1.26.2 in /opt/conda/lib/python3.10/site-packages (from langchain_community->deepeval) (1.26.3)\n",
      "Requirement already satisfied: tiktoken<1,>=0.7 in /opt/conda/lib/python3.10/site-packages (from langchain_openai->deepeval) (0.9.0)\n",
      "Requirement already satisfied: llama-index-agent-openai<0.5.0,>=0.4.0 in /opt/conda/lib/python3.10/site-packages (from llama-index->deepeval) (0.4.6)\n",
      "Requirement already satisfied: llama-index-cli<0.5.0,>=0.4.1 in /opt/conda/lib/python3.10/site-packages (from llama-index->deepeval) (0.4.1)\n",
      "Requirement already satisfied: llama-index-core<0.13.0,>=0.12.31 in /opt/conda/lib/python3.10/site-packages (from llama-index->deepeval) (0.12.31)\n",
      "Requirement already satisfied: llama-index-embeddings-openai<0.4.0,>=0.3.0 in /opt/conda/lib/python3.10/site-packages (from llama-index->deepeval) (0.3.1)\n",
      "Requirement already satisfied: llama-index-indices-managed-llama-cloud>=0.4.0 in /opt/conda/lib/python3.10/site-packages (from llama-index->deepeval) (0.6.11)\n",
      "Requirement already satisfied: llama-index-llms-openai<0.4.0,>=0.3.0 in /opt/conda/lib/python3.10/site-packages (from llama-index->deepeval) (0.3.37)\n",
      "Requirement already satisfied: llama-index-multi-modal-llms-openai<0.5.0,>=0.4.0 in /opt/conda/lib/python3.10/site-packages (from llama-index->deepeval) (0.4.3)\n",
      "Requirement already satisfied: llama-index-program-openai<0.4.0,>=0.3.0 in /opt/conda/lib/python3.10/site-packages (from llama-index->deepeval) (0.3.1)\n",
      "Requirement already satisfied: llama-index-question-gen-openai<0.4.0,>=0.3.0 in /opt/conda/lib/python3.10/site-packages (from llama-index->deepeval) (0.3.0)\n",
      "Requirement already satisfied: llama-index-readers-file<0.5.0,>=0.4.0 in /opt/conda/lib/python3.10/site-packages (from llama-index->deepeval) (0.4.7)\n",
      "Requirement already satisfied: llama-index-readers-llama-parse>=0.4.0 in /opt/conda/lib/python3.10/site-packages (from llama-index->deepeval) (0.4.0)\n",
      "Requirement already satisfied: nltk>3.8.1 in /opt/conda/lib/python3.10/site-packages (from llama-index->deepeval) (3.9.1)\n",
      "Requirement already satisfied: execnet>=2.1 in /opt/conda/lib/python3.10/site-packages (from pytest-xdist->deepeval) (2.1.1)\n",
      "Requirement already satisfied: marshmallow<4.0.0,>=3.18.0 in /opt/conda/lib/python3.10/site-packages (from dataclasses-json<0.7,>=0.5.7->langchain_community->deepeval) (3.26.1)\n",
      "Requirement already satisfied: typing-inspect<1,>=0.4.0 in /opt/conda/lib/python3.10/site-packages (from dataclasses-json<0.7,>=0.5.7->langchain_community->deepeval) (0.9.0)\n",
      "Requirement already satisfied: wrapt<2,>=1.10 in /opt/conda/lib/python3.10/site-packages (from deprecated>=1.2.6->opentelemetry-api<2.0.0,>=1.24.0->deepeval) (1.17.2)\n",
      "Requirement already satisfied: cachetools<6.0,>=2.0.0 in /opt/conda/lib/python3.10/site-packages (from google-auth<3.0.0,>=2.14.1->google-genai<2.0.0,>=1.9.0->deepeval) (5.5.2)\n",
      "Requirement already satisfied: pyasn1-modules>=0.2.1 in /opt/conda/lib/python3.10/site-packages (from google-auth<3.0.0,>=2.14.1->google-genai<2.0.0,>=1.9.0->deepeval) (0.4.2)\n",
      "Requirement already satisfied: rsa<5,>=3.1.4 in /opt/conda/lib/python3.10/site-packages (from google-auth<3.0.0,>=2.14.1->google-genai<2.0.0,>=1.9.0->deepeval) (4.9.1)\n",
      "Requirement already satisfied: httpcore==1.* in /opt/conda/lib/python3.10/site-packages (from httpx<1,>=0.23.0->anthropic<0.50.0,>=0.49.0->deepeval) (1.0.7)\n",
      "Requirement already satisfied: h11<0.15,>=0.13 in /opt/conda/lib/python3.10/site-packages (from httpcore==1.*->httpx<1,>=0.23.0->anthropic<0.50.0,>=0.49.0->deepeval) (0.14.0)\n",
      "Requirement already satisfied: zipp>=3.20 in /opt/conda/lib/python3.10/site-packages (from importlib-metadata>=3.6->twine==5.1.1->deepeval) (3.21.0)\n",
      "Requirement already satisfied: MarkupSafe>=2.0 in /opt/conda/lib/python3.10/site-packages (from jinja2<4.0.0,>=3.1.4->instructor->deepeval) (2.1.3)\n",
      "Requirement already satisfied: SecretStorage>=3.2 in /opt/conda/lib/python3.10/site-packages (from keyring>=15.1->twine==5.1.1->deepeval) (3.3.3)\n",
      "Requirement already satisfied: jeepney>=0.4.2 in /opt/conda/lib/python3.10/site-packages (from keyring>=15.1->twine==5.1.1->deepeval) (0.9.0)\n",
      "Requirement already satisfied: jaraco.classes in /opt/conda/lib/python3.10/site-packages (from keyring>=15.1->twine==5.1.1->deepeval) (3.4.0)\n",
      "Requirement already satisfied: jaraco.functools in /opt/conda/lib/python3.10/site-packages (from keyring>=15.1->twine==5.1.1->deepeval) (4.1.0)\n",
      "Requirement already satisfied: jaraco.context in /opt/conda/lib/python3.10/site-packages (from keyring>=15.1->twine==5.1.1->deepeval) (6.0.1)\n",
      "Requirement already satisfied: langchain-text-splitters<1.0.0,>=0.3.8 in /opt/conda/lib/python3.10/site-packages (from langchain<1.0.0,>=0.3.23->langchain_community->deepeval) (0.3.8)\n",
      "Requirement already satisfied: jsonpatch<2.0,>=1.33 in /opt/conda/lib/python3.10/site-packages (from langchain-core<1.0.0,>=0.3.51->langchain_community->deepeval) (1.33)\n",
      "Requirement already satisfied: orjson<4.0.0,>=3.9.14 in /opt/conda/lib/python3.10/site-packages (from langsmith<0.4,>=0.1.125->langchain_community->deepeval) (3.10.16)\n",
      "Requirement already satisfied: zstandard<0.24.0,>=0.23.0 in /opt/conda/lib/python3.10/site-packages (from langsmith<0.4,>=0.1.125->langchain_community->deepeval) (0.23.0)\n",
      "Requirement already satisfied: banks<3.0.0,>=2.0.0 in /opt/conda/lib/python3.10/site-packages (from llama-index-core<0.13.0,>=0.12.31->llama-index->deepeval) (2.1.1)\n",
      "Requirement already satisfied: dirtyjson<2.0.0,>=1.0.8 in /opt/conda/lib/python3.10/site-packages (from llama-index-core<0.13.0,>=0.12.31->llama-index->deepeval) (1.0.8)\n",
      "Requirement already satisfied: filetype<2.0.0,>=1.2.0 in /opt/conda/lib/python3.10/site-packages (from llama-index-core<0.13.0,>=0.12.31->llama-index->deepeval) (1.2.0)\n",
      "Requirement already satisfied: fsspec>=2023.5.0 in /opt/conda/lib/python3.10/site-packages (from llama-index-core<0.13.0,>=0.12.31->llama-index->deepeval) (2024.2.0)\n",
      "Requirement already satisfied: nest-asyncio<2.0.0,>=1.5.8 in /opt/conda/lib/python3.10/site-packages (from llama-index-core<0.13.0,>=0.12.31->llama-index->deepeval) (1.6.0)\n",
      "Requirement already satisfied: networkx>=3.0 in /opt/conda/lib/python3.10/site-packages (from llama-index-core<0.13.0,>=0.12.31->llama-index->deepeval) (3.1)\n",
      "Requirement already satisfied: pillow>=9.0.0 in /opt/conda/lib/python3.10/site-packages (from llama-index-core<0.13.0,>=0.12.31->llama-index->deepeval) (10.2.0)\n",
      "Requirement already satisfied: llama-cloud<0.2.0,>=0.1.13 in /opt/conda/lib/python3.10/site-packages (from llama-index-indices-managed-llama-cloud>=0.4.0->llama-index->deepeval) (0.1.18)\n",
      "Requirement already satisfied: beautifulsoup4<5.0.0,>=4.12.3 in /opt/conda/lib/python3.10/site-packages (from llama-index-readers-file<0.5.0,>=0.4.0->llama-index->deepeval) (4.13.4)\n",
      "Requirement already satisfied: pandas in /opt/conda/lib/python3.10/site-packages (from llama-index-readers-file<0.5.0,>=0.4.0->llama-index->deepeval) (2.2.3)\n",
      "Requirement already satisfied: pypdf<6.0.0,>=5.1.0 in /opt/conda/lib/python3.10/site-packages (from llama-index-readers-file<0.5.0,>=0.4.0->llama-index->deepeval) (5.4.0)\n",
      "Requirement already satisfied: striprtf<0.0.27,>=0.0.26 in /opt/conda/lib/python3.10/site-packages (from llama-index-readers-file<0.5.0,>=0.4.0->llama-index->deepeval) (0.0.26)\n",
      "Requirement already satisfied: llama-parse>=0.5.0 in /opt/conda/lib/python3.10/site-packages (from llama-index-readers-llama-parse>=0.4.0->llama-index->deepeval) (0.6.12)\n",
      "Requirement already satisfied: mdurl~=0.1 in /opt/conda/lib/python3.10/site-packages (from markdown-it-py>=2.2.0->rich<14.0.0,>=13.6.0->deepeval) (0.1.2)\n",
      "Requirement already satisfied: joblib in /opt/conda/lib/python3.10/site-packages (from nltk>3.8.1->llama-index->deepeval) (1.4.2)\n",
      "Requirement already satisfied: regex>=2021.8.3 in /opt/conda/lib/python3.10/site-packages (from nltk>3.8.1->llama-index->deepeval) (2024.11.6)\n",
      "Requirement already satisfied: python-dotenv>=0.21.0 in /opt/conda/lib/python3.10/site-packages (from pydantic-settings<3.0.0,>=2.4.0->langchain_community->deepeval) (1.1.0)\n",
      "Requirement already satisfied: nh3>=0.2.14 in /opt/conda/lib/python3.10/site-packages (from readme-renderer>=35.0->twine==5.1.1->deepeval) (0.2.21)\n",
      "Requirement already satisfied: docutils>=0.21.2 in /opt/conda/lib/python3.10/site-packages (from readme-renderer>=35.0->twine==5.1.1->deepeval) (0.21.2)\n",
      "Requirement already satisfied: greenlet>=1 in /opt/conda/lib/python3.10/site-packages (from SQLAlchemy<3,>=1.4->langchain_community->deepeval) (3.2.0)\n",
      "Requirement already satisfied: griffe in /opt/conda/lib/python3.10/site-packages (from banks<3.0.0,>=2.0.0->llama-index-core<0.13.0,>=0.12.31->llama-index->deepeval) (1.7.2)\n",
      "Requirement already satisfied: soupsieve>1.2 in /opt/conda/lib/python3.10/site-packages (from beautifulsoup4<5.0.0,>=4.12.3->llama-index-readers-file<0.5.0,>=0.4.0->llama-index->deepeval) (2.5)\n",
      "Requirement already satisfied: jsonpointer>=1.9 in /opt/conda/lib/python3.10/site-packages (from jsonpatch<2.0,>=1.33->langchain-core<1.0.0,>=0.3.51->langchain_community->deepeval) (2.1)\n",
      "Requirement already satisfied: llama-cloud-services>=0.6.12 in /opt/conda/lib/python3.10/site-packages (from llama-parse>=0.5.0->llama-index-readers-llama-parse>=0.4.0->llama-index->deepeval) (0.6.12)\n",
      "Requirement already satisfied: pyasn1<0.7.0,>=0.6.1 in /opt/conda/lib/python3.10/site-packages (from pyasn1-modules>=0.2.1->google-auth<3.0.0,>=2.14.1->google-genai<2.0.0,>=1.9.0->deepeval) (0.6.1)\n",
      "Requirement already satisfied: cryptography>=2.0 in /opt/conda/lib/python3.10/site-packages (from SecretStorage>=3.2->keyring>=15.1->twine==5.1.1->deepeval) (42.0.2)\n",
      "Requirement already satisfied: more-itertools in /opt/conda/lib/python3.10/site-packages (from jaraco.classes->keyring>=15.1->twine==5.1.1->deepeval) (10.1.0)\n",
      "Requirement already satisfied: backports.tarfile in /opt/conda/lib/python3.10/site-packages (from jaraco.context->keyring>=15.1->twine==5.1.1->deepeval) (1.2.0)\n",
      "Requirement already satisfied: pytz>=2020.1 in /opt/conda/lib/python3.10/site-packages (from pandas->llama-index-readers-file<0.5.0,>=0.4.0->llama-index->deepeval) (2023.3.post1)\n",
      "Requirement already satisfied: tzdata>=2022.7 in /opt/conda/lib/python3.10/site-packages (from pandas->llama-index-readers-file<0.5.0,>=0.4.0->llama-index->deepeval) (2025.2)\n",
      "Requirement already satisfied: cffi>=1.12 in /opt/conda/lib/python3.10/site-packages (from cryptography>=2.0->SecretStorage>=3.2->keyring>=15.1->twine==5.1.1->deepeval) (1.16.0)\n",
      "Requirement already satisfied: colorama>=0.4 in /opt/conda/lib/python3.10/site-packages (from griffe->banks<3.0.0,>=2.0.0->llama-index-core<0.13.0,>=0.12.31->llama-index->deepeval) (0.4.6)\n",
      "Requirement already satisfied: pycparser in /opt/conda/lib/python3.10/site-packages (from cffi>=1.12->cryptography>=2.0->SecretStorage>=3.2->keyring>=15.1->twine==5.1.1->deepeval) (2.21)\n",
      "\u001b[33mWARNING: Running pip as the 'root' user can result in broken permissions and conflicting behaviour with the system package manager. It is recommended to use a virtual environment instead: https://pip.pypa.io/warnings/venv\u001b[0m\u001b[33m\n",
      "\u001b[0m"
     ]
    }
   ],
   "source": [
    "!pip install --upgrade pydantic typing_extensions deepeval"
   ]
  },
  {
   "cell_type": "markdown",
   "metadata": {},
   "source": [
    "I RESTART the kernel due to unexpected issue.\n",
    "\n",
    "This time, I will simply load the saved df file generated_answers.xlsx\n",
    "\n",
    "if you see some red sign from BertScore, that is because I restart the kernel."
   ]
  },
  {
   "cell_type": "code",
   "execution_count": 3,
   "metadata": {},
   "outputs": [
    {
     "name": "stdout",
     "output_type": "stream",
     "text": [
      "✅ DataFrame reloaded successfully!\n",
      "                AnswerID    Unnamed: 2              Unnamed: 3  \\\n",
      "0  ADAM_0002818_Sec1.txt  3-Incomplete   ADAM_0002818_Sec1.txt   \n",
      "1  ADAM_0002818_Sec2.txt  3-Incomplete   ADAM_0002818_Sec2.txt   \n",
      "2  GARD_0004450_Sec1.txt  3-Incomplete   GARD_0004450_Sec1.txt   \n",
      "3  GARD_0004450_Sec2.txt  3-Incomplete   GARD_0004450_Sec2.txt   \n",
      "4  GARD_0004450_Sec3.txt  3-Incomplete   GARD_0004450_Sec3.txt   \n",
      "\n",
      "                                            Question  \\\n",
      "0                    What is (are) Noonan syndrome ?   \n",
      "1                      What causes Noonan syndrome ?   \n",
      "2  What is (are) Noonan syndrome ? (Also called: ...   \n",
      "3  What are the symptoms of Noonan syndrome ? (Al...   \n",
      "4  Is Noonan syndrome inherited ? (Also called: M...   \n",
      "\n",
      "                                              Answer  \\\n",
      "0  Noonan syndrome is a disease that can be passe...   \n",
      "1  Noonan syndrome is linked to defects in severa...   \n",
      "2  Noonan syndrome is a genetic disorder that cau...   \n",
      "3  What are the signs and symptoms of Noonan synd...   \n",
      "4  How is Noonan syndrome inherited? Noonan syndr...   \n",
      "\n",
      "                                        Model_Answer  \n",
      "0  Noonan syndrome is a disease that can be passe...  \n",
      "1  Noonan syndrome is linked to defects in severa...  \n",
      "2  Noonan syndrome is a genetic disorder that cau...  \n",
      "3  What are the signs and symptoms of Noonan synd...  \n",
      "4  How is Noonan syndrome inherited? Noonan syndr...  \n"
     ]
    }
   ],
   "source": [
    "import pandas as pd\n",
    "\n",
    "# Load the saved Excel file\n",
    "df = pd.read_excel(\"generated_answers.xlsx\")\n",
    "\n",
    "print(\"✅ DataFrame reloaded successfully!\")\n",
    "print(df.head())  # Display the first few rows to verify"
   ]
  },
  {
   "cell_type": "code",
   "execution_count": null,
   "metadata": {},
   "outputs": [],
   "source": [
    "import os\n",
    "os.environ[\"OPENAI_API_KEY\"] = \"\" # USE YOUR OWN TOKEN!"
   ]
  },
  {
   "cell_type": "code",
   "execution_count": 5,
   "metadata": {
    "scrolled": true
   },
   "outputs": [
    {
     "data": {
      "application/vnd.jupyter.widget-view+json": {
       "model_id": "55eda75fb972425eb2c81875dfb0da64",
       "version_major": 2,
       "version_minor": 0
      },
      "text/plain": [
       "Output()"
      ]
     },
     "metadata": {},
     "output_type": "display_data"
    },
    {
     "name": "stdout",
     "output_type": "stream",
     "text": [
      "\n",
      "--- [Row 0] ---\n",
      "Question: What is (are) Noonan syndrome ?\n",
      "Model_Answer: Noonan syndrome is a disease that can be passed down through families (inherited). It causes many pa\n",
      "Reference Answer: Noonan syndrome is a disease that can be passed down through families (inherited). It causes many pa\n"
     ]
    },
    {
     "data": {
      "text/html": [
       "<pre style=\"white-space:pre;overflow-x:auto;line-height:normal;font-family:Menlo,'DejaVu Sans Mono',consolas,'Courier New',monospace\"></pre>\n"
      ],
      "text/plain": []
     },
     "metadata": {},
     "output_type": "display_data"
    },
    {
     "data": {
      "application/vnd.jupyter.widget-view+json": {
       "model_id": "d955828f1bb344339aee79fb89ec32c8",
       "version_major": 2,
       "version_minor": 0
      },
      "text/plain": [
       "Output()"
      ]
     },
     "metadata": {},
     "output_type": "display_data"
    },
    {
     "name": "stdout",
     "output_type": "stream",
     "text": [
      "[0] 🎯 Correctness Score (raw): 0.7810623892820897\n",
      "\n",
      "--- [Row 1] ---\n",
      "Question: What causes Noonan syndrome ?\n",
      "Model_Answer: Noonan syndrome is linked to defects in several genes. Certain proteins involved in growth and devel\n",
      "Reference Answer: Noonan syndrome is linked to defects in several genes. Certain proteins involved in growth and devel\n"
     ]
    },
    {
     "data": {
      "text/html": [
       "<pre style=\"white-space:pre;overflow-x:auto;line-height:normal;font-family:Menlo,'DejaVu Sans Mono',consolas,'Courier New',monospace\"></pre>\n"
      ],
      "text/plain": []
     },
     "metadata": {},
     "output_type": "display_data"
    },
    {
     "data": {
      "application/vnd.jupyter.widget-view+json": {
       "model_id": "7c5c52ed11e14d3ab66741dcbb29fe44",
       "version_major": 2,
       "version_minor": 0
      },
      "text/plain": [
       "Output()"
      ]
     },
     "metadata": {},
     "output_type": "display_data"
    },
    {
     "name": "stdout",
     "output_type": "stream",
     "text": [
      "[1] 🎯 Correctness Score (raw): 0.6326306077523007\n",
      "\n",
      "--- [Row 2] ---\n",
      "Question: What is (are) Noonan syndrome ? (Also called: Male Turner Syndrome; Noonan-Ehmke syndrome; Ullrich-N\n",
      "Model_Answer: Noonan syndrome is a genetic disorder that causes abnormal development of multiple parts of the body\n",
      "Reference Answer: Noonan syndrome is a genetic disorder that causes abnormal development of multiple parts of the body\n"
     ]
    },
    {
     "data": {
      "text/html": [
       "<pre style=\"white-space:pre;overflow-x:auto;line-height:normal;font-family:Menlo,'DejaVu Sans Mono',consolas,'Courier New',monospace\"></pre>\n"
      ],
      "text/plain": []
     },
     "metadata": {},
     "output_type": "display_data"
    },
    {
     "data": {
      "application/vnd.jupyter.widget-view+json": {
       "model_id": "d7b6634461ee47108066c175dfbec42e",
       "version_major": 2,
       "version_minor": 0
      },
      "text/plain": [
       "Output()"
      ]
     },
     "metadata": {},
     "output_type": "display_data"
    },
    {
     "name": "stdout",
     "output_type": "stream",
     "text": [
      "[2] 🎯 Correctness Score (raw): 0.7260257600474922\n",
      "\n",
      "--- [Row 3] ---\n",
      "Question: What are the symptoms of Noonan syndrome ? (Also called: Male Turner Syndrome; Noonan-Ehmke syndrome\n",
      "Model_Answer: What are the signs and symptoms of Noonan syndrome? The Human Phenotype Ontology provides the follow\n",
      "Reference Answer: What are the signs and symptoms of Noonan syndrome? The Human Phenotype Ontology provides the follow\n"
     ]
    },
    {
     "data": {
      "text/html": [
       "<pre style=\"white-space:pre;overflow-x:auto;line-height:normal;font-family:Menlo,'DejaVu Sans Mono',consolas,'Courier New',monospace\"></pre>\n"
      ],
      "text/plain": []
     },
     "metadata": {},
     "output_type": "display_data"
    },
    {
     "data": {
      "application/vnd.jupyter.widget-view+json": {
       "model_id": "c62d0f43fe7d4a4fba9b1a1e755c7481",
       "version_major": 2,
       "version_minor": 0
      },
      "text/plain": [
       "Output()"
      ]
     },
     "metadata": {},
     "output_type": "display_data"
    },
    {
     "name": "stdout",
     "output_type": "stream",
     "text": [
      "[3] 🎯 Correctness Score (raw): 0.7883687944857891\n",
      "\n",
      "--- [Row 4] ---\n",
      "Question: Is Noonan syndrome inherited ? (Also called: Male Turner Syndrome; Noonan-Ehmke syndrome; Ullrich-No\n",
      "Model_Answer: How is Noonan syndrome inherited? Noonan syndrome is inherited in an autosomal dominant manner. This\n",
      "Reference Answer: How is Noonan syndrome inherited? Noonan syndrome is inherited in an autosomal dominant manner. This\n"
     ]
    },
    {
     "data": {
      "text/html": [
       "<pre style=\"white-space:pre;overflow-x:auto;line-height:normal;font-family:Menlo,'DejaVu Sans Mono',consolas,'Courier New',monospace\"></pre>\n"
      ],
      "text/plain": []
     },
     "metadata": {},
     "output_type": "display_data"
    },
    {
     "data": {
      "application/vnd.jupyter.widget-view+json": {
       "model_id": "77053a58b4c74772a27c164cc4746a50",
       "version_major": 2,
       "version_minor": 0
      },
      "text/plain": [
       "Output()"
      ]
     },
     "metadata": {},
     "output_type": "display_data"
    },
    {
     "name": "stdout",
     "output_type": "stream",
     "text": [
      "[4] 🎯 Correctness Score (raw): 0.8385195751186574\n",
      "\n",
      "--- [Row 5] ---\n",
      "Question: What is (are) polycystic kidney disease ? (Also called: PKD; polycystic renal disease)\n",
      "Model_Answer: Polycystic kidney disease is a disorder that affects the kidneys and other organs. Clusters of fluid\n",
      "Reference Answer: Polycystic kidney disease is a disorder that affects the kidneys and other organs. Clusters of fluid\n"
     ]
    },
    {
     "data": {
      "text/html": [
       "<pre style=\"white-space:pre;overflow-x:auto;line-height:normal;font-family:Menlo,'DejaVu Sans Mono',consolas,'Courier New',monospace\"></pre>\n"
      ],
      "text/plain": []
     },
     "metadata": {},
     "output_type": "display_data"
    },
    {
     "data": {
      "application/vnd.jupyter.widget-view+json": {
       "model_id": "fdd3e107f8244a75b50dcd43d4449266",
       "version_major": 2,
       "version_minor": 0
      },
      "text/plain": [
       "Output()"
      ]
     },
     "metadata": {},
     "output_type": "display_data"
    },
    {
     "name": "stdout",
     "output_type": "stream",
     "text": [
      "[5] 🎯 Correctness Score (raw): 0.8140259235406587\n",
      "\n",
      "--- [Row 6] ---\n",
      "Question: What are the genetic changes related to polycystic kidney disease ? (Also called: PKD; polycystic re\n",
      "Model_Answer: Mutations in the PKD1, PKD2, and PKHD1 genes cause polycystic kidney disease.  Mutations in either t\n",
      "Reference Answer: Mutations in the PKD1, PKD2, and PKHD1 genes cause polycystic kidney disease.  Mutations in either t\n"
     ]
    },
    {
     "data": {
      "text/html": [
       "<pre style=\"white-space:pre;overflow-x:auto;line-height:normal;font-family:Menlo,'DejaVu Sans Mono',consolas,'Courier New',monospace\"></pre>\n"
      ],
      "text/plain": []
     },
     "metadata": {},
     "output_type": "display_data"
    },
    {
     "data": {
      "application/vnd.jupyter.widget-view+json": {
       "model_id": "c9dd932865fc48e388ed9058b0b91e33",
       "version_major": 2,
       "version_minor": 0
      },
      "text/plain": [
       "Output()"
      ]
     },
     "metadata": {},
     "output_type": "display_data"
    },
    {
     "name": "stdout",
     "output_type": "stream",
     "text": [
      "[6] 🎯 Correctness Score (raw): 0.9056778884616244\n",
      "\n",
      "--- [Row 7] ---\n",
      "Question: Is polycystic kidney disease inherited ? (Also called: PKD; polycystic renal disease)\n",
      "Model_Answer: Most cases of polycystic kidney disease have an autosomal dominant pattern of inheritance. People wi\n",
      "Reference Answer: Most cases of polycystic kidney disease have an autosomal dominant pattern of inheritance. People wi\n"
     ]
    },
    {
     "data": {
      "text/html": [
       "<pre style=\"white-space:pre;overflow-x:auto;line-height:normal;font-family:Menlo,'DejaVu Sans Mono',consolas,'Courier New',monospace\"></pre>\n"
      ],
      "text/plain": []
     },
     "metadata": {},
     "output_type": "display_data"
    },
    {
     "data": {
      "application/vnd.jupyter.widget-view+json": {
       "model_id": "7427289df3ec42cdb5794aa8c2eedee0",
       "version_major": 2,
       "version_minor": 0
      },
      "text/plain": [
       "Output()"
      ]
     },
     "metadata": {},
     "output_type": "display_data"
    },
    {
     "name": "stdout",
     "output_type": "stream",
     "text": [
      "[7] 🎯 Correctness Score (raw): 0.87072710615627\n",
      "\n",
      "--- [Row 8] ---\n",
      "Question: How should Zolmitriptan be used and what is the dosage ?\n",
      "Model_Answer: Zolmitriptan comes as a tablet and an orally disintegrating tablet (tablet that dissolves quickly in\n",
      "Reference Answer: Zolmitriptan comes as a tablet and an orally disintegrating tablet (tablet that dissolves quickly in\n"
     ]
    },
    {
     "data": {
      "text/html": [
       "<pre style=\"white-space:pre;overflow-x:auto;line-height:normal;font-family:Menlo,'DejaVu Sans Mono',consolas,'Courier New',monospace\"></pre>\n"
      ],
      "text/plain": []
     },
     "metadata": {},
     "output_type": "display_data"
    },
    {
     "data": {
      "application/vnd.jupyter.widget-view+json": {
       "model_id": "ec20e26dc4574a239dcdd1f9a80592ce",
       "version_major": 2,
       "version_minor": 0
      },
      "text/plain": [
       "Output()"
      ]
     },
     "metadata": {},
     "output_type": "display_data"
    },
    {
     "name": "stdout",
     "output_type": "stream",
     "text": [
      "[8] 🎯 Correctness Score (raw): 0.7381560904055384\n",
      "\n",
      "--- [Row 9] ---\n",
      "Question: What are the side effects or risks of Zolmitriptan ?\n",
      "Model_Answer: Zolmitriptan may cause side effects. Tell your doctor if any of these symptoms are severe or do not \n",
      "Reference Answer: Zolmitriptan may cause side effects. Tell your doctor if any of these symptoms are severe or do not \n"
     ]
    },
    {
     "data": {
      "text/html": [
       "<pre style=\"white-space:pre;overflow-x:auto;line-height:normal;font-family:Menlo,'DejaVu Sans Mono',consolas,'Courier New',monospace\"></pre>\n"
      ],
      "text/plain": []
     },
     "metadata": {},
     "output_type": "display_data"
    },
    {
     "data": {
      "application/vnd.jupyter.widget-view+json": {
       "model_id": "44beef0a71f14fd4bfbf8c29f4dafe97",
       "version_major": 2,
       "version_minor": 0
      },
      "text/plain": [
       "Output()"
      ]
     },
     "metadata": {},
     "output_type": "display_data"
    },
    {
     "name": "stdout",
     "output_type": "stream",
     "text": [
      "[9] 🎯 Correctness Score (raw): 0.9404931597807824\n",
      "\n",
      "--- [Row 10] ---\n",
      "Question: What causes Syphilis - primary ? (Also called: Primary syphilis; Secondary syphilis; Late syphilis; \n",
      "Model_Answer: Syphilis is a sexually transmitted, infectious disease caused by the spirochete bacterium Treponema \n",
      "Reference Answer: Syphilis is a sexually transmitted, infectious disease caused by the spirochete bacterium Treponema \n"
     ]
    },
    {
     "data": {
      "text/html": [
       "<pre style=\"white-space:pre;overflow-x:auto;line-height:normal;font-family:Menlo,'DejaVu Sans Mono',consolas,'Courier New',monospace\"></pre>\n"
      ],
      "text/plain": []
     },
     "metadata": {},
     "output_type": "display_data"
    },
    {
     "data": {
      "application/vnd.jupyter.widget-view+json": {
       "model_id": "9ebe0b97f1ac4da49dfed0007495ea9a",
       "version_major": 2,
       "version_minor": 0
      },
      "text/plain": [
       "Output()"
      ]
     },
     "metadata": {},
     "output_type": "display_data"
    },
    {
     "name": "stdout",
     "output_type": "stream",
     "text": [
      "[10] 🎯 Correctness Score (raw): 0.6229214541465331\n",
      "\n",
      "--- [Row 11] ---\n",
      "Question: What are the symptoms of Syphilis - primary ? (Also called: Primary syphilis; Secondary syphilis; La\n",
      "Model_Answer: Symptoms of primary syphilis are:  - Small, painless open sore or ulcer (called a chancre) on the ge\n",
      "Reference Answer: Symptoms of primary syphilis are:  - Small, painless open sore or ulcer (called a chancre) on the ge\n"
     ]
    },
    {
     "data": {
      "text/html": [
       "<pre style=\"white-space:pre;overflow-x:auto;line-height:normal;font-family:Menlo,'DejaVu Sans Mono',consolas,'Courier New',monospace\"></pre>\n"
      ],
      "text/plain": []
     },
     "metadata": {},
     "output_type": "display_data"
    },
    {
     "data": {
      "application/vnd.jupyter.widget-view+json": {
       "model_id": "7635a42c0ce44924b6b0037203fdfd17",
       "version_major": 2,
       "version_minor": 0
      },
      "text/plain": [
       "Output()"
      ]
     },
     "metadata": {},
     "output_type": "display_data"
    },
    {
     "name": "stdout",
     "output_type": "stream",
     "text": [
      "[11] 🎯 Correctness Score (raw): 0.49191051449297724\n",
      "\n",
      "--- [Row 12] ---\n",
      "Question: Do I need to see a doctor for Syphilis - primary ? (Also called: Primary syphilis; Secondary syphili\n",
      "Model_Answer: Call for an appointment with your health care provider if you have symptoms of syphilis.  Contact yo\n",
      "Reference Answer: Call for an appointment with your health care provider if you have symptoms of syphilis.  Contact yo\n"
     ]
    },
    {
     "data": {
      "text/html": [
       "<pre style=\"white-space:pre;overflow-x:auto;line-height:normal;font-family:Menlo,'DejaVu Sans Mono',consolas,'Courier New',monospace\"></pre>\n"
      ],
      "text/plain": []
     },
     "metadata": {},
     "output_type": "display_data"
    },
    {
     "data": {
      "application/vnd.jupyter.widget-view+json": {
       "model_id": "fe87ffb6f7724847927cb99a09f1e6d7",
       "version_major": 2,
       "version_minor": 0
      },
      "text/plain": [
       "Output()"
      ]
     },
     "metadata": {},
     "output_type": "display_data"
    },
    {
     "name": "stdout",
     "output_type": "stream",
     "text": [
      "[12] 🎯 Correctness Score (raw): 0.7699007965342963\n",
      "\n",
      "--- [Row 13] ---\n",
      "Question: What is (are) Syphilis ?\n",
      "Model_Answer: Syphilis is a sexually transmitted disease caused by bacteria. It infects the genital area, lips, mo\n",
      "Reference Answer: Syphilis is a sexually transmitted disease caused by bacteria. It infects the genital area, lips, mo\n"
     ]
    },
    {
     "data": {
      "text/html": [
       "<pre style=\"white-space:pre;overflow-x:auto;line-height:normal;font-family:Menlo,'DejaVu Sans Mono',consolas,'Courier New',monospace\"></pre>\n"
      ],
      "text/plain": []
     },
     "metadata": {},
     "output_type": "display_data"
    },
    {
     "data": {
      "application/vnd.jupyter.widget-view+json": {
       "model_id": "316f0ba2f6fe4ae48bea5aa019e35c68",
       "version_major": 2,
       "version_minor": 0
      },
      "text/plain": [
       "Output()"
      ]
     },
     "metadata": {},
     "output_type": "display_data"
    },
    {
     "name": "stdout",
     "output_type": "stream",
     "text": [
      "[13] 🎯 Correctness Score (raw): 0.8467307326979547\n",
      "\n",
      "--- [Row 14] ---\n",
      "Question: How to diagnose Syphilis - primary ? (Also called: Primary syphilis; Secondary syphilis; Late syphil\n",
      "Model_Answer: The doctor or nurse will examine you. Tests that may be done include:  - Examination of fluid from s\n",
      "Reference Answer: The doctor or nurse will examine you. Tests that may be done include:  - Examination of fluid from s\n"
     ]
    },
    {
     "data": {
      "text/html": [
       "<pre style=\"white-space:pre;overflow-x:auto;line-height:normal;font-family:Menlo,'DejaVu Sans Mono',consolas,'Courier New',monospace\"></pre>\n"
      ],
      "text/plain": []
     },
     "metadata": {},
     "output_type": "display_data"
    },
    {
     "data": {
      "application/vnd.jupyter.widget-view+json": {
       "model_id": "b825299329574d22be0360e96d8ab866",
       "version_major": 2,
       "version_minor": 0
      },
      "text/plain": [
       "Output()"
      ]
     },
     "metadata": {},
     "output_type": "display_data"
    },
    {
     "name": "stdout",
     "output_type": "stream",
     "text": [
      "[14] 🎯 Correctness Score (raw): 0.6890464638037613\n",
      "\n",
      "--- [Row 15] ---\n",
      "Question: What are the treatments for Syphilis - primary ? (Also called: Primary syphilis; Secondary syphilis;\n",
      "Model_Answer: Syphilis can be treated with antibiotics, such as:   - Doxycycline  - Penicillin G benzathine  - Tet\n",
      "Reference Answer: Syphilis can be treated with antibiotics, such as:   - Doxycycline  - Penicillin G benzathine  - Tet\n"
     ]
    },
    {
     "data": {
      "text/html": [
       "<pre style=\"white-space:pre;overflow-x:auto;line-height:normal;font-family:Menlo,'DejaVu Sans Mono',consolas,'Courier New',monospace\"></pre>\n"
      ],
      "text/plain": []
     },
     "metadata": {},
     "output_type": "display_data"
    },
    {
     "data": {
      "application/vnd.jupyter.widget-view+json": {
       "model_id": "819b203a4af640c38d50457f0fccb094",
       "version_major": 2,
       "version_minor": 0
      },
      "text/plain": [
       "Output()"
      ]
     },
     "metadata": {},
     "output_type": "display_data"
    },
    {
     "name": "stdout",
     "output_type": "stream",
     "text": [
      "[15] 🎯 Correctness Score (raw): 0.7504562260301669\n",
      "\n",
      "--- [Row 16] ---\n",
      "Question: How to prevent Syphilis - primary ? (Also called: Primary syphilis; Secondary syphilis; Late syphili\n",
      "Model_Answer: If you are sexually active, practice safe sex and always use a condom.  All pregnant women should be\n",
      "Reference Answer: If you are sexually active, practice safe sex and always use a condom.  All pregnant women should be\n"
     ]
    },
    {
     "data": {
      "text/html": [
       "<pre style=\"white-space:pre;overflow-x:auto;line-height:normal;font-family:Menlo,'DejaVu Sans Mono',consolas,'Courier New',monospace\"></pre>\n"
      ],
      "text/plain": []
     },
     "metadata": {},
     "output_type": "display_data"
    },
    {
     "data": {
      "application/vnd.jupyter.widget-view+json": {
       "model_id": "22dbbde70a304ca2919bbc345cc65181",
       "version_major": 2,
       "version_minor": 0
      },
      "text/plain": [
       "Output()"
      ]
     },
     "metadata": {},
     "output_type": "display_data"
    },
    {
     "name": "stdout",
     "output_type": "stream",
     "text": [
      "[16] 🎯 Correctness Score (raw): 0.5350873850643881\n",
      "\n",
      "--- [Row 17] ---\n",
      "Question: How should Glucagon be used and what is the dosage ?\n",
      "Model_Answer: Glucagon is usually given by injection beneath the skin, in the muscle, or in the vein. It comes as \n",
      "Reference Answer: Glucagon is usually given by injection beneath the skin, in the muscle, or in the vein. It comes as \n"
     ]
    },
    {
     "data": {
      "text/html": [
       "<pre style=\"white-space:pre;overflow-x:auto;line-height:normal;font-family:Menlo,'DejaVu Sans Mono',consolas,'Courier New',monospace\"></pre>\n"
      ],
      "text/plain": []
     },
     "metadata": {},
     "output_type": "display_data"
    },
    {
     "data": {
      "application/vnd.jupyter.widget-view+json": {
       "model_id": "c8843d3e061d4b33b29296f8ea9d468b",
       "version_major": 2,
       "version_minor": 0
      },
      "text/plain": [
       "Output()"
      ]
     },
     "metadata": {},
     "output_type": "display_data"
    },
    {
     "name": "stdout",
     "output_type": "stream",
     "text": [
      "[17] 🎯 Correctness Score (raw): 0.6524840545760398\n",
      "\n",
      "--- [Row 18] ---\n",
      "Question: What causes Laryngeal nerve damage ? (Also called: Vocal cord paralysis)\n",
      "Model_Answer: Injury to the laryngeal nerves is uncommon.  When it does occur, it can be from:  - A complication o\n",
      "Reference Answer: Injury to the laryngeal nerves is uncommon.  When it does occur, it can be from:  - A complication o\n"
     ]
    },
    {
     "data": {
      "text/html": [
       "<pre style=\"white-space:pre;overflow-x:auto;line-height:normal;font-family:Menlo,'DejaVu Sans Mono',consolas,'Courier New',monospace\"></pre>\n"
      ],
      "text/plain": []
     },
     "metadata": {},
     "output_type": "display_data"
    },
    {
     "data": {
      "application/vnd.jupyter.widget-view+json": {
       "model_id": "08094fd5d888480c98e7700c84f00e45",
       "version_major": 2,
       "version_minor": 0
      },
      "text/plain": [
       "Output()"
      ]
     },
     "metadata": {},
     "output_type": "display_data"
    },
    {
     "name": "stdout",
     "output_type": "stream",
     "text": [
      "[18] 🎯 Correctness Score (raw): 0.6945822346029265\n",
      "\n",
      "--- [Row 19] ---\n",
      "Question: Do you have information about Birth control pill overdose\n",
      "Model_Answer: Summary : Birth control pills, also called oral contraceptives, are prescription medicines used to p\n",
      "Reference Answer: Summary : Birth control pills, also called oral contraceptives, are prescription medicines used to p\n"
     ]
    },
    {
     "data": {
      "text/html": [
       "<pre style=\"white-space:pre;overflow-x:auto;line-height:normal;font-family:Menlo,'DejaVu Sans Mono',consolas,'Courier New',monospace\"></pre>\n"
      ],
      "text/plain": []
     },
     "metadata": {},
     "output_type": "display_data"
    },
    {
     "data": {
      "application/vnd.jupyter.widget-view+json": {
       "model_id": "f82f658531ef463383a05700c76af4b3",
       "version_major": 2,
       "version_minor": 0
      },
      "text/plain": [
       "Output()"
      ]
     },
     "metadata": {},
     "output_type": "display_data"
    },
    {
     "name": "stdout",
     "output_type": "stream",
     "text": [
      "[19] 🎯 Correctness Score (raw): 0.8742497090128916\n",
      "\n",
      "--- [Row 20] ---\n",
      "Question: What causes Deep Vein Thrombosis ?\n",
      "Model_Answer: Blood clots can form in your body's deep veins if:  - You have a blood clot in another part of your \n",
      "Reference Answer: Blood clots can form in your body's deep veins if:\n"
     ]
    },
    {
     "data": {
      "text/html": [
       "<pre style=\"white-space:pre;overflow-x:auto;line-height:normal;font-family:Menlo,'DejaVu Sans Mono',consolas,'Courier New',monospace\"></pre>\n"
      ],
      "text/plain": []
     },
     "metadata": {},
     "output_type": "display_data"
    },
    {
     "data": {
      "application/vnd.jupyter.widget-view+json": {
       "model_id": "b9bf10384a244e05b30a7071b878226b",
       "version_major": 2,
       "version_minor": 0
      },
      "text/plain": [
       "Output()"
      ]
     },
     "metadata": {},
     "output_type": "display_data"
    },
    {
     "name": "stdout",
     "output_type": "stream",
     "text": [
      "[20] 🎯 Correctness Score (raw): 0.7484496439678527\n",
      "\n",
      "--- [Row 21] ---\n",
      "Question: What causes Post-streptococcal glomerulonephritis (GN) ? (Also called: Glomerulonephritis - post-str\n",
      "Model_Answer: Post-streptococcal GN is a form of glomerulonephritis. It is caused by an infection with a type of s\n",
      "Reference Answer: Post-streptococcal GN is a form of glomerulonephritis. It is caused by an infection with a type of s\n"
     ]
    },
    {
     "data": {
      "text/html": [
       "<pre style=\"white-space:pre;overflow-x:auto;line-height:normal;font-family:Menlo,'DejaVu Sans Mono',consolas,'Courier New',monospace\"></pre>\n"
      ],
      "text/plain": []
     },
     "metadata": {},
     "output_type": "display_data"
    },
    {
     "data": {
      "application/vnd.jupyter.widget-view+json": {
       "model_id": "67ecb77d5249465eb4ebcb3a330fd634",
       "version_major": 2,
       "version_minor": 0
      },
      "text/plain": [
       "Output()"
      ]
     },
     "metadata": {},
     "output_type": "display_data"
    },
    {
     "name": "stdout",
     "output_type": "stream",
     "text": [
      "[21] 🎯 Correctness Score (raw): 0.8146093445231287\n",
      "\n",
      "--- [Row 22] ---\n",
      "Question: What is (are) granulomatosis with polyangiitis ? (Also called: GPA; Wegener granulomatosis; Wegener'\n",
      "Model_Answer: Granulomatosis with polyangiitis (GPA) is a condition that causes inflammation that primarily affect\n",
      "Reference Answer: Granulomatosis with polyangiitis (GPA) is a condition that causes inflammation that primarily affect\n"
     ]
    },
    {
     "data": {
      "text/html": [
       "<pre style=\"white-space:pre;overflow-x:auto;line-height:normal;font-family:Menlo,'DejaVu Sans Mono',consolas,'Courier New',monospace\"></pre>\n"
      ],
      "text/plain": []
     },
     "metadata": {},
     "output_type": "display_data"
    },
    {
     "data": {
      "application/vnd.jupyter.widget-view+json": {
       "model_id": "c5f3bd30d3604b749e19c21bfb738b90",
       "version_major": 2,
       "version_minor": 0
      },
      "text/plain": [
       "Output()"
      ]
     },
     "metadata": {},
     "output_type": "display_data"
    },
    {
     "name": "stdout",
     "output_type": "stream",
     "text": [
      "[22] 🎯 Correctness Score (raw): 0.8130291509379906\n",
      "\n",
      "--- [Row 23] ---\n",
      "Question: What is (are) Streptococcal Infections ? (Also called: Strep)\n",
      "Model_Answer: Streptococcal infections are caused by bacteria of the genus Streptococcus. There are two types: gro\n",
      "Reference Answer: Strep is short for Streptococcus, a type of bacteria. There are two types: group A and group B.    G\n"
     ]
    },
    {
     "data": {
      "text/html": [
       "<pre style=\"white-space:pre;overflow-x:auto;line-height:normal;font-family:Menlo,'DejaVu Sans Mono',consolas,'Courier New',monospace\"></pre>\n"
      ],
      "text/plain": []
     },
     "metadata": {},
     "output_type": "display_data"
    },
    {
     "data": {
      "application/vnd.jupyter.widget-view+json": {
       "model_id": "ea3be54497524a97b428c704afb3fc28",
       "version_major": 2,
       "version_minor": 0
      },
      "text/plain": [
       "Output()"
      ]
     },
     "metadata": {},
     "output_type": "display_data"
    },
    {
     "name": "stdout",
     "output_type": "stream",
     "text": [
      "[23] 🎯 Correctness Score (raw): 0.8396815511946926\n",
      "\n",
      "--- [Row 24] ---\n",
      "Question: What causes Granulomatosis with polyangiitis ? (Also called: Formerly: Wegener's granulomatosis)\n",
      "Model_Answer: GPA mainly affects blood vessels in the nose, sinuses, ears, lungs, and kidneys. Other areas may als\n",
      "Reference Answer: GPA mainly affects blood vessels in the nose, sinuses, ears, lungs, and kidneys. Other areas may als\n"
     ]
    },
    {
     "data": {
      "text/html": [
       "<pre style=\"white-space:pre;overflow-x:auto;line-height:normal;font-family:Menlo,'DejaVu Sans Mono',consolas,'Courier New',monospace\"></pre>\n"
      ],
      "text/plain": []
     },
     "metadata": {},
     "output_type": "display_data"
    },
    {
     "data": {
      "application/vnd.jupyter.widget-view+json": {
       "model_id": "a44d4ed611434e8980225dcedfb544c8",
       "version_major": 2,
       "version_minor": 0
      },
      "text/plain": [
       "Output()"
      ]
     },
     "metadata": {},
     "output_type": "display_data"
    },
    {
     "name": "stdout",
     "output_type": "stream",
     "text": [
      "[24] 🎯 Correctness Score (raw): 0.6095701560916656\n",
      "\n",
      "--- [Row 25] ---\n",
      "Question: What is (are) Streptococcal Infections ? (Also called: Strep)\n",
      "Model_Answer: Streptococcal infections are caused by bacteria of the genus Streptococcus. There are two types: gro\n",
      "Reference Answer: Strep is short for Streptococcus, a type of bacteria. There are two types: group A and group B.    G\n"
     ]
    },
    {
     "data": {
      "text/html": [
       "<pre style=\"white-space:pre;overflow-x:auto;line-height:normal;font-family:Menlo,'DejaVu Sans Mono',consolas,'Courier New',monospace\"></pre>\n"
      ],
      "text/plain": []
     },
     "metadata": {},
     "output_type": "display_data"
    },
    {
     "data": {
      "application/vnd.jupyter.widget-view+json": {
       "model_id": "0c3787f2f0e74442b3d3fd644d3cd8dc",
       "version_major": 2,
       "version_minor": 0
      },
      "text/plain": [
       "Output()"
      ]
     },
     "metadata": {},
     "output_type": "display_data"
    },
    {
     "name": "stdout",
     "output_type": "stream",
     "text": [
      "[25] 🎯 Correctness Score (raw): 0.8332256232663042\n",
      "\n",
      "--- [Row 26] ---\n",
      "Question: What causes Macular degeneration - age-related ? (Also called: Age-related macular degeneration (ARM\n",
      "Model_Answer: The retina is at the back of the eye. It changes light and images that enter the eye into nerve sign\n",
      "Reference Answer: The retina is at the back of the eye. It changes light and images that enter the eye into nerve sign\n"
     ]
    },
    {
     "data": {
      "text/html": [
       "<pre style=\"white-space:pre;overflow-x:auto;line-height:normal;font-family:Menlo,'DejaVu Sans Mono',consolas,'Courier New',monospace\"></pre>\n"
      ],
      "text/plain": []
     },
     "metadata": {},
     "output_type": "display_data"
    },
    {
     "data": {
      "application/vnd.jupyter.widget-view+json": {
       "model_id": "a59103da8787429d8a5196b152dcacaa",
       "version_major": 2,
       "version_minor": 0
      },
      "text/plain": [
       "Output()"
      ]
     },
     "metadata": {},
     "output_type": "display_data"
    },
    {
     "name": "stdout",
     "output_type": "stream",
     "text": [
      "[26] 🎯 Correctness Score (raw): 0.633419767651066\n",
      "\n",
      "--- [Row 27] ---\n",
      "Question: What are the genetic changes related to age-related macular degeneration ? (Also called: age-related\n",
      "Model_Answer: Age-related macular degeneration results from a combination of genetic and environmental factors. Ma\n",
      "Reference Answer: Age-related macular degeneration results from a combination of genetic and environmental factors. Ma\n"
     ]
    },
    {
     "data": {
      "text/html": [
       "<pre style=\"white-space:pre;overflow-x:auto;line-height:normal;font-family:Menlo,'DejaVu Sans Mono',consolas,'Courier New',monospace\"></pre>\n"
      ],
      "text/plain": []
     },
     "metadata": {},
     "output_type": "display_data"
    },
    {
     "data": {
      "application/vnd.jupyter.widget-view+json": {
       "model_id": "22154a78f7fa40b6800f1f17a9640eee",
       "version_major": 2,
       "version_minor": 0
      },
      "text/plain": [
       "Output()"
      ]
     },
     "metadata": {},
     "output_type": "display_data"
    },
    {
     "name": "stdout",
     "output_type": "stream",
     "text": [
      "[27] 🎯 Correctness Score (raw): 0.8161093810940487\n",
      "\n",
      "--- [Row 28] ---\n",
      "Question: What causes Hydatidiform mole ? (Also called: Hydatid mole; Molar pregnancy)\n",
      "Model_Answer: Hydatidiform mole, or molar pregnancy, results from too much production of the tissue that is suppos\n",
      "Reference Answer: Hydatidiform mole, or molar pregnancy, results from too much production of the tissue that is suppos\n"
     ]
    },
    {
     "data": {
      "text/html": [
       "<pre style=\"white-space:pre;overflow-x:auto;line-height:normal;font-family:Menlo,'DejaVu Sans Mono',consolas,'Courier New',monospace\"></pre>\n"
      ],
      "text/plain": []
     },
     "metadata": {},
     "output_type": "display_data"
    },
    {
     "data": {
      "application/vnd.jupyter.widget-view+json": {
       "model_id": "a03e61f012ca4f1aaa7b7717cda4b2a4",
       "version_major": 2,
       "version_minor": 0
      },
      "text/plain": [
       "Output()"
      ]
     },
     "metadata": {},
     "output_type": "display_data"
    },
    {
     "name": "stdout",
     "output_type": "stream",
     "text": [
      "[28] 🎯 Correctness Score (raw): 0.8057687920947483\n",
      "\n",
      "--- [Row 29] ---\n",
      "Question: What important warning or information should I know about Estradiol Transdermal Patch ?\n",
      "Model_Answer: Estradiol increases the risk that you will develop endometrial cancer (cancer of the lining of the u\n",
      "Reference Answer: Estradiol increases the risk that you will develop endometrial cancer (cancer of the lining of the u\n"
     ]
    },
    {
     "data": {
      "text/html": [
       "<pre style=\"white-space:pre;overflow-x:auto;line-height:normal;font-family:Menlo,'DejaVu Sans Mono',consolas,'Courier New',monospace\"></pre>\n"
      ],
      "text/plain": []
     },
     "metadata": {},
     "output_type": "display_data"
    },
    {
     "data": {
      "application/vnd.jupyter.widget-view+json": {
       "model_id": "0c12f6fd997846b98d8788d5479919d8",
       "version_major": 2,
       "version_minor": 0
      },
      "text/plain": [
       "Output()"
      ]
     },
     "metadata": {},
     "output_type": "display_data"
    },
    {
     "name": "stdout",
     "output_type": "stream",
     "text": [
      "[29] 🎯 Correctness Score (raw): 0.8213732154326386\n",
      "\n",
      "--- [Row 30] ---\n",
      "Question: What is (are) Ear discharge ? (Also called: Drainage from the ear; Otorrhea; Ear bleeding; Bleeding \n",
      "Model_Answer: Ear discharge is drainage of blood, ear wax, pus, or fluid from the ear.)  Causes and risk factors i\n",
      "Reference Answer: Ear discharge is drainage of blood, ear wax, pus, or fluid from the ear.)\n"
     ]
    },
    {
     "data": {
      "text/html": [
       "<pre style=\"white-space:pre;overflow-x:auto;line-height:normal;font-family:Menlo,'DejaVu Sans Mono',consolas,'Courier New',monospace\"></pre>\n"
      ],
      "text/plain": []
     },
     "metadata": {},
     "output_type": "display_data"
    },
    {
     "data": {
      "application/vnd.jupyter.widget-view+json": {
       "model_id": "7de3aa7943084eb3a9674fee857c733e",
       "version_major": 2,
       "version_minor": 0
      },
      "text/plain": [
       "Output()"
      ]
     },
     "metadata": {},
     "output_type": "display_data"
    },
    {
     "name": "stdout",
     "output_type": "stream",
     "text": [
      "[30] 🎯 Correctness Score (raw): 0.6354739125398013\n",
      "\n",
      "--- [Row 31] ---\n",
      "Question: What causes Ear discharge ? (Also called: Drainage from the ear; Otorrhea; Ear bleeding; Bleeding fr\n",
      "Model_Answer: Most of the time, any fluid leaking out of an ear is ear wax.  A ruptured eardrum can cause a white,\n",
      "Reference Answer: Most of the time, any fluid leaking out of an ear is ear wax.  A ruptured eardrum can cause a white,\n"
     ]
    },
    {
     "data": {
      "text/html": [
       "<pre style=\"white-space:pre;overflow-x:auto;line-height:normal;font-family:Menlo,'DejaVu Sans Mono',consolas,'Courier New',monospace\"></pre>\n"
      ],
      "text/plain": []
     },
     "metadata": {},
     "output_type": "display_data"
    },
    {
     "data": {
      "application/vnd.jupyter.widget-view+json": {
       "model_id": "c8ab835c9ef4496d8b4eb1dc1de47464",
       "version_major": 2,
       "version_minor": 0
      },
      "text/plain": [
       "Output()"
      ]
     },
     "metadata": {},
     "output_type": "display_data"
    },
    {
     "name": "stdout",
     "output_type": "stream",
     "text": [
      "[31] 🎯 Correctness Score (raw): 0.8263695912685307\n",
      "\n",
      "--- [Row 32] ---\n",
      "Question: What to do for Ear discharge ? (Also called: Drainage from the ear; Otorrhea; Ear bleeding; Bleeding\n",
      "Model_Answer: Call for an appointment with your health care provider if you have any of the following symptoms:   \n",
      "Reference Answer: Caring for ear discharge at home depends on the cause.)\n"
     ]
    },
    {
     "data": {
      "text/html": [
       "<pre style=\"white-space:pre;overflow-x:auto;line-height:normal;font-family:Menlo,'DejaVu Sans Mono',consolas,'Courier New',monospace\"></pre>\n"
      ],
      "text/plain": []
     },
     "metadata": {},
     "output_type": "display_data"
    },
    {
     "data": {
      "application/vnd.jupyter.widget-view+json": {
       "model_id": "a17a734cdab14301b4aea1cd8081f337",
       "version_major": 2,
       "version_minor": 0
      },
      "text/plain": [
       "Output()"
      ]
     },
     "metadata": {},
     "output_type": "display_data"
    },
    {
     "name": "stdout",
     "output_type": "stream",
     "text": [
      "[32] 🎯 Correctness Score (raw): 0.7402314230051891\n",
      "\n",
      "--- [Row 33] ---\n",
      "Question: Do you have information about Ear wax (Also called: Ear impaction; Cerumen impaction; Ear blockage)\n",
      "Model_Answer: Summary : The ear canal is lined with hair follicles and glands that produce a waxy oil called cerum\n",
      "Reference Answer: Summary : The ear canal is lined with hair follicles and glands that produce a waxy oil called cerum\n"
     ]
    },
    {
     "data": {
      "text/html": [
       "<pre style=\"white-space:pre;overflow-x:auto;line-height:normal;font-family:Menlo,'DejaVu Sans Mono',consolas,'Courier New',monospace\"></pre>\n"
      ],
      "text/plain": []
     },
     "metadata": {},
     "output_type": "display_data"
    },
    {
     "data": {
      "application/vnd.jupyter.widget-view+json": {
       "model_id": "636082eeb9e04941914b80a88ab7a5ec",
       "version_major": 2,
       "version_minor": 0
      },
      "text/plain": [
       "Output()"
      ]
     },
     "metadata": {},
     "output_type": "display_data"
    },
    {
     "name": "stdout",
     "output_type": "stream",
     "text": [
      "[33] 🎯 Correctness Score (raw): 0.8\n",
      "\n",
      "--- [Row 34] ---\n",
      "Question: What is (are) Swimmer's ear ? (Also called: Ear infection - outer ear - acute; Otitis externa - acut\n",
      "Model_Answer: Swimmer's ear is inflammation, irritation, or infection of the outer ear and ear canal. The medical \n",
      "Reference Answer: Swimmer's ear is inflammation, irritation, or infection of the outer ear and ear canal. The medical \n"
     ]
    },
    {
     "data": {
      "text/html": [
       "<pre style=\"white-space:pre;overflow-x:auto;line-height:normal;font-family:Menlo,'DejaVu Sans Mono',consolas,'Courier New',monospace\"></pre>\n"
      ],
      "text/plain": []
     },
     "metadata": {},
     "output_type": "display_data"
    },
    {
     "data": {
      "application/vnd.jupyter.widget-view+json": {
       "model_id": "9ab050d2c8c74e6c80ba29629121b124",
       "version_major": 2,
       "version_minor": 0
      },
      "text/plain": [
       "Output()"
      ]
     },
     "metadata": {},
     "output_type": "display_data"
    },
    {
     "name": "stdout",
     "output_type": "stream",
     "text": [
      "[34] 🎯 Correctness Score (raw): 0.6066355050397734\n",
      "\n",
      "--- [Row 35] ---\n",
      "Question: What is (are) Beckwith-Wiedemann syndrome ?\n",
      "Model_Answer: Beckwith-Wiedemann syndrome is a growth disorder that causes large body size, large organs, and othe\n",
      "Reference Answer: Beckwith-Wiedemann syndrome is a growth disorder that causes large body size, large organs, and othe\n"
     ]
    },
    {
     "data": {
      "text/html": [
       "<pre style=\"white-space:pre;overflow-x:auto;line-height:normal;font-family:Menlo,'DejaVu Sans Mono',consolas,'Courier New',monospace\"></pre>\n"
      ],
      "text/plain": []
     },
     "metadata": {},
     "output_type": "display_data"
    },
    {
     "data": {
      "application/vnd.jupyter.widget-view+json": {
       "model_id": "721ebaf6fa3d4b3683e2e11b1ab48eae",
       "version_major": 2,
       "version_minor": 0
      },
      "text/plain": [
       "Output()"
      ]
     },
     "metadata": {},
     "output_type": "display_data"
    },
    {
     "name": "stdout",
     "output_type": "stream",
     "text": [
      "[35] 🎯 Correctness Score (raw): 0.7697964331225113\n",
      "\n",
      "--- [Row 36] ---\n",
      "Question: What causes Beckwith-Wiedemann syndrome ?\n",
      "Model_Answer: Beckwith-Wiedemann syndrome is caused by a defect in the genes on chromosome 11. About 10% of cases \n",
      "Reference Answer: Beckwith-Wiedemann syndrome is caused by a defect in the genes on chromosome 11. About 10% of cases \n"
     ]
    },
    {
     "data": {
      "text/html": [
       "<pre style=\"white-space:pre;overflow-x:auto;line-height:normal;font-family:Menlo,'DejaVu Sans Mono',consolas,'Courier New',monospace\"></pre>\n"
      ],
      "text/plain": []
     },
     "metadata": {},
     "output_type": "display_data"
    },
    {
     "data": {
      "application/vnd.jupyter.widget-view+json": {
       "model_id": "11f09ff291d34f988c96ccce1492c3c1",
       "version_major": 2,
       "version_minor": 0
      },
      "text/plain": [
       "Output()"
      ]
     },
     "metadata": {},
     "output_type": "display_data"
    },
    {
     "name": "stdout",
     "output_type": "stream",
     "text": [
      "[36] 🎯 Correctness Score (raw): 0.7871625039584003\n",
      "\n",
      "--- [Row 37] ---\n",
      "Question: What are the symptoms of Beckwith-Wiedemann syndrome ?\n",
      "Model_Answer: - Large size for a newborn  - Red birth mark on forehead or eyelids (Nevus flammeus)  - Creases in e\n",
      "Reference Answer: Signs and symptoms of Beckwith-Wiedemann syndrome include:  - Large size for a newborn  - Red birth \n"
     ]
    },
    {
     "data": {
      "text/html": [
       "<pre style=\"white-space:pre;overflow-x:auto;line-height:normal;font-family:Menlo,'DejaVu Sans Mono',consolas,'Courier New',monospace\"></pre>\n"
      ],
      "text/plain": []
     },
     "metadata": {},
     "output_type": "display_data"
    },
    {
     "data": {
      "application/vnd.jupyter.widget-view+json": {
       "model_id": "8e033c0dd6304038959ca4c1d8f5df4a",
       "version_major": 2,
       "version_minor": 0
      },
      "text/plain": [
       "Output()"
      ]
     },
     "metadata": {},
     "output_type": "display_data"
    },
    {
     "name": "stdout",
     "output_type": "stream",
     "text": [
      "[37] 🎯 Correctness Score (raw): 0.5691474115544838\n",
      "\n",
      "--- [Row 38] ---\n",
      "Question: What are the complications of Beckwith-Wiedemann syndrome ?\n",
      "Model_Answer: These complications can occur:  - Development of tumors  - Feeding problems due to enlarged tongue  \n",
      "Reference Answer: These complications can occur:  - Development of tumors  - Feeding problems due to enlarged tongue  \n"
     ]
    },
    {
     "data": {
      "text/html": [
       "<pre style=\"white-space:pre;overflow-x:auto;line-height:normal;font-family:Menlo,'DejaVu Sans Mono',consolas,'Courier New',monospace\"></pre>\n"
      ],
      "text/plain": []
     },
     "metadata": {},
     "output_type": "display_data"
    },
    {
     "data": {
      "application/vnd.jupyter.widget-view+json": {
       "model_id": "b11f617480f44a55aae2bd719daf23e3",
       "version_major": 2,
       "version_minor": 0
      },
      "text/plain": [
       "Output()"
      ]
     },
     "metadata": {},
     "output_type": "display_data"
    },
    {
     "name": "stdout",
     "output_type": "stream",
     "text": [
      "[38] 🎯 Correctness Score (raw): 0.6215521191930051\n",
      "\n",
      "--- [Row 39] ---\n",
      "Question: Do I need to see a doctor for Beckwith-Wiedemann syndrome ?\n",
      "Model_Answer: No, Beckwith-Wiedemann syndrome is a genetic condition that cannot be treated with medication. Do no\n",
      "Reference Answer: If you have a child with Beckwith-Wiedemann syndrome and worrisome symptoms develop, call your pedia\n"
     ]
    },
    {
     "data": {
      "text/html": [
       "<pre style=\"white-space:pre;overflow-x:auto;line-height:normal;font-family:Menlo,'DejaVu Sans Mono',consolas,'Courier New',monospace\"></pre>\n"
      ],
      "text/plain": []
     },
     "metadata": {},
     "output_type": "display_data"
    },
    {
     "data": {
      "application/vnd.jupyter.widget-view+json": {
       "model_id": "16d84d64ffd54a01848021b571ee00c0",
       "version_major": 2,
       "version_minor": 0
      },
      "text/plain": [
       "Output()"
      ]
     },
     "metadata": {},
     "output_type": "display_data"
    },
    {
     "name": "stdout",
     "output_type": "stream",
     "text": [
      "[39] 🎯 Correctness Score (raw): 0.4230894790313428\n",
      "\n",
      "--- [Row 40] ---\n",
      "Question: How to prevent Beckwith-Wiedemann syndrome ?\n",
      "Model_Answer: There is no known prevention for Beckwith-Wiedemann syndrome. Genetic counseling may be of value for\n",
      "Reference Answer: There is no known prevention for Beckwith-Wiedemann syndrome. Genetic counseling may be of value for\n"
     ]
    },
    {
     "data": {
      "text/html": [
       "<pre style=\"white-space:pre;overflow-x:auto;line-height:normal;font-family:Menlo,'DejaVu Sans Mono',consolas,'Courier New',monospace\"></pre>\n"
      ],
      "text/plain": []
     },
     "metadata": {},
     "output_type": "display_data"
    },
    {
     "data": {
      "application/vnd.jupyter.widget-view+json": {
       "model_id": "9cd28cfc94e1472f957f4f97c498ad24",
       "version_major": 2,
       "version_minor": 0
      },
      "text/plain": [
       "Output()"
      ]
     },
     "metadata": {},
     "output_type": "display_data"
    },
    {
     "name": "stdout",
     "output_type": "stream",
     "text": [
      "[40] 🎯 Correctness Score (raw): 0.4967660837775131\n",
      "\n",
      "--- [Row 41] ---\n",
      "Question: What is (are) Beckwith-Wiedemann syndrome ? (Also called: BWS; Wiedemann-Beckwith syndrome (WBS))\n",
      "Model_Answer: Beckwith-Wiedemann syndrome is a condition that affects many parts of the body. It is classified as \n",
      "Reference Answer: Beckwith-Wiedemann syndrome is a condition that affects many parts of the body. It is classified as \n"
     ]
    },
    {
     "data": {
      "text/html": [
       "<pre style=\"white-space:pre;overflow-x:auto;line-height:normal;font-family:Menlo,'DejaVu Sans Mono',consolas,'Courier New',monospace\"></pre>\n"
      ],
      "text/plain": []
     },
     "metadata": {},
     "output_type": "display_data"
    },
    {
     "data": {
      "application/vnd.jupyter.widget-view+json": {
       "model_id": "e43b38e1ecd64388a9b080df70d2e6b9",
       "version_major": 2,
       "version_minor": 0
      },
      "text/plain": [
       "Output()"
      ]
     },
     "metadata": {},
     "output_type": "display_data"
    },
    {
     "name": "stdout",
     "output_type": "stream",
     "text": [
      "[41] 🎯 Correctness Score (raw): 0.7370279375413435\n",
      "\n",
      "--- [Row 42] ---\n",
      "Question: How many people are affected by Beckwith-Wiedemann syndrome ? (Also called: BWS; Wiedemann-Beckwith \n",
      "Model_Answer: Beckwith-Wiedemann syndrome affects an estimated 1 in 13,700 newborns worldwide. The condition may a\n",
      "Reference Answer: Beckwith-Wiedemann syndrome affects an estimated 1 in 13,700 newborns worldwide. The condition may a\n"
     ]
    },
    {
     "data": {
      "text/html": [
       "<pre style=\"white-space:pre;overflow-x:auto;line-height:normal;font-family:Menlo,'DejaVu Sans Mono',consolas,'Courier New',monospace\"></pre>\n"
      ],
      "text/plain": []
     },
     "metadata": {},
     "output_type": "display_data"
    },
    {
     "data": {
      "application/vnd.jupyter.widget-view+json": {
       "model_id": "6b15122757834f6f882b91d78f568350",
       "version_major": 2,
       "version_minor": 0
      },
      "text/plain": [
       "Output()"
      ]
     },
     "metadata": {},
     "output_type": "display_data"
    },
    {
     "name": "stdout",
     "output_type": "stream",
     "text": [
      "[42] 🎯 Correctness Score (raw): 0.8015385826209481\n",
      "\n",
      "--- [Row 43] ---\n",
      "Question: What are the genetic changes related to Beckwith-Wiedemann syndrome ? (Also called: BWS; Wiedemann-B\n",
      "Model_Answer: The genetic causes of Beckwith-Wiedemann syndrome are complex. The condition usually results from th\n",
      "Reference Answer: The genetic causes of Beckwith-Wiedemann syndrome are complex. The condition usually results from th\n"
     ]
    },
    {
     "data": {
      "text/html": [
       "<pre style=\"white-space:pre;overflow-x:auto;line-height:normal;font-family:Menlo,'DejaVu Sans Mono',consolas,'Courier New',monospace\"></pre>\n"
      ],
      "text/plain": []
     },
     "metadata": {},
     "output_type": "display_data"
    },
    {
     "data": {
      "application/vnd.jupyter.widget-view+json": {
       "model_id": "a4eff8015ecb45f081cd88bf43f2d9de",
       "version_major": 2,
       "version_minor": 0
      },
      "text/plain": [
       "Output()"
      ]
     },
     "metadata": {},
     "output_type": "display_data"
    },
    {
     "name": "stdout",
     "output_type": "stream",
     "text": [
      "[43] 🎯 Correctness Score (raw): 0.8157212614930215\n",
      "\n",
      "--- [Row 44] ---\n",
      "Question: Is Beckwith-Wiedemann syndrome inherited ? (Also called: BWS; Wiedemann-Beckwith syndrome (WBS))\n",
      "Model_Answer: In about 85 percent of cases of Beckwith-Wiedemann syndrome, only one person in a family has been di\n",
      "Reference Answer: In about 85 percent of cases of Beckwith-Wiedemann syndrome, only one person in a family has been di\n"
     ]
    },
    {
     "data": {
      "text/html": [
       "<pre style=\"white-space:pre;overflow-x:auto;line-height:normal;font-family:Menlo,'DejaVu Sans Mono',consolas,'Courier New',monospace\"></pre>\n"
      ],
      "text/plain": []
     },
     "metadata": {},
     "output_type": "display_data"
    },
    {
     "data": {
      "application/vnd.jupyter.widget-view+json": {
       "model_id": "b032385ec37149a4bb65fcd81ff649c7",
       "version_major": 2,
       "version_minor": 0
      },
      "text/plain": [
       "Output()"
      ]
     },
     "metadata": {},
     "output_type": "display_data"
    },
    {
     "name": "stdout",
     "output_type": "stream",
     "text": [
      "[44] 🎯 Correctness Score (raw): 0.8194742658680798\n",
      "\n",
      "--- [Row 45] ---\n",
      "Question: What are the treatments for Beckwith-Wiedemann syndrome ? (Also called: BWS; Wiedemann-Beckwith synd\n",
      "Model_Answer: These resources address the diagnosis or management of Beckwith-Wiedemann syndrome:  - Gene Review: \n",
      "Reference Answer: These resources address the diagnosis or management of Beckwith-Wiedemann syndrome:  - Gene Review: \n"
     ]
    },
    {
     "data": {
      "text/html": [
       "<pre style=\"white-space:pre;overflow-x:auto;line-height:normal;font-family:Menlo,'DejaVu Sans Mono',consolas,'Courier New',monospace\"></pre>\n"
      ],
      "text/plain": []
     },
     "metadata": {},
     "output_type": "display_data"
    },
    {
     "data": {
      "application/vnd.jupyter.widget-view+json": {
       "model_id": "eb830a302c9940faa64a1996c836ac33",
       "version_major": 2,
       "version_minor": 0
      },
      "text/plain": [
       "Output()"
      ]
     },
     "metadata": {},
     "output_type": "display_data"
    },
    {
     "name": "stdout",
     "output_type": "stream",
     "text": [
      "[45] 🎯 Correctness Score (raw): 0.37000538800565724\n",
      "\n",
      "--- [Row 46] ---\n",
      "Question: Do you have information about Uvulopalatopharyngoplasty (UPPP) (Also called: Palate surgery; Uvulopa\n",
      "Model_Answer: Summary : Uvulopalatopharyngoplasty (UPPP) is surgery to open the upper airways by taking out extra \n",
      "Reference Answer: Summary : Uvulopalatopharyngoplasty (UPPP) is surgery to open the upper airways by taking out extra \n"
     ]
    },
    {
     "data": {
      "text/html": [
       "<pre style=\"white-space:pre;overflow-x:auto;line-height:normal;font-family:Menlo,'DejaVu Sans Mono',consolas,'Courier New',monospace\"></pre>\n"
      ],
      "text/plain": []
     },
     "metadata": {},
     "output_type": "display_data"
    },
    {
     "data": {
      "application/vnd.jupyter.widget-view+json": {
       "model_id": "941bd5734d4e43718504bd0fb8e7138f",
       "version_major": 2,
       "version_minor": 0
      },
      "text/plain": [
       "Output()"
      ]
     },
     "metadata": {},
     "output_type": "display_data"
    },
    {
     "name": "stdout",
     "output_type": "stream",
     "text": [
      "[46] 🎯 Correctness Score (raw): 0.702553982709156\n",
      "\n",
      "--- [Row 47] ---\n",
      "Question: What causes Uveitis ? (Also called: Iritis; Pars planitis; Choroiditis; Chorioretinitis; Anterior uv\n",
      "Model_Answer: Uveitis can be caused by autoimmune disorders, including rheumatoid arthritis or ankylosing spondyli\n",
      "Reference Answer: Uveitis can be caused by autoimmune disorders, including rheumatoid arthritis or ankylosing spondyli\n"
     ]
    },
    {
     "data": {
      "text/html": [
       "<pre style=\"white-space:pre;overflow-x:auto;line-height:normal;font-family:Menlo,'DejaVu Sans Mono',consolas,'Courier New',monospace\"></pre>\n"
      ],
      "text/plain": []
     },
     "metadata": {},
     "output_type": "display_data"
    },
    {
     "data": {
      "application/vnd.jupyter.widget-view+json": {
       "model_id": "50e74960d591464d92ccc040d86e01fd",
       "version_major": 2,
       "version_minor": 0
      },
      "text/plain": [
       "Output()"
      ]
     },
     "metadata": {},
     "output_type": "display_data"
    },
    {
     "name": "stdout",
     "output_type": "stream",
     "text": [
      "[47] 🎯 Correctness Score (raw): 0.7444510631386045\n",
      "\n",
      "--- [Row 48] ---\n",
      "Question: Do you have information about Urine and Urination\n",
      "Model_Answer: Summary : Your kidneys make urine by filtering wastes and extra water from your blood. The waste is \n",
      "Reference Answer: Summary : Your kidneys make urine by filtering wastes and extra water from your blood. The waste is \n"
     ]
    },
    {
     "data": {
      "text/html": [
       "<pre style=\"white-space:pre;overflow-x:auto;line-height:normal;font-family:Menlo,'DejaVu Sans Mono',consolas,'Courier New',monospace\"></pre>\n"
      ],
      "text/plain": []
     },
     "metadata": {},
     "output_type": "display_data"
    },
    {
     "data": {
      "application/vnd.jupyter.widget-view+json": {
       "model_id": "c7dc3fa82cee4f4bb147501cb13a6bfa",
       "version_major": 2,
       "version_minor": 0
      },
      "text/plain": [
       "Output()"
      ]
     },
     "metadata": {},
     "output_type": "display_data"
    },
    {
     "name": "stdout",
     "output_type": "stream",
     "text": [
      "[48] 🎯 Correctness Score (raw): 0.8127975463072297\n",
      "\n",
      "--- [Row 49] ---\n",
      "Question: What causes Diaphragmatic hernia ? (Also called: Hernia - diaphragmatic; Congenital hernia of the di\n",
      "Model_Answer: A diaphragmatic hernia is a rare defect. It occurs while the baby is developing in the womb. Because\n",
      "Reference Answer: A diaphragmatic hernia is a rare defect. It occurs while the baby is developing in the womb. Because\n"
     ]
    },
    {
     "data": {
      "text/html": [
       "<pre style=\"white-space:pre;overflow-x:auto;line-height:normal;font-family:Menlo,'DejaVu Sans Mono',consolas,'Courier New',monospace\"></pre>\n"
      ],
      "text/plain": []
     },
     "metadata": {},
     "output_type": "display_data"
    },
    {
     "data": {
      "application/vnd.jupyter.widget-view+json": {
       "model_id": "9af4dd89eb364fd9b47db4e4b1999bc8",
       "version_major": 2,
       "version_minor": 0
      },
      "text/plain": [
       "Output()"
      ]
     },
     "metadata": {},
     "output_type": "display_data"
    },
    {
     "name": "stdout",
     "output_type": "stream",
     "text": [
      "[49] 🎯 Correctness Score (raw): 0.785983705311766\n",
      "\n",
      "--- [Row 50] ---\n",
      "Question: What is the outlook for Diaphragmatic hernia ? (Also called: Hernia - diaphragmatic; Congenital hern\n",
      "Model_Answer: The outcome of surgery depends on how well the baby's lungs have developed. It also depends on wheth\n",
      "Reference Answer: The outcome of surgery depends on how well the baby's lungs have developed. It also depends on wheth\n"
     ]
    },
    {
     "data": {
      "text/html": [
       "<pre style=\"white-space:pre;overflow-x:auto;line-height:normal;font-family:Menlo,'DejaVu Sans Mono',consolas,'Courier New',monospace\"></pre>\n"
      ],
      "text/plain": []
     },
     "metadata": {},
     "output_type": "display_data"
    },
    {
     "data": {
      "application/vnd.jupyter.widget-view+json": {
       "model_id": "3e0e9434b7e3437b9c1178f7f08e22df",
       "version_major": 2,
       "version_minor": 0
      },
      "text/plain": [
       "Output()"
      ]
     },
     "metadata": {},
     "output_type": "display_data"
    },
    {
     "name": "stdout",
     "output_type": "stream",
     "text": [
      "[50] 🎯 Correctness Score (raw): 0.7127826565608706\n",
      "\n",
      "--- [Row 51] ---\n",
      "Question: What are the genetic changes related to congenital diaphragmatic hernia ? (Also called: congenital d\n",
      "Model_Answer: Congenital diaphragmatic hernia has many different causes. In 10 to 15 percent of affected individua\n",
      "Reference Answer: Congenital diaphragmatic hernia has many different causes. In 10 to 15 percent of affected individua\n"
     ]
    },
    {
     "data": {
      "text/html": [
       "<pre style=\"white-space:pre;overflow-x:auto;line-height:normal;font-family:Menlo,'DejaVu Sans Mono',consolas,'Courier New',monospace\"></pre>\n"
      ],
      "text/plain": []
     },
     "metadata": {},
     "output_type": "display_data"
    },
    {
     "data": {
      "application/vnd.jupyter.widget-view+json": {
       "model_id": "823f5c04865b4752a77dbb717c95fe63",
       "version_major": 2,
       "version_minor": 0
      },
      "text/plain": [
       "Output()"
      ]
     },
     "metadata": {},
     "output_type": "display_data"
    },
    {
     "name": "stdout",
     "output_type": "stream",
     "text": [
      "[51] 🎯 Correctness Score (raw): 0.7076529152142177\n",
      "\n",
      "--- [Row 52] ---\n",
      "Question: Is congenital diaphragmatic hernia inherited ? (Also called: congenital diaphragmatic defect)\n",
      "Model_Answer: Isolated congenital diaphragmatic hernia is rarely inherited. In almost all cases, there is only one\n",
      "Reference Answer: Isolated congenital diaphragmatic hernia is rarely inherited. In almost all cases, there is only one\n"
     ]
    },
    {
     "data": {
      "text/html": [
       "<pre style=\"white-space:pre;overflow-x:auto;line-height:normal;font-family:Menlo,'DejaVu Sans Mono',consolas,'Courier New',monospace\"></pre>\n"
      ],
      "text/plain": []
     },
     "metadata": {},
     "output_type": "display_data"
    },
    {
     "data": {
      "application/vnd.jupyter.widget-view+json": {
       "model_id": "a9eceb536f0245aeac52595ca18b4009",
       "version_major": 2,
       "version_minor": 0
      },
      "text/plain": [
       "Output()"
      ]
     },
     "metadata": {},
     "output_type": "display_data"
    },
    {
     "name": "stdout",
     "output_type": "stream",
     "text": [
      "[52] 🎯 Correctness Score (raw): 0.7209850522183221\n",
      "\n",
      "--- [Row 53] ---\n",
      "Question: What is (are) Shingles ?\n",
      "Model_Answer: Shingles is a painful rash that develops on one side of the face or body. The rash forms blisters th\n",
      "Reference Answer: Shingles is a painful rash that develops on one side of the face or body. The rash forms blisters th\n"
     ]
    },
    {
     "data": {
      "text/html": [
       "<pre style=\"white-space:pre;overflow-x:auto;line-height:normal;font-family:Menlo,'DejaVu Sans Mono',consolas,'Courier New',monospace\"></pre>\n"
      ],
      "text/plain": []
     },
     "metadata": {},
     "output_type": "display_data"
    },
    {
     "data": {
      "application/vnd.jupyter.widget-view+json": {
       "model_id": "085035eabf724355ad121cec51bf16de",
       "version_major": 2,
       "version_minor": 0
      },
      "text/plain": [
       "Output()"
      ]
     },
     "metadata": {},
     "output_type": "display_data"
    },
    {
     "name": "stdout",
     "output_type": "stream",
     "text": [
      "[53] 🎯 Correctness Score (raw): 0.7810623898207898\n",
      "\n",
      "--- [Row 54] ---\n",
      "Question: What is (are) antiphospholipid syndrome ? (Also called: anti-phospholipid syndrome; antiphospholipid\n",
      "Model_Answer: Antiphospholipid syndrome is a disorder characterized by an increased tendency to form abnormal bloo\n",
      "Reference Answer: Antiphospholipid syndrome is a disorder characterized by an increased tendency to form abnormal bloo\n"
     ]
    },
    {
     "data": {
      "text/html": [
       "<pre style=\"white-space:pre;overflow-x:auto;line-height:normal;font-family:Menlo,'DejaVu Sans Mono',consolas,'Courier New',monospace\"></pre>\n"
      ],
      "text/plain": []
     },
     "metadata": {},
     "output_type": "display_data"
    },
    {
     "data": {
      "application/vnd.jupyter.widget-view+json": {
       "model_id": "426364ddf25a4b259b09b373026deda5",
       "version_major": 2,
       "version_minor": 0
      },
      "text/plain": [
       "Output()"
      ]
     },
     "metadata": {},
     "output_type": "display_data"
    },
    {
     "name": "stdout",
     "output_type": "stream",
     "text": [
      "[54] 🎯 Correctness Score (raw): 0.7838906190046948\n",
      "\n",
      "--- [Row 55] ---\n",
      "Question: What are the genetic changes related to antiphospholipid syndrome ? (Also called: anti-phospholipid \n",
      "Model_Answer: The genetic cause of antiphospholipid syndrome is unknown. This condition is associated with the pre\n",
      "Reference Answer: The genetic cause of antiphospholipid syndrome is unknown. This condition is associated with the pre\n"
     ]
    },
    {
     "data": {
      "text/html": [
       "<pre style=\"white-space:pre;overflow-x:auto;line-height:normal;font-family:Menlo,'DejaVu Sans Mono',consolas,'Courier New',monospace\"></pre>\n"
      ],
      "text/plain": []
     },
     "metadata": {},
     "output_type": "display_data"
    },
    {
     "data": {
      "application/vnd.jupyter.widget-view+json": {
       "model_id": "67eb8dc9f4734dfba523df7e321ab8ec",
       "version_major": 2,
       "version_minor": 0
      },
      "text/plain": [
       "Output()"
      ]
     },
     "metadata": {},
     "output_type": "display_data"
    },
    {
     "name": "stdout",
     "output_type": "stream",
     "text": [
      "[55] 🎯 Correctness Score (raw): 0.6013754930866344\n",
      "\n",
      "--- [Row 56] ---\n",
      "Question: Is antiphospholipid syndrome inherited ? (Also called: anti-phospholipid syndrome; antiphospholipid \n",
      "Model_Answer: Most cases of antiphospholipid syndrome are sporadic, which means they occur in people with no histo\n",
      "Reference Answer: Most cases of antiphospholipid syndrome are sporadic, which means they occur in people with no histo\n"
     ]
    },
    {
     "data": {
      "text/html": [
       "<pre style=\"white-space:pre;overflow-x:auto;line-height:normal;font-family:Menlo,'DejaVu Sans Mono',consolas,'Courier New',monospace\"></pre>\n"
      ],
      "text/plain": []
     },
     "metadata": {},
     "output_type": "display_data"
    },
    {
     "data": {
      "application/vnd.jupyter.widget-view+json": {
       "model_id": "d6b02ae3ba104affb932593664611817",
       "version_major": 2,
       "version_minor": 0
      },
      "text/plain": [
       "Output()"
      ]
     },
     "metadata": {},
     "output_type": "display_data"
    },
    {
     "name": "stdout",
     "output_type": "stream",
     "text": [
      "[56] 🎯 Correctness Score (raw): 0.7035636230868172\n",
      "\n",
      "--- [Row 57] ---\n",
      "Question: What are the treatments for antiphospholipid syndrome ? (Also called: anti-phospholipid syndrome; an\n",
      "Model_Answer: These resources address the diagnosis or management of antiphospholipid syndrome:  - Genetic Testing\n",
      "Reference Answer: These resources address the diagnosis or management of antiphospholipid syndrome:  - Genetic Testing\n"
     ]
    },
    {
     "data": {
      "text/html": [
       "<pre style=\"white-space:pre;overflow-x:auto;line-height:normal;font-family:Menlo,'DejaVu Sans Mono',consolas,'Courier New',monospace\"></pre>\n"
      ],
      "text/plain": []
     },
     "metadata": {},
     "output_type": "display_data"
    },
    {
     "data": {
      "application/vnd.jupyter.widget-view+json": {
       "model_id": "65e3e11d6f994231ac7dc965b38ce10b",
       "version_major": 2,
       "version_minor": 0
      },
      "text/plain": [
       "Output()"
      ]
     },
     "metadata": {},
     "output_type": "display_data"
    },
    {
     "name": "stdout",
     "output_type": "stream",
     "text": [
      "[57] 🎯 Correctness Score (raw): 0.34104155611655496\n",
      "\n",
      "--- [Row 58] ---\n",
      "Question: What is (are) Antiphospholipid Antibody Syndrome ?\n",
      "Model_Answer: Antiphospholipid (AN-te-fos-fo-LIP-id) antibody syndrome (APS) is an autoimmune disorder. Autoimmune\n",
      "Reference Answer: Antiphospholipid (AN-te-fos-fo-LIP-id) antibody syndrome (APS) is an autoimmune disorder. Autoimmune\n"
     ]
    },
    {
     "data": {
      "text/html": [
       "<pre style=\"white-space:pre;overflow-x:auto;line-height:normal;font-family:Menlo,'DejaVu Sans Mono',consolas,'Courier New',monospace\"></pre>\n"
      ],
      "text/plain": []
     },
     "metadata": {},
     "output_type": "display_data"
    },
    {
     "data": {
      "application/vnd.jupyter.widget-view+json": {
       "model_id": "4c735c222d014d7cb00876e682cc62fe",
       "version_major": 2,
       "version_minor": 0
      },
      "text/plain": [
       "Output()"
      ]
     },
     "metadata": {},
     "output_type": "display_data"
    },
    {
     "name": "stdout",
     "output_type": "stream",
     "text": [
      "[58] 🎯 Correctness Score (raw): 0.7901940540589265\n",
      "\n",
      "--- [Row 59] ---\n",
      "Question: What causes Antiphospholipid Antibody Syndrome ?\n",
      "Model_Answer: Antiphospholipid antibody syndrome (APS) occurs if the body's immune system makes antibodies (protei\n",
      "Reference Answer: Antiphospholipid antibody syndrome (APS) occurs if the body's immune system makes antibodies (protei\n"
     ]
    },
    {
     "data": {
      "text/html": [
       "<pre style=\"white-space:pre;overflow-x:auto;line-height:normal;font-family:Menlo,'DejaVu Sans Mono',consolas,'Courier New',monospace\"></pre>\n"
      ],
      "text/plain": []
     },
     "metadata": {},
     "output_type": "display_data"
    },
    {
     "data": {
      "application/vnd.jupyter.widget-view+json": {
       "model_id": "1597e7bbe56448ae9d3e086785aaf387",
       "version_major": 2,
       "version_minor": 0
      },
      "text/plain": [
       "Output()"
      ]
     },
     "metadata": {},
     "output_type": "display_data"
    },
    {
     "name": "stdout",
     "output_type": "stream",
     "text": [
      "[59] 🎯 Correctness Score (raw): 0.7399706895032085\n",
      "\n",
      "--- [Row 60] ---\n",
      "Question: What is (are) Antiphospholipid Syndrome ?\n",
      "Model_Answer: Antiphospholipid syndrome (APS) is an autoimmune disorder caused when antibodies -- immune system ce\n",
      "Reference Answer: Antiphospholipid syndrome (APS) is an autoimmune disorder caused when antibodies -- immune system ce\n"
     ]
    },
    {
     "data": {
      "text/html": [
       "<pre style=\"white-space:pre;overflow-x:auto;line-height:normal;font-family:Menlo,'DejaVu Sans Mono',consolas,'Courier New',monospace\"></pre>\n"
      ],
      "text/plain": []
     },
     "metadata": {},
     "output_type": "display_data"
    },
    {
     "data": {
      "application/vnd.jupyter.widget-view+json": {
       "model_id": "91e05ed793cb4337b78bfac6e4bac304",
       "version_major": 2,
       "version_minor": 0
      },
      "text/plain": [
       "Output()"
      ]
     },
     "metadata": {},
     "output_type": "display_data"
    },
    {
     "name": "stdout",
     "output_type": "stream",
     "text": [
      "[60] 🎯 Correctness Score (raw): 0.7957979675611797\n",
      "\n",
      "--- [Row 61] ---\n",
      "Question: What are the treatments for Antiphospholipid Syndrome ?\n",
      "Model_Answer: The main goal of treatment is to thin the blood to reduce clotting. At present, the recommended trea\n",
      "Reference Answer: The main goal of treatment is to thin the blood to reduce clotting. At present, the recommended trea\n"
     ]
    },
    {
     "data": {
      "text/html": [
       "<pre style=\"white-space:pre;overflow-x:auto;line-height:normal;font-family:Menlo,'DejaVu Sans Mono',consolas,'Courier New',monospace\"></pre>\n"
      ],
      "text/plain": []
     },
     "metadata": {},
     "output_type": "display_data"
    },
    {
     "data": {
      "application/vnd.jupyter.widget-view+json": {
       "model_id": "3818ed65eb7f4ecb9d4592952c3e3607",
       "version_major": 2,
       "version_minor": 0
      },
      "text/plain": [
       "Output()"
      ]
     },
     "metadata": {},
     "output_type": "display_data"
    },
    {
     "name": "stdout",
     "output_type": "stream",
     "text": [
      "[61] 🎯 Correctness Score (raw): 0.7734112665842027\n",
      "\n",
      "--- [Row 62] ---\n",
      "Question: what research (or clinical trials) is being done for Antiphospholipid Syndrome ?\n",
      "Model_Answer: The National Institute of Neurological Disorders and Stroke (NINDS) and other institutes of the Nati\n",
      "Reference Answer: The National Institute of Neurological Disorders and Stroke (NINDS) and other institutes of the Nati\n"
     ]
    },
    {
     "data": {
      "text/html": [
       "<pre style=\"white-space:pre;overflow-x:auto;line-height:normal;font-family:Menlo,'DejaVu Sans Mono',consolas,'Courier New',monospace\"></pre>\n"
      ],
      "text/plain": []
     },
     "metadata": {},
     "output_type": "display_data"
    },
    {
     "data": {
      "application/vnd.jupyter.widget-view+json": {
       "model_id": "da853b34fa9744118b55bceae6ec6542",
       "version_major": 2,
       "version_minor": 0
      },
      "text/plain": [
       "Output()"
      ]
     },
     "metadata": {},
     "output_type": "display_data"
    },
    {
     "name": "stdout",
     "output_type": "stream",
     "text": [
      "[62] 🎯 Correctness Score (raw): 0.7344664199549906\n",
      "\n",
      "--- [Row 63] ---\n",
      "Question: What are the side effects or risks of Methadone ?\n",
      "Model_Answer: Methadone may cause side effects. Tell your doctor if any of these symptoms are severe or do not go \n",
      "Reference Answer: Methadone may cause side effects. Tell your doctor if any of these symptoms are severe or do not go \n"
     ]
    },
    {
     "data": {
      "text/html": [
       "<pre style=\"white-space:pre;overflow-x:auto;line-height:normal;font-family:Menlo,'DejaVu Sans Mono',consolas,'Courier New',monospace\"></pre>\n"
      ],
      "text/plain": []
     },
     "metadata": {},
     "output_type": "display_data"
    },
    {
     "data": {
      "application/vnd.jupyter.widget-view+json": {
       "model_id": "f3f3c0db91ad4881822b41a7e19c1985",
       "version_major": 2,
       "version_minor": 0
      },
      "text/plain": [
       "Output()"
      ]
     },
     "metadata": {},
     "output_type": "display_data"
    },
    {
     "name": "stdout",
     "output_type": "stream",
     "text": [
      "[63] 🎯 Correctness Score (raw): 0.8372144726847832\n",
      "\n",
      "--- [Row 64] ---\n",
      "Question: What are the brand names of Methylprednisolone Oral ?\n",
      "Model_Answer: - Medrol)  - Solu-Medrol)  - Pred)  - Deltasone)  - Prednisone)  - Oral Pred)  - Methylpred)  - Solu\n",
      "Reference Answer: - Medrol)\n"
     ]
    },
    {
     "data": {
      "text/html": [
       "<pre style=\"white-space:pre;overflow-x:auto;line-height:normal;font-family:Menlo,'DejaVu Sans Mono',consolas,'Courier New',monospace\"></pre>\n"
      ],
      "text/plain": []
     },
     "metadata": {},
     "output_type": "display_data"
    },
    {
     "data": {
      "application/vnd.jupyter.widget-view+json": {
       "model_id": "999cca192e0b4bd68a8e882378a691e8",
       "version_major": 2,
       "version_minor": 0
      },
      "text/plain": [
       "Output()"
      ]
     },
     "metadata": {},
     "output_type": "display_data"
    },
    {
     "name": "stdout",
     "output_type": "stream",
     "text": [
      "[64] 🎯 Correctness Score (raw): 0.39448436555396665\n",
      "\n",
      "--- [Row 65] ---\n",
      "Question: Who should get Methylprednisolone Oral and why is it prescribed ?\n",
      "Model_Answer: Methylprednisolone, a corticosteroid, is similar to a natural hormone produced by your adrenal gland\n",
      "Reference Answer: Methylprednisolone, a corticosteroid, is similar to a natural hormone produced by your adrenal gland\n"
     ]
    },
    {
     "data": {
      "text/html": [
       "<pre style=\"white-space:pre;overflow-x:auto;line-height:normal;font-family:Menlo,'DejaVu Sans Mono',consolas,'Courier New',monospace\"></pre>\n"
      ],
      "text/plain": []
     },
     "metadata": {},
     "output_type": "display_data"
    },
    {
     "data": {
      "application/vnd.jupyter.widget-view+json": {
       "model_id": "f38437ce5d434f4f8e056a5b39b5d422",
       "version_major": 2,
       "version_minor": 0
      },
      "text/plain": [
       "Output()"
      ]
     },
     "metadata": {},
     "output_type": "display_data"
    },
    {
     "name": "stdout",
     "output_type": "stream",
     "text": [
      "[65] 🎯 Correctness Score (raw): 0.7646855689454772\n",
      "\n",
      "--- [Row 66] ---\n",
      "Question: How should Methylprednisolone Oral be used and what is the dosage ?\n",
      "Model_Answer: Methylprednisolone comes as a tablet to take by mouth. Your doctor will prescribe a dosing schedule \n",
      "Reference Answer: Methylprednisolone comes as a tablet to take by mouth. Your doctor will prescribe a dosing schedule \n"
     ]
    },
    {
     "data": {
      "text/html": [
       "<pre style=\"white-space:pre;overflow-x:auto;line-height:normal;font-family:Menlo,'DejaVu Sans Mono',consolas,'Courier New',monospace\"></pre>\n"
      ],
      "text/plain": []
     },
     "metadata": {},
     "output_type": "display_data"
    },
    {
     "data": {
      "application/vnd.jupyter.widget-view+json": {
       "model_id": "13f47693fb434303b27f80832fd91028",
       "version_major": 2,
       "version_minor": 0
      },
      "text/plain": [
       "Output()"
      ]
     },
     "metadata": {},
     "output_type": "display_data"
    },
    {
     "name": "stdout",
     "output_type": "stream",
     "text": [
      "[66] 🎯 Correctness Score (raw): 0.666341068190933\n",
      "\n",
      "--- [Row 67] ---\n",
      "Question: Are there safety concerns or special precautions about Methylprednisolone Oral ?\n",
      "Model_Answer: Before taking methylprednisolone,  - tell your doctor and pharmacist if you are allergic to methylpr\n",
      "Reference Answer: Before taking methylprednisolone,  - tell your doctor and pharmacist if you are allergic to methylpr\n"
     ]
    },
    {
     "data": {
      "text/html": [
       "<pre style=\"white-space:pre;overflow-x:auto;line-height:normal;font-family:Menlo,'DejaVu Sans Mono',consolas,'Courier New',monospace\"></pre>\n"
      ],
      "text/plain": []
     },
     "metadata": {},
     "output_type": "display_data"
    },
    {
     "data": {
      "application/vnd.jupyter.widget-view+json": {
       "model_id": "fb5f55a497ff4a9faec20e492533f446",
       "version_major": 2,
       "version_minor": 0
      },
      "text/plain": [
       "Output()"
      ]
     },
     "metadata": {},
     "output_type": "display_data"
    },
    {
     "name": "stdout",
     "output_type": "stream",
     "text": [
      "[67] 🎯 Correctness Score (raw): 0.5983558438382264\n",
      "\n",
      "--- [Row 68] ---\n",
      "Question: What special dietary instructions should I follow with Methylprednisolone Oral ?\n",
      "Model_Answer: Your doctor may instruct you to follow a low-sodium, low-salt, potassium-rich, or high-protein diet.\n",
      "Reference Answer: Your doctor may instruct you to follow a low-sodium, low-salt, potassium-rich, or high-protein diet.\n"
     ]
    },
    {
     "data": {
      "text/html": [
       "<pre style=\"white-space:pre;overflow-x:auto;line-height:normal;font-family:Menlo,'DejaVu Sans Mono',consolas,'Courier New',monospace\"></pre>\n"
      ],
      "text/plain": []
     },
     "metadata": {},
     "output_type": "display_data"
    },
    {
     "data": {
      "application/vnd.jupyter.widget-view+json": {
       "model_id": "ca501e8197bb47b79316d2aee556a913",
       "version_major": 2,
       "version_minor": 0
      },
      "text/plain": [
       "Output()"
      ]
     },
     "metadata": {},
     "output_type": "display_data"
    },
    {
     "name": "stdout",
     "output_type": "stream",
     "text": [
      "[68] 🎯 Correctness Score (raw): 0.7666306494362735\n",
      "\n",
      "--- [Row 69] ---\n",
      "Question: What should I do if I forget a dose of Methylprednisolone Oral ?\n",
      "Model_Answer: When you start to take methylprednisolone, ask your doctor what to do if you forget a dose. Write do\n",
      "Reference Answer: When you start to take methylprednisolone, ask your doctor what to do if you forget a dose. Write do\n"
     ]
    },
    {
     "data": {
      "text/html": [
       "<pre style=\"white-space:pre;overflow-x:auto;line-height:normal;font-family:Menlo,'DejaVu Sans Mono',consolas,'Courier New',monospace\"></pre>\n"
      ],
      "text/plain": []
     },
     "metadata": {},
     "output_type": "display_data"
    },
    {
     "data": {
      "application/vnd.jupyter.widget-view+json": {
       "model_id": "9188b815d0d343fba281ff518927ef25",
       "version_major": 2,
       "version_minor": 0
      },
      "text/plain": [
       "Output()"
      ]
     },
     "metadata": {},
     "output_type": "display_data"
    },
    {
     "name": "stdout",
     "output_type": "stream",
     "text": [
      "[69] 🎯 Correctness Score (raw): 0.7146506745547642\n",
      "\n",
      "--- [Row 70] ---\n",
      "Question: What are the side effects or risks of Methylprednisolone Oral ?\n",
      "Model_Answer: Methylprednisolone may cause side effects. Tell your doctor if any of these symptoms are severe or d\n",
      "Reference Answer: Methylprednisolone may cause side effects. Tell your doctor if any of these symptoms are severe or d\n"
     ]
    },
    {
     "data": {
      "text/html": [
       "<pre style=\"white-space:pre;overflow-x:auto;line-height:normal;font-family:Menlo,'DejaVu Sans Mono',consolas,'Courier New',monospace\"></pre>\n"
      ],
      "text/plain": []
     },
     "metadata": {},
     "output_type": "display_data"
    },
    {
     "data": {
      "application/vnd.jupyter.widget-view+json": {
       "model_id": "16ac1dc16dac483a9a451052fd0d9d13",
       "version_major": 2,
       "version_minor": 0
      },
      "text/plain": [
       "Output()"
      ]
     },
     "metadata": {},
     "output_type": "display_data"
    },
    {
     "name": "stdout",
     "output_type": "stream",
     "text": [
      "[70] 🎯 Correctness Score (raw): 0.7936248665359089\n",
      "\n",
      "--- [Row 71] ---\n",
      "Question: What to do in case of emergency or overdose of Methylprednisolone Oral ?\n",
      "Model_Answer: In case of overdose, call your local poison control center at 1-800-222-1222. If the victim has coll\n",
      "Reference Answer: In case of overdose, call your local poison control center at 1-800-222-1222. If the victim has coll\n"
     ]
    },
    {
     "data": {
      "text/html": [
       "<pre style=\"white-space:pre;overflow-x:auto;line-height:normal;font-family:Menlo,'DejaVu Sans Mono',consolas,'Courier New',monospace\"></pre>\n"
      ],
      "text/plain": []
     },
     "metadata": {},
     "output_type": "display_data"
    },
    {
     "data": {
      "application/vnd.jupyter.widget-view+json": {
       "model_id": "0f1beb98a5a64f3696c50b44f92fe64e",
       "version_major": 2,
       "version_minor": 0
      },
      "text/plain": [
       "Output()"
      ]
     },
     "metadata": {},
     "output_type": "display_data"
    },
    {
     "name": "stdout",
     "output_type": "stream",
     "text": [
      "[71] 🎯 Correctness Score (raw): 0.7279316484335918\n",
      "\n",
      "--- [Row 72] ---\n",
      "Question: What other information should I know about Methylprednisolone Oral ?\n",
      "Model_Answer: Your doctor has ordered methylprednisolone, a corticosteroid, to relieve inflammation (swelling, hea\n",
      "Reference Answer: Keep all appointments with your doctor and the laboratory. Your doctor will order certain lab tests \n"
     ]
    },
    {
     "data": {
      "text/html": [
       "<pre style=\"white-space:pre;overflow-x:auto;line-height:normal;font-family:Menlo,'DejaVu Sans Mono',consolas,'Courier New',monospace\"></pre>\n"
      ],
      "text/plain": []
     },
     "metadata": {},
     "output_type": "display_data"
    },
    {
     "data": {
      "application/vnd.jupyter.widget-view+json": {
       "model_id": "4db50b9f16c343cd998883302e1a65ca",
       "version_major": 2,
       "version_minor": 0
      },
      "text/plain": [
       "Output()"
      ]
     },
     "metadata": {},
     "output_type": "display_data"
    },
    {
     "name": "stdout",
     "output_type": "stream",
     "text": [
      "[72] 🎯 Correctness Score (raw): 0.7342340168000077\n",
      "\n",
      "--- [Row 73] ---\n",
      "Question: What other information should I know about Methylprednisolone Sodium Succinate Injection ?\n",
      "Model_Answer: Your doctor has ordered methylprednisolone, a corticosteroid, to relieve inflammation (swelling, hea\n",
      "Reference Answer: Your doctor has ordered methylprednisolone, a corticosteroid, to relieve inflammation (swelling, hea\n"
     ]
    },
    {
     "data": {
      "text/html": [
       "<pre style=\"white-space:pre;overflow-x:auto;line-height:normal;font-family:Menlo,'DejaVu Sans Mono',consolas,'Courier New',monospace\"></pre>\n"
      ],
      "text/plain": []
     },
     "metadata": {},
     "output_type": "display_data"
    },
    {
     "data": {
      "application/vnd.jupyter.widget-view+json": {
       "model_id": "ce47c822674a4d14b1d4bed20dc266f7",
       "version_major": 2,
       "version_minor": 0
      },
      "text/plain": [
       "Output()"
      ]
     },
     "metadata": {},
     "output_type": "display_data"
    },
    {
     "name": "stdout",
     "output_type": "stream",
     "text": [
      "[73] 🎯 Correctness Score (raw): 0.7834265174798893\n",
      "\n",
      "--- [Row 74] ---\n",
      "Question: What are the brand names of Methylprednisolone Sodium Succinate Injection ?\n",
      "Model_Answer: - A-methaPred  - Depo-Medrol  - Solu-Medrol)  - SoluPred)  - Pred  - Prednisone)  - Deltasone)  - Me\n",
      "Reference Answer: - A-methaPred  - Depo-Medrol  - Solu-Medrol)\n"
     ]
    },
    {
     "data": {
      "text/html": [
       "<pre style=\"white-space:pre;overflow-x:auto;line-height:normal;font-family:Menlo,'DejaVu Sans Mono',consolas,'Courier New',monospace\"></pre>\n"
      ],
      "text/plain": []
     },
     "metadata": {},
     "output_type": "display_data"
    },
    {
     "data": {
      "application/vnd.jupyter.widget-view+json": {
       "model_id": "24a3884e20ac4330a576ece3c9ae13a9",
       "version_major": 2,
       "version_minor": 0
      },
      "text/plain": [
       "Output()"
      ]
     },
     "metadata": {},
     "output_type": "display_data"
    },
    {
     "name": "stdout",
     "output_type": "stream",
     "text": [
      "[74] 🎯 Correctness Score (raw): 0.34248823860682814\n",
      "\n",
      "--- [Row 75] ---\n",
      "Question: What are the side effects or risks of Prednisone ?\n",
      "Model_Answer: Prednisone may cause side effects. Tell your doctor if any of these symptoms are severe or do not go\n",
      "Reference Answer: Prednisone may cause side effects. Tell your doctor if any of these symptoms are severe or do not go\n"
     ]
    },
    {
     "data": {
      "text/html": [
       "<pre style=\"white-space:pre;overflow-x:auto;line-height:normal;font-family:Menlo,'DejaVu Sans Mono',consolas,'Courier New',monospace\"></pre>\n"
      ],
      "text/plain": []
     },
     "metadata": {},
     "output_type": "display_data"
    },
    {
     "data": {
      "application/vnd.jupyter.widget-view+json": {
       "model_id": "87ff3459a20d45fe87453b906cd7c393",
       "version_major": 2,
       "version_minor": 0
      },
      "text/plain": [
       "Output()"
      ]
     },
     "metadata": {},
     "output_type": "display_data"
    },
    {
     "name": "stdout",
     "output_type": "stream",
     "text": [
      "[75] 🎯 Correctness Score (raw): 0.8492965167239357\n",
      "\n",
      "--- [Row 76] ---\n",
      "Question: What are the symptoms of Electrical injury ? (Also called: Electrical shock)\n",
      "Model_Answer: Symptoms depend on many things, including:  - Type and strength of voltage  - How long you were in c\n",
      "Reference Answer: Symptoms depend on many things, including:  - Type and strength of voltage  - How long you were in c\n"
     ]
    },
    {
     "data": {
      "text/html": [
       "<pre style=\"white-space:pre;overflow-x:auto;line-height:normal;font-family:Menlo,'DejaVu Sans Mono',consolas,'Courier New',monospace\"></pre>\n"
      ],
      "text/plain": []
     },
     "metadata": {},
     "output_type": "display_data"
    },
    {
     "data": {
      "application/vnd.jupyter.widget-view+json": {
       "model_id": "069f448cf49042289a46d2981f1c07cf",
       "version_major": 2,
       "version_minor": 0
      },
      "text/plain": [
       "Output()"
      ]
     },
     "metadata": {},
     "output_type": "display_data"
    },
    {
     "name": "stdout",
     "output_type": "stream",
     "text": [
      "[76] 🎯 Correctness Score (raw): 0.7921525650636394\n",
      "\n",
      "--- [Row 77] ---\n",
      "Question: What should I know about storage and disposal of Calcitonin Salmon Nasal Spray ?\n",
      "Model_Answer: Keep this medication in the container it came in, tightly closed, and out of reach of children. Stor\n",
      "Reference Answer: Keep this medication in the container it came in, tightly closed, and out of reach of children. Stor\n"
     ]
    },
    {
     "data": {
      "text/html": [
       "<pre style=\"white-space:pre;overflow-x:auto;line-height:normal;font-family:Menlo,'DejaVu Sans Mono',consolas,'Courier New',monospace\"></pre>\n"
      ],
      "text/plain": []
     },
     "metadata": {},
     "output_type": "display_data"
    },
    {
     "data": {
      "application/vnd.jupyter.widget-view+json": {
       "model_id": "6e8921b066f74c59a4fde55b93faa7cf",
       "version_major": 2,
       "version_minor": 0
      },
      "text/plain": [
       "Output()"
      ]
     },
     "metadata": {},
     "output_type": "display_data"
    },
    {
     "name": "stdout",
     "output_type": "stream",
     "text": [
      "[77] 🎯 Correctness Score (raw): 0.8778280113909765\n",
      "\n",
      "--- [Row 78] ---\n",
      "Question: What is (are) Isolated sleep paralysis ? (Also called: Sleep paralysis - isolated; Parasomnia - isol\n",
      "Model_Answer: Isolated sleep paralysis is a type of paralysis that occurs when a person just goes to sleep or upon\n",
      "Reference Answer: Isolated sleep paralysis is a type of paralysis that occurs when a person just goes to sleep or upon\n"
     ]
    },
    {
     "data": {
      "text/html": [
       "<pre style=\"white-space:pre;overflow-x:auto;line-height:normal;font-family:Menlo,'DejaVu Sans Mono',consolas,'Courier New',monospace\"></pre>\n"
      ],
      "text/plain": []
     },
     "metadata": {},
     "output_type": "display_data"
    },
    {
     "data": {
      "application/vnd.jupyter.widget-view+json": {
       "model_id": "166c397a445e4c5884fbcaace89f0433",
       "version_major": 2,
       "version_minor": 0
      },
      "text/plain": [
       "Output()"
      ]
     },
     "metadata": {},
     "output_type": "display_data"
    },
    {
     "name": "stdout",
     "output_type": "stream",
     "text": [
      "[78] 🎯 Correctness Score (raw): 0.6371203211338086\n",
      "\n",
      "--- [Row 79] ---\n",
      "Question: What are the symptoms of Isolated sleep paralysis ? (Also called: Sleep paralysis - isolated; Paraso\n",
      "Model_Answer: Episodes of isolated sleep paralysis last from a few seconds to 1 or 2 minutes. During these episode\n",
      "Reference Answer: Episodes of isolated sleep paralysis last from a few seconds to 1 or 2 minutes. During these episode\n"
     ]
    },
    {
     "data": {
      "text/html": [
       "<pre style=\"white-space:pre;overflow-x:auto;line-height:normal;font-family:Menlo,'DejaVu Sans Mono',consolas,'Courier New',monospace\"></pre>\n"
      ],
      "text/plain": []
     },
     "metadata": {},
     "output_type": "display_data"
    },
    {
     "data": {
      "application/vnd.jupyter.widget-view+json": {
       "model_id": "da84051c475f4260874ba02648d22173",
       "version_major": 2,
       "version_minor": 0
      },
      "text/plain": [
       "Output()"
      ]
     },
     "metadata": {},
     "output_type": "display_data"
    },
    {
     "name": "stdout",
     "output_type": "stream",
     "text": [
      "[79] 🎯 Correctness Score (raw): 0.6556922939073799\n",
      "\n",
      "--- [Row 80] ---\n",
      "Question: How to diagnose Isolated sleep paralysis ? (Also called: Sleep paralysis - isolated; Parasomnia - is\n",
      "Model_Answer: Sleep paralysis can be a symptom of narcolepsy. But if you do not have other symptoms of narcolepsy,\n",
      "Reference Answer: Sleep paralysis can be a symptom of narcolepsy. But if you do not have other symptoms of narcolepsy,\n"
     ]
    },
    {
     "data": {
      "text/html": [
       "<pre style=\"white-space:pre;overflow-x:auto;line-height:normal;font-family:Menlo,'DejaVu Sans Mono',consolas,'Courier New',monospace\"></pre>\n"
      ],
      "text/plain": []
     },
     "metadata": {},
     "output_type": "display_data"
    },
    {
     "data": {
      "application/vnd.jupyter.widget-view+json": {
       "model_id": "5b6211c97a8c47488fa342bf49ae5a01",
       "version_major": 2,
       "version_minor": 0
      },
      "text/plain": [
       "Output()"
      ]
     },
     "metadata": {},
     "output_type": "display_data"
    },
    {
     "name": "stdout",
     "output_type": "stream",
     "text": [
      "[80] 🎯 Correctness Score (raw): 0.7313145065734498\n",
      "\n",
      "--- [Row 81] ---\n",
      "Question: What are the treatments for Isolated sleep paralysis ? (Also called: Sleep paralysis - isolated; Par\n",
      "Model_Answer: In most cases, isolated sleep paralysis occurs so rarely that treatment is not needed. If the cause \n",
      "Reference Answer: In most cases, isolated sleep paralysis occurs so rarely that treatment is not needed. If the cause \n"
     ]
    },
    {
     "data": {
      "text/html": [
       "<pre style=\"white-space:pre;overflow-x:auto;line-height:normal;font-family:Menlo,'DejaVu Sans Mono',consolas,'Courier New',monospace\"></pre>\n"
      ],
      "text/plain": []
     },
     "metadata": {},
     "output_type": "display_data"
    },
    {
     "data": {
      "application/vnd.jupyter.widget-view+json": {
       "model_id": "70423160a6d749298748e40967bb6728",
       "version_major": 2,
       "version_minor": 0
      },
      "text/plain": [
       "Output()"
      ]
     },
     "metadata": {},
     "output_type": "display_data"
    },
    {
     "name": "stdout",
     "output_type": "stream",
     "text": [
      "[81] 🎯 Correctness Score (raw): 0.7415472937806484\n",
      "\n",
      "--- [Row 82] ---\n",
      "Question: What is (are) progressive familial heart block ? (Also called: bundle branch block; HBBD; hereditary\n",
      "Model_Answer: Progressive familial heart block is a genetic condition that alters the normal beating of the heart.\n",
      "Reference Answer: Progressive familial heart block is a genetic condition that alters the normal beating of the heart.\n"
     ]
    },
    {
     "data": {
      "text/html": [
       "<pre style=\"white-space:pre;overflow-x:auto;line-height:normal;font-family:Menlo,'DejaVu Sans Mono',consolas,'Courier New',monospace\"></pre>\n"
      ],
      "text/plain": []
     },
     "metadata": {},
     "output_type": "display_data"
    },
    {
     "data": {
      "application/vnd.jupyter.widget-view+json": {
       "model_id": "b6674f06eb5d454dadb5a7bec74f379b",
       "version_major": 2,
       "version_minor": 0
      },
      "text/plain": [
       "Output()"
      ]
     },
     "metadata": {},
     "output_type": "display_data"
    },
    {
     "name": "stdout",
     "output_type": "stream",
     "text": [
      "[82] 🎯 Correctness Score (raw): 0.6084868386738032\n",
      "\n",
      "--- [Row 83] ---\n",
      "Question: Are there safety concerns or special precautions about Cephalexin ?\n",
      "Model_Answer: Before taking cephalexin,  - tell your doctor and pharmacist if you are allergic to cephalexin or an\n",
      "Reference Answer: Before taking cephalexin,  - tell your doctor and pharmacist if you are allergic to cephalexin or an\n"
     ]
    },
    {
     "data": {
      "text/html": [
       "<pre style=\"white-space:pre;overflow-x:auto;line-height:normal;font-family:Menlo,'DejaVu Sans Mono',consolas,'Courier New',monospace\"></pre>\n"
      ],
      "text/plain": []
     },
     "metadata": {},
     "output_type": "display_data"
    },
    {
     "data": {
      "application/vnd.jupyter.widget-view+json": {
       "model_id": "e64ba127306a45c29e4c811809b62e1b",
       "version_major": 2,
       "version_minor": 0
      },
      "text/plain": [
       "Output()"
      ]
     },
     "metadata": {},
     "output_type": "display_data"
    },
    {
     "name": "stdout",
     "output_type": "stream",
     "text": [
      "[83] 🎯 Correctness Score (raw): 0.7629466310385692\n",
      "\n",
      "--- [Row 84] ---\n",
      "Question: Do you have information about Cardiac ablation procedures (Also called: Catheter ablation; Radiofreq\n",
      "Model_Answer: Summary : Cardiac ablation is a procedure that is used to scar small areas in your heart that may be\n",
      "Reference Answer: Summary : Cardiac ablation is a procedure that is used to scar small areas in your heart that may be\n"
     ]
    },
    {
     "data": {
      "text/html": [
       "<pre style=\"white-space:pre;overflow-x:auto;line-height:normal;font-family:Menlo,'DejaVu Sans Mono',consolas,'Courier New',monospace\"></pre>\n"
      ],
      "text/plain": []
     },
     "metadata": {},
     "output_type": "display_data"
    },
    {
     "data": {
      "application/vnd.jupyter.widget-view+json": {
       "model_id": "b4f976b2309c4d95bf4bc3c418ed4101",
       "version_major": 2,
       "version_minor": 0
      },
      "text/plain": [
       "Output()"
      ]
     },
     "metadata": {},
     "output_type": "display_data"
    },
    {
     "name": "stdout",
     "output_type": "stream",
     "text": [
      "[84] 🎯 Correctness Score (raw): 0.8186927112713397\n",
      "\n",
      "--- [Row 85] ---\n",
      "Question: What causes Hepatitis A ? (Also called: Viral hepatitis; Infectious hepatitis)\n",
      "Model_Answer: The hepatitis A virus is found mostly in the stools and blood of an infected person. The virus is pr\n",
      "Reference Answer: The hepatitis A virus is found mostly in the stools and blood of an infected person. The virus is pr\n"
     ]
    },
    {
     "data": {
      "text/html": [
       "<pre style=\"white-space:pre;overflow-x:auto;line-height:normal;font-family:Menlo,'DejaVu Sans Mono',consolas,'Courier New',monospace\"></pre>\n"
      ],
      "text/plain": []
     },
     "metadata": {},
     "output_type": "display_data"
    },
    {
     "data": {
      "application/vnd.jupyter.widget-view+json": {
       "model_id": "f21c8509965c4b73bae438db3c2dedf3",
       "version_major": 2,
       "version_minor": 0
      },
      "text/plain": [
       "Output()"
      ]
     },
     "metadata": {},
     "output_type": "display_data"
    },
    {
     "name": "stdout",
     "output_type": "stream",
     "text": [
      "[85] 🎯 Correctness Score (raw): 0.7779469389099989\n",
      "\n",
      "--- [Row 86] ---\n",
      "Question: How to prevent Hepatitis A ? (Also called: Viral hepatitis; Infectious hepatitis)\n",
      "Model_Answer: The following tips can help reduce your risk of spreading or catching the virus:  - Always wash your\n",
      "Reference Answer: The following tips can help reduce your risk of spreading or catching the virus:  - Always wash your\n"
     ]
    },
    {
     "data": {
      "text/html": [
       "<pre style=\"white-space:pre;overflow-x:auto;line-height:normal;font-family:Menlo,'DejaVu Sans Mono',consolas,'Courier New',monospace\"></pre>\n"
      ],
      "text/plain": []
     },
     "metadata": {},
     "output_type": "display_data"
    },
    {
     "data": {
      "application/vnd.jupyter.widget-view+json": {
       "model_id": "2624fb55be5048cfab142f09120ca889",
       "version_major": 2,
       "version_minor": 0
      },
      "text/plain": [
       "Output()"
      ]
     },
     "metadata": {},
     "output_type": "display_data"
    },
    {
     "name": "stdout",
     "output_type": "stream",
     "text": [
      "[86] 🎯 Correctness Score (raw): 0.8066010406365061\n",
      "\n",
      "--- [Row 87] ---\n",
      "Question: What causes Hepatitis C ? (Also called: Sustained virologic response - hepatitis C; SVR - hepatitis \n",
      "Model_Answer: Hepatitis C infection is caused by the hepatitis C virus (HCV).    You can catch hepatitis C if the \n",
      "Reference Answer: Hepatitis C infection is caused by the hepatitis C virus (HCV).    You can catch hepatitis C if the \n"
     ]
    },
    {
     "data": {
      "text/html": [
       "<pre style=\"white-space:pre;overflow-x:auto;line-height:normal;font-family:Menlo,'DejaVu Sans Mono',consolas,'Courier New',monospace\"></pre>\n"
      ],
      "text/plain": []
     },
     "metadata": {},
     "output_type": "display_data"
    },
    {
     "data": {
      "application/vnd.jupyter.widget-view+json": {
       "model_id": "2d44491ae0ae49aba1c2ffd79283faa1",
       "version_major": 2,
       "version_minor": 0
      },
      "text/plain": [
       "Output()"
      ]
     },
     "metadata": {},
     "output_type": "display_data"
    },
    {
     "name": "stdout",
     "output_type": "stream",
     "text": [
      "[87] 🎯 Correctness Score (raw): 0.8670297978426671\n",
      "\n",
      "--- [Row 88] ---\n",
      "Question: What causes Ribcage pain ? (Also called: Pain - ribcage)\n",
      "Model_Answer: Ribcage pain may be caused by any of the following:  - Bruised, cracked, or fractured rib  - Inflamm\n",
      "Reference Answer: Ribcage pain may be caused by any of the following:  - Bruised, cracked, or fractured rib  - Inflamm\n"
     ]
    },
    {
     "data": {
      "text/html": [
       "<pre style=\"white-space:pre;overflow-x:auto;line-height:normal;font-family:Menlo,'DejaVu Sans Mono',consolas,'Courier New',monospace\"></pre>\n"
      ],
      "text/plain": []
     },
     "metadata": {},
     "output_type": "display_data"
    },
    {
     "data": {
      "application/vnd.jupyter.widget-view+json": {
       "model_id": "e9a46f8b38224fc1a7c6d83c4715209e",
       "version_major": 2,
       "version_minor": 0
      },
      "text/plain": [
       "Output()"
      ]
     },
     "metadata": {},
     "output_type": "display_data"
    },
    {
     "name": "stdout",
     "output_type": "stream",
     "text": [
      "[88] 🎯 Correctness Score (raw): 0.7343253255979856\n",
      "\n",
      "--- [Row 89] ---\n",
      "Question: What is (are) Hantavirus ? (Also called: Hantavirus pulmonary syndrome; Hemorrhagic fever with renal\n",
      "Model_Answer: Hantavirus is a life-threatening viral infection spread to humans by rodents. It has symptoms simila\n",
      "Reference Answer: Hantavirus is a life-threatening viral infection spread to humans by rodents. It has symptoms simila\n"
     ]
    },
    {
     "data": {
      "text/html": [
       "<pre style=\"white-space:pre;overflow-x:auto;line-height:normal;font-family:Menlo,'DejaVu Sans Mono',consolas,'Courier New',monospace\"></pre>\n"
      ],
      "text/plain": []
     },
     "metadata": {},
     "output_type": "display_data"
    },
    {
     "data": {
      "application/vnd.jupyter.widget-view+json": {
       "model_id": "d5e4ec1304b64467bbaf27c9e07510c4",
       "version_major": 2,
       "version_minor": 0
      },
      "text/plain": [
       "Output()"
      ]
     },
     "metadata": {},
     "output_type": "display_data"
    },
    {
     "name": "stdout",
     "output_type": "stream",
     "text": [
      "[89] 🎯 Correctness Score (raw): 0.5690875263414433\n",
      "\n",
      "--- [Row 90] ---\n",
      "Question: What is the outlook for Hantavirus ? (Also called: Hantavirus pulmonary syndrome; Hemorrhagic fever \n",
      "Model_Answer: Hantavirus is a serious infection that gets worse quickly. Lung failure can occur and may lead to de\n",
      "Reference Answer: Hantavirus is a serious infection that gets worse quickly. Lung failure can occur and may lead to de\n"
     ]
    },
    {
     "data": {
      "text/html": [
       "<pre style=\"white-space:pre;overflow-x:auto;line-height:normal;font-family:Menlo,'DejaVu Sans Mono',consolas,'Courier New',monospace\"></pre>\n"
      ],
      "text/plain": []
     },
     "metadata": {},
     "output_type": "display_data"
    },
    {
     "data": {
      "application/vnd.jupyter.widget-view+json": {
       "model_id": "ae5d6c8b0ffc48529682fc343de1f2f1",
       "version_major": 2,
       "version_minor": 0
      },
      "text/plain": [
       "Output()"
      ]
     },
     "metadata": {},
     "output_type": "display_data"
    },
    {
     "name": "stdout",
     "output_type": "stream",
     "text": [
      "[90] 🎯 Correctness Score (raw): 0.6399008180044523\n",
      "\n",
      "--- [Row 91] ---\n",
      "Question: What are the complications of Hantavirus ? (Also called: Hantavirus pulmonary syndrome; Hemorrhagic \n",
      "Model_Answer: Complications of hantavirus may include:  - Kidney failure  - Heart and lung failure   These complic\n",
      "Reference Answer: Complications of hantavirus may include:  - Kidney failure  - Heart and lung failure   These complic\n"
     ]
    },
    {
     "data": {
      "text/html": [
       "<pre style=\"white-space:pre;overflow-x:auto;line-height:normal;font-family:Menlo,'DejaVu Sans Mono',consolas,'Courier New',monospace\"></pre>\n"
      ],
      "text/plain": []
     },
     "metadata": {},
     "output_type": "display_data"
    },
    {
     "data": {
      "application/vnd.jupyter.widget-view+json": {
       "model_id": "84e8eb512e2e4e249cfa10b2cdc85e26",
       "version_major": 2,
       "version_minor": 0
      },
      "text/plain": [
       "Output()"
      ]
     },
     "metadata": {},
     "output_type": "display_data"
    },
    {
     "name": "stdout",
     "output_type": "stream",
     "text": [
      "[91] 🎯 Correctness Score (raw): 0.7097498492427341\n",
      "\n",
      "--- [Row 92] ---\n",
      "Question: what are the symptoms for Hantavirus ?\n",
      "Model_Answer: Due to the small number of HPS cases, the \"incubation time\" is not positively known. However, on the\n",
      "Reference Answer: Due to the small number of HPS cases, the \"incubation time\" is not positively known. However, on the\n"
     ]
    },
    {
     "data": {
      "text/html": [
       "<pre style=\"white-space:pre;overflow-x:auto;line-height:normal;font-family:Menlo,'DejaVu Sans Mono',consolas,'Courier New',monospace\"></pre>\n"
      ],
      "text/plain": []
     },
     "metadata": {},
     "output_type": "display_data"
    },
    {
     "data": {
      "application/vnd.jupyter.widget-view+json": {
       "model_id": "497ca4389db046069b3aa978ea9a4f65",
       "version_major": 2,
       "version_minor": 0
      },
      "text/plain": [
       "Output()"
      ]
     },
     "metadata": {},
     "output_type": "display_data"
    },
    {
     "name": "stdout",
     "output_type": "stream",
     "text": [
      "[92] 🎯 Correctness Score (raw): 0.7869276258372759\n",
      "\n",
      "--- [Row 93] ---\n",
      "Question: what is the history of hps for Hantavirus ?\n",
      "Model_Answer: The \"First\"OutbreaksIn 1969, a large outbreak of hantavirus occurred in Seoul, South Korea. The dise\n",
      "Reference Answer: The \"First\"Outbreak\n"
     ]
    },
    {
     "data": {
      "text/html": [
       "<pre style=\"white-space:pre;overflow-x:auto;line-height:normal;font-family:Menlo,'DejaVu Sans Mono',consolas,'Courier New',monospace\"></pre>\n"
      ],
      "text/plain": []
     },
     "metadata": {},
     "output_type": "display_data"
    },
    {
     "data": {
      "application/vnd.jupyter.widget-view+json": {
       "model_id": "196f0a5d25b64bccb6994cfb305672bc",
       "version_major": 2,
       "version_minor": 0
      },
      "text/plain": [
       "Output()"
      ]
     },
     "metadata": {},
     "output_type": "display_data"
    },
    {
     "name": "stdout",
     "output_type": "stream",
     "text": [
      "[93] 🎯 Correctness Score (raw): 0.6302257252645417\n",
      "\n",
      "--- [Row 94] ---\n",
      "Question: What are the symptoms of Appendicitis ?\n",
      "Model_Answer: Pain around the belly button, pain that moves into the right lower part of your belly, nausea, vomit\n",
      "Reference Answer: The symptoms of appendicitis can vary. It can be hard to diagnose appendicitis in young children, th\n"
     ]
    },
    {
     "data": {
      "text/html": [
       "<pre style=\"white-space:pre;overflow-x:auto;line-height:normal;font-family:Menlo,'DejaVu Sans Mono',consolas,'Courier New',monospace\"></pre>\n"
      ],
      "text/plain": []
     },
     "metadata": {},
     "output_type": "display_data"
    },
    {
     "data": {
      "application/vnd.jupyter.widget-view+json": {
       "model_id": "f1f985ea09bd4375b04d236f115a6383",
       "version_major": 2,
       "version_minor": 0
      },
      "text/plain": [
       "Output()"
      ]
     },
     "metadata": {},
     "output_type": "display_data"
    },
    {
     "name": "stdout",
     "output_type": "stream",
     "text": [
      "[94] 🎯 Correctness Score (raw): 0.6387982376729338\n",
      "\n",
      "--- [Row 95] ---\n",
      "Question: What is (are) Appendicitis ?\n",
      "Model_Answer: The appendix is a small, tube-like organ attached to the first part of the large intestine. It is lo\n",
      "Reference Answer: The appendix is a small, tube-like organ attached to the first part of the large intestine. It is lo\n"
     ]
    },
    {
     "data": {
      "text/html": [
       "<pre style=\"white-space:pre;overflow-x:auto;line-height:normal;font-family:Menlo,'DejaVu Sans Mono',consolas,'Courier New',monospace\"></pre>\n"
      ],
      "text/plain": []
     },
     "metadata": {},
     "output_type": "display_data"
    },
    {
     "data": {
      "application/vnd.jupyter.widget-view+json": {
       "model_id": "8226dbdc217948cca732a311a9777bd1",
       "version_major": 2,
       "version_minor": 0
      },
      "text/plain": [
       "Output()"
      ]
     },
     "metadata": {},
     "output_type": "display_data"
    },
    {
     "name": "stdout",
     "output_type": "stream",
     "text": [
      "[95] 🎯 Correctness Score (raw): 0.8013982944653011\n",
      "\n",
      "--- [Row 96] ---\n",
      "Question: How should Oxybutynin be used and what is the dosage ?\n",
      "Model_Answer: Oxybutynin comes as a tablet, a syrup, and an extended-release (long-acting) tablet to take by mouth\n",
      "Reference Answer: Oxybutynin comes as a tablet, a syrup, and an extended-release (long-acting) tablet to take by mouth\n"
     ]
    },
    {
     "data": {
      "text/html": [
       "<pre style=\"white-space:pre;overflow-x:auto;line-height:normal;font-family:Menlo,'DejaVu Sans Mono',consolas,'Courier New',monospace\"></pre>\n"
      ],
      "text/plain": []
     },
     "metadata": {},
     "output_type": "display_data"
    },
    {
     "data": {
      "application/vnd.jupyter.widget-view+json": {
       "model_id": "2af0e0434cb5492bba7361e14410e116",
       "version_major": 2,
       "version_minor": 0
      },
      "text/plain": [
       "Output()"
      ]
     },
     "metadata": {},
     "output_type": "display_data"
    },
    {
     "name": "stdout",
     "output_type": "stream",
     "text": [
      "[96] 🎯 Correctness Score (raw): 0.7813072870536277\n",
      "\n",
      "--- [Row 97] ---\n",
      "Question: What is the outlook for Trisomy 13 ? (Also called: Patau syndrome)\n",
      "Model_Answer: More than 90% of children with trisomy 13 die in the first year.)  If you have a child with trisomy \n",
      "Reference Answer: More than 90% of children with trisomy 13 die in the first year.)\n"
     ]
    },
    {
     "data": {
      "text/html": [
       "<pre style=\"white-space:pre;overflow-x:auto;line-height:normal;font-family:Menlo,'DejaVu Sans Mono',consolas,'Courier New',monospace\"></pre>\n"
      ],
      "text/plain": []
     },
     "metadata": {},
     "output_type": "display_data"
    },
    {
     "data": {
      "application/vnd.jupyter.widget-view+json": {
       "model_id": "b8cb1c55857c4eef92d838466d9e484e",
       "version_major": 2,
       "version_minor": 0
      },
      "text/plain": [
       "Output()"
      ]
     },
     "metadata": {},
     "output_type": "display_data"
    },
    {
     "name": "stdout",
     "output_type": "stream",
     "text": [
      "[97] 🎯 Correctness Score (raw): 0.7823957448903217\n",
      "\n",
      "--- [Row 98] ---\n",
      "Question: What are the complications of Trisomy 13 ? (Also called: Patau syndrome)\n",
      "Model_Answer: Complications begin almost immediately. Most infants with trisomy 13 have congenital heart disease. \n",
      "Reference Answer: Complications begin almost immediately. Most infants with trisomy 13 have congenital heart disease. \n"
     ]
    },
    {
     "data": {
      "text/html": [
       "<pre style=\"white-space:pre;overflow-x:auto;line-height:normal;font-family:Menlo,'DejaVu Sans Mono',consolas,'Courier New',monospace\"></pre>\n"
      ],
      "text/plain": []
     },
     "metadata": {},
     "output_type": "display_data"
    },
    {
     "data": {
      "application/vnd.jupyter.widget-view+json": {
       "model_id": "4adc13688ba6487785778d4539c5448d",
       "version_major": 2,
       "version_minor": 0
      },
      "text/plain": [
       "Output()"
      ]
     },
     "metadata": {},
     "output_type": "display_data"
    },
    {
     "name": "stdout",
     "output_type": "stream",
     "text": [
      "[98] 🎯 Correctness Score (raw): 0.7739529675193622\n",
      "\n",
      "--- [Row 99] ---\n",
      "Question: What is (are) trisomy 13 ? (Also called: Bartholin-Patau syndrome; complete trisomy 13 syndrome; Pat\n",
      "Model_Answer: Trisomy 13, also called Patau syndrome, is a chromosomal condition associated with severe intellectu\n",
      "Reference Answer: Trisomy 13, also called Patau syndrome, is a chromosomal condition associated with severe intellectu\n"
     ]
    },
    {
     "data": {
      "text/html": [
       "<pre style=\"white-space:pre;overflow-x:auto;line-height:normal;font-family:Menlo,'DejaVu Sans Mono',consolas,'Courier New',monospace\"></pre>\n"
      ],
      "text/plain": []
     },
     "metadata": {},
     "output_type": "display_data"
    },
    {
     "data": {
      "application/vnd.jupyter.widget-view+json": {
       "model_id": "b6452bb4df1c45d695b6556f1b192673",
       "version_major": 2,
       "version_minor": 0
      },
      "text/plain": [
       "Output()"
      ]
     },
     "metadata": {},
     "output_type": "display_data"
    },
    {
     "name": "stdout",
     "output_type": "stream",
     "text": [
      "[99] 🎯 Correctness Score (raw): 0.77417470319549\n",
      "\n",
      "--- [Row 100] ---\n",
      "Question: What are the treatments for trisomy 13 ? (Also called: Bartholin-Patau syndrome; complete trisomy 13\n",
      "Model_Answer: These resources address the diagnosis or management of trisomy 13:  - Genetic Testing Registry: Comp\n",
      "Reference Answer: These resources address the diagnosis or management of trisomy 13:  - Genetic Testing Registry: Comp\n"
     ]
    },
    {
     "data": {
      "text/html": [
       "<pre style=\"white-space:pre;overflow-x:auto;line-height:normal;font-family:Menlo,'DejaVu Sans Mono',consolas,'Courier New',monospace\"></pre>\n"
      ],
      "text/plain": []
     },
     "metadata": {},
     "output_type": "display_data"
    },
    {
     "data": {
      "application/vnd.jupyter.widget-view+json": {
       "model_id": "873e0aa68d2243c0bd132010c0730010",
       "version_major": 2,
       "version_minor": 0
      },
      "text/plain": [
       "Output()"
      ]
     },
     "metadata": {},
     "output_type": "display_data"
    },
    {
     "name": "stdout",
     "output_type": "stream",
     "text": [
      "[100] 🎯 Correctness Score (raw): 0.36622830543713003\n",
      "\n",
      "--- [Row 101] ---\n",
      "Question: What is (are) Alcohol use and safe drinking ? (Also called: Beer consumption; Wine consumption; Hard\n",
      "Model_Answer: Alcohol is one of the most widely used drug substances in the world.  TEEN DRINKING  Alcohol use is \n",
      "Reference Answer: Alcohol is one of the most widely used drug substances in the world.  TEEN DRINKING  Alcohol use is \n"
     ]
    },
    {
     "data": {
      "text/html": [
       "<pre style=\"white-space:pre;overflow-x:auto;line-height:normal;font-family:Menlo,'DejaVu Sans Mono',consolas,'Courier New',monospace\"></pre>\n"
      ],
      "text/plain": []
     },
     "metadata": {},
     "output_type": "display_data"
    },
    {
     "data": {
      "application/vnd.jupyter.widget-view+json": {
       "model_id": "4ec0f20e74f042c789cb049f3a524677",
       "version_major": 2,
       "version_minor": 0
      },
      "text/plain": [
       "Output()"
      ]
     },
     "metadata": {},
     "output_type": "display_data"
    },
    {
     "name": "stdout",
     "output_type": "stream",
     "text": [
      "[101] 🎯 Correctness Score (raw): 0.54820836456856\n",
      "\n",
      "--- [Row 102] ---\n",
      "Question: What causes Low blood sugar - newborns ? (Also called: Neonatal hypoglycemia)\n",
      "Model_Answer: Glucose level can drop if:  - The baby is not producing enough insulin  - The baby's body is using m\n",
      "Reference Answer: Babies need blood sugar (glucose) for energy. Most of that glucose is used by the brain.  The baby g\n"
     ]
    },
    {
     "data": {
      "text/html": [
       "<pre style=\"white-space:pre;overflow-x:auto;line-height:normal;font-family:Menlo,'DejaVu Sans Mono',consolas,'Courier New',monospace\"></pre>\n"
      ],
      "text/plain": []
     },
     "metadata": {},
     "output_type": "display_data"
    },
    {
     "data": {
      "application/vnd.jupyter.widget-view+json": {
       "model_id": "4362298e733e46e3b269734ef61a48e6",
       "version_major": 2,
       "version_minor": 0
      },
      "text/plain": [
       "Output()"
      ]
     },
     "metadata": {},
     "output_type": "display_data"
    },
    {
     "name": "stdout",
     "output_type": "stream",
     "text": [
      "[102] 🎯 Correctness Score (raw): 0.47397250293273857\n",
      "\n",
      "--- [Row 103] ---\n",
      "Question: What are the complications of Low blood sugar - newborns ? (Also called: Neonatal hypoglycemia)\n",
      "Model_Answer: Severe or persistent low blood sugar level may affect the baby's mental function. In rare cases, hea\n",
      "Reference Answer: Severe or persistent low blood sugar level may affect the baby's mental function. In rare cases, hea\n"
     ]
    },
    {
     "data": {
      "text/html": [
       "<pre style=\"white-space:pre;overflow-x:auto;line-height:normal;font-family:Menlo,'DejaVu Sans Mono',consolas,'Courier New',monospace\"></pre>\n"
      ],
      "text/plain": []
     },
     "metadata": {},
     "output_type": "display_data"
    },
    {
     "data": {
      "application/vnd.jupyter.widget-view+json": {
       "model_id": "e7b807a1f3324d4fb06d5037ce7cd51e",
       "version_major": 2,
       "version_minor": 0
      },
      "text/plain": [
       "Output()"
      ]
     },
     "metadata": {},
     "output_type": "display_data"
    },
    {
     "name": "stdout",
     "output_type": "stream",
     "text": [
      "[103] 🎯 Correctness Score (raw): 0.6899308671002534\n",
      "\n",
      "--- [Row 104] ---\n",
      "Question: How to prevent Low blood sugar - newborns ? (Also called: Neonatal hypoglycemia)\n",
      "Model_Answer: If you have diabetes during pregnancy, work with your health care provider to control your blood sug\n",
      "Reference Answer: If you have diabetes during pregnancy, work with your health care provider to control your blood sug\n"
     ]
    },
    {
     "data": {
      "text/html": [
       "<pre style=\"white-space:pre;overflow-x:auto;line-height:normal;font-family:Menlo,'DejaVu Sans Mono',consolas,'Courier New',monospace\"></pre>\n"
      ],
      "text/plain": []
     },
     "metadata": {},
     "output_type": "display_data"
    },
    {
     "data": {
      "application/vnd.jupyter.widget-view+json": {
       "model_id": "4a8f2c14da6644e996bade488e9653fa",
       "version_major": 2,
       "version_minor": 0
      },
      "text/plain": [
       "Output()"
      ]
     },
     "metadata": {},
     "output_type": "display_data"
    },
    {
     "name": "stdout",
     "output_type": "stream",
     "text": [
      "[104] 🎯 Correctness Score (raw): 0.43639604680364863\n",
      "\n",
      "--- [Row 105] ---\n",
      "Question: How to diagnose Diverticulosis ? (Also called: Diverticula - diverticulosis; Diverticulitis - divert\n",
      "Model_Answer: Diverticulosis is often found during an exam for another health problem. For example, it is often di\n",
      "Reference Answer: Diverticulosis is often found during an exam for another health problem. For example, it is often di\n"
     ]
    },
    {
     "data": {
      "text/html": [
       "<pre style=\"white-space:pre;overflow-x:auto;line-height:normal;font-family:Menlo,'DejaVu Sans Mono',consolas,'Courier New',monospace\"></pre>\n"
      ],
      "text/plain": []
     },
     "metadata": {},
     "output_type": "display_data"
    },
    {
     "data": {
      "application/vnd.jupyter.widget-view+json": {
       "model_id": "2e92d0cf15964c2ba25fd92db9b2cb7f",
       "version_major": 2,
       "version_minor": 0
      },
      "text/plain": [
       "Output()"
      ]
     },
     "metadata": {},
     "output_type": "display_data"
    },
    {
     "name": "stdout",
     "output_type": "stream",
     "text": [
      "[105] 🎯 Correctness Score (raw): 0.6983119592164735\n",
      "\n",
      "--- [Row 106] ---\n",
      "Question: What is (are) Diverticulosis and Diverticulitis ? (Also called: Diverticular disease)\n",
      "Model_Answer: Diverticula are small pouches that bulge outward through the colon, or large intestine. If you have \n",
      "Reference Answer: Diverticula are small pouches that bulge outward through the colon, or large intestine. If you have \n"
     ]
    },
    {
     "data": {
      "text/html": [
       "<pre style=\"white-space:pre;overflow-x:auto;line-height:normal;font-family:Menlo,'DejaVu Sans Mono',consolas,'Courier New',monospace\"></pre>\n"
      ],
      "text/plain": []
     },
     "metadata": {},
     "output_type": "display_data"
    },
    {
     "data": {
      "application/vnd.jupyter.widget-view+json": {
       "model_id": "89a60c7c7ed44f12a2f17c9c4c3e9d44",
       "version_major": 2,
       "version_minor": 0
      },
      "text/plain": [
       "Output()"
      ]
     },
     "metadata": {},
     "output_type": "display_data"
    },
    {
     "name": "stdout",
     "output_type": "stream",
     "text": [
      "[106] 🎯 Correctness Score (raw): 0.8066010401550396\n",
      "\n",
      "--- [Row 107] ---\n",
      "Question: What causes Common cold ? (Also called: Upper respiratory infection - viral; Cold)\n",
      "Model_Answer: It is called the common cold for good reason. There are over one billion colds in the United States \n",
      "Reference Answer: It is called the common cold for good reason. There are over one billion colds in the United States \n"
     ]
    },
    {
     "data": {
      "text/html": [
       "<pre style=\"white-space:pre;overflow-x:auto;line-height:normal;font-family:Menlo,'DejaVu Sans Mono',consolas,'Courier New',monospace\"></pre>\n"
      ],
      "text/plain": []
     },
     "metadata": {},
     "output_type": "display_data"
    },
    {
     "data": {
      "application/vnd.jupyter.widget-view+json": {
       "model_id": "34d0ce1aee4a41d7bf38b30e06ee431c",
       "version_major": 2,
       "version_minor": 0
      },
      "text/plain": [
       "Output()"
      ]
     },
     "metadata": {},
     "output_type": "display_data"
    },
    {
     "name": "stdout",
     "output_type": "stream",
     "text": [
      "[107] 🎯 Correctness Score (raw): 0.5180225317054808\n",
      "\n",
      "--- [Row 108] ---\n",
      "Question: What is (are) hereditary hypophosphatemic rickets ? (Also called: hypophosphatemia; VDRR; vitamin D-\n",
      "Model_Answer: Hereditary hypophosphatemic rickets is a disorder related to low levels of phosphate in the blood (h\n",
      "Reference Answer: Hereditary hypophosphatemic rickets is a disorder related to low levels of phosphate in the blood (h\n"
     ]
    },
    {
     "data": {
      "text/html": [
       "<pre style=\"white-space:pre;overflow-x:auto;line-height:normal;font-family:Menlo,'DejaVu Sans Mono',consolas,'Courier New',monospace\"></pre>\n"
      ],
      "text/plain": []
     },
     "metadata": {},
     "output_type": "display_data"
    },
    {
     "data": {
      "application/vnd.jupyter.widget-view+json": {
       "model_id": "9bbd9e8745fd4f1eaab0ae8b39be9af9",
       "version_major": 2,
       "version_minor": 0
      },
      "text/plain": [
       "Output()"
      ]
     },
     "metadata": {},
     "output_type": "display_data"
    },
    {
     "name": "stdout",
     "output_type": "stream",
     "text": [
      "[108] 🎯 Correctness Score (raw): 0.7501047931303843\n",
      "\n",
      "--- [Row 109] ---\n",
      "Question: How many people are affected by hereditary hypophosphatemic rickets ? (Also called: hypophosphatemia\n",
      "Model_Answer: Hereditary hypophosphatemic rickets affects an estimated 1 in 20,000 newborns worldwide. The conditi\n",
      "Reference Answer: X-linked hypophosphatemic rickets is the most common form of rickets that runs in families. It affec\n"
     ]
    },
    {
     "data": {
      "text/html": [
       "<pre style=\"white-space:pre;overflow-x:auto;line-height:normal;font-family:Menlo,'DejaVu Sans Mono',consolas,'Courier New',monospace\"></pre>\n"
      ],
      "text/plain": []
     },
     "metadata": {},
     "output_type": "display_data"
    },
    {
     "data": {
      "application/vnd.jupyter.widget-view+json": {
       "model_id": "b444cc4aa33f415f955f720a1fa1a87f",
       "version_major": 2,
       "version_minor": 0
      },
      "text/plain": [
       "Output()"
      ]
     },
     "metadata": {},
     "output_type": "display_data"
    },
    {
     "name": "stdout",
     "output_type": "stream",
     "text": [
      "[109] 🎯 Correctness Score (raw): 0.7805312163527927\n",
      "\n",
      "--- [Row 110] ---\n",
      "Question: What are the genetic changes related to hereditary hypophosphatemic rickets ? (Also called: hypophos\n",
      "Model_Answer: Hereditary hypophosphatemic rickets can result from mutations in several genes. Mutations in the PHE\n",
      "Reference Answer: Hereditary hypophosphatemic rickets can result from mutations in several genes. Mutations in the PHE\n"
     ]
    },
    {
     "data": {
      "text/html": [
       "<pre style=\"white-space:pre;overflow-x:auto;line-height:normal;font-family:Menlo,'DejaVu Sans Mono',consolas,'Courier New',monospace\"></pre>\n"
      ],
      "text/plain": []
     },
     "metadata": {},
     "output_type": "display_data"
    },
    {
     "data": {
      "application/vnd.jupyter.widget-view+json": {
       "model_id": "f5fd6baacdb2443e91287495a82d6be1",
       "version_major": 2,
       "version_minor": 0
      },
      "text/plain": [
       "Output()"
      ]
     },
     "metadata": {},
     "output_type": "display_data"
    },
    {
     "name": "stdout",
     "output_type": "stream",
     "text": [
      "[110] 🎯 Correctness Score (raw): 0.7802113293291624\n",
      "\n",
      "--- [Row 111] ---\n",
      "Question: Is hereditary hypophosphatemic rickets inherited ? (Also called: hypophosphatemia; VDRR; vitamin D-r\n",
      "Model_Answer: Hereditary hypophosphatemic rickets can have several patterns of inheritance. When the condition res\n",
      "Reference Answer: Hereditary hypophosphatemic rickets can have several patterns of inheritance. When the condition res\n"
     ]
    },
    {
     "data": {
      "text/html": [
       "<pre style=\"white-space:pre;overflow-x:auto;line-height:normal;font-family:Menlo,'DejaVu Sans Mono',consolas,'Courier New',monospace\"></pre>\n"
      ],
      "text/plain": []
     },
     "metadata": {},
     "output_type": "display_data"
    },
    {
     "data": {
      "application/vnd.jupyter.widget-view+json": {
       "model_id": "96c5eb1797c64d759e2bfac79dd539dc",
       "version_major": 2,
       "version_minor": 0
      },
      "text/plain": [
       "Output()"
      ]
     },
     "metadata": {},
     "output_type": "display_data"
    },
    {
     "name": "stdout",
     "output_type": "stream",
     "text": [
      "[111] 🎯 Correctness Score (raw): 0.8057687926513871\n",
      "\n",
      "--- [Row 112] ---\n",
      "Question: How to prevent Shingles ? (Also called: Herpes zoster)\n",
      "Model_Answer: Do not touch the rash and blisters on persons with shingles or chickenpox if you have never had chic\n",
      "Reference Answer: Do not touch the rash and blisters on persons with shingles or chickenpox if you have never had chic\n"
     ]
    },
    {
     "data": {
      "text/html": [
       "<pre style=\"white-space:pre;overflow-x:auto;line-height:normal;font-family:Menlo,'DejaVu Sans Mono',consolas,'Courier New',monospace\"></pre>\n"
      ],
      "text/plain": []
     },
     "metadata": {},
     "output_type": "display_data"
    },
    {
     "data": {
      "application/vnd.jupyter.widget-view+json": {
       "model_id": "1b7c9bfd58d54a4fb70db8ebe54aec76",
       "version_major": 2,
       "version_minor": 0
      },
      "text/plain": [
       "Output()"
      ]
     },
     "metadata": {},
     "output_type": "display_data"
    },
    {
     "name": "stdout",
     "output_type": "stream",
     "text": [
      "[112] 🎯 Correctness Score (raw): 0.6016701907604529\n",
      "\n",
      "--- [Row 113] ---\n",
      "Question: How to prevent Shingles ?\n",
      "Model_Answer: A Vaccine for Adults 60 and Older In May 2006, the U.S. Food and Drug Administration approved a vacc\n",
      "Reference Answer: Yes. In May 2006, the U.S. Food and Drug Administration approved a vaccine to prevent shingles in pe\n"
     ]
    },
    {
     "data": {
      "text/html": [
       "<pre style=\"white-space:pre;overflow-x:auto;line-height:normal;font-family:Menlo,'DejaVu Sans Mono',consolas,'Courier New',monospace\"></pre>\n"
      ],
      "text/plain": []
     },
     "metadata": {},
     "output_type": "display_data"
    },
    {
     "data": {
      "application/vnd.jupyter.widget-view+json": {
       "model_id": "972745f5753e4d4b95eb5c9d6adaf92f",
       "version_major": 2,
       "version_minor": 0
      },
      "text/plain": [
       "Output()"
      ]
     },
     "metadata": {},
     "output_type": "display_data"
    },
    {
     "name": "stdout",
     "output_type": "stream",
     "text": [
      "[113] 🎯 Correctness Score (raw): 0.7615351683708523\n",
      "\n",
      "--- [Row 114] ---\n",
      "Question: What is (are) Shingles ?\n",
      "Model_Answer: Shingles is a painful rash that develops on one side of the face or body. The rash forms blisters th\n",
      "Reference Answer: Shingles is a painful rash that develops on one side of the face or body. The rash forms blisters th\n"
     ]
    },
    {
     "data": {
      "text/html": [
       "<pre style=\"white-space:pre;overflow-x:auto;line-height:normal;font-family:Menlo,'DejaVu Sans Mono',consolas,'Courier New',monospace\"></pre>\n"
      ],
      "text/plain": []
     },
     "metadata": {},
     "output_type": "display_data"
    },
    {
     "data": {
      "application/vnd.jupyter.widget-view+json": {
       "model_id": "a1e1577e4173470195d75210caf0d7ee",
       "version_major": 2,
       "version_minor": 0
      },
      "text/plain": [
       "Output()"
      ]
     },
     "metadata": {},
     "output_type": "display_data"
    },
    {
     "name": "stdout",
     "output_type": "stream",
     "text": [
      "[114] 🎯 Correctness Score (raw): 0.7929730708614788\n",
      "\n",
      "--- [Row 115] ---\n",
      "Question: How to prevent Shingles ?\n",
      "Model_Answer: A Vaccine for Adults 60 and Older In May 2006, the U.S. Food and Drug Administration approved a vacc\n",
      "Reference Answer: A Vaccine for Adults 60 and Older In May 2006, the U.S. Food and Drug Administration approved a vacc\n"
     ]
    },
    {
     "data": {
      "text/html": [
       "<pre style=\"white-space:pre;overflow-x:auto;line-height:normal;font-family:Menlo,'DejaVu Sans Mono',consolas,'Courier New',monospace\"></pre>\n"
      ],
      "text/plain": []
     },
     "metadata": {},
     "output_type": "display_data"
    },
    {
     "data": {
      "application/vnd.jupyter.widget-view+json": {
       "model_id": "215d3ea660fc402e81c74e4810fbb3d1",
       "version_major": 2,
       "version_minor": 0
      },
      "text/plain": [
       "Output()"
      ]
     },
     "metadata": {},
     "output_type": "display_data"
    },
    {
     "name": "stdout",
     "output_type": "stream",
     "text": [
      "[115] 🎯 Correctness Score (raw): 0.7894527569120561\n",
      "\n",
      "--- [Row 116] ---\n",
      "Question: What to do for Leg pain ? (Also called: Pain - leg; Aches - leg; Cramps - leg)\n",
      "Model_Answer: If you have leg pain from cramps or overuse, take these steps first:  - Rest as much as possible.  -\n",
      "Reference Answer: If you have leg pain from cramps or overuse, take these steps first:  - Rest as much as possible.  -\n"
     ]
    },
    {
     "data": {
      "text/html": [
       "<pre style=\"white-space:pre;overflow-x:auto;line-height:normal;font-family:Menlo,'DejaVu Sans Mono',consolas,'Courier New',monospace\"></pre>\n"
      ],
      "text/plain": []
     },
     "metadata": {},
     "output_type": "display_data"
    },
    {
     "data": {
      "application/vnd.jupyter.widget-view+json": {
       "model_id": "15fa3373f97d45adaeac778fe1acef36",
       "version_major": 2,
       "version_minor": 0
      },
      "text/plain": [
       "Output()"
      ]
     },
     "metadata": {},
     "output_type": "display_data"
    },
    {
     "name": "stdout",
     "output_type": "stream",
     "text": [
      "[116] 🎯 Correctness Score (raw): 0.7951587007225774\n",
      "\n",
      "--- [Row 117] ---\n",
      "Question: What is (are) Diabetes ? (Also called: Diabetes - type 1; Diabetes - type 2; Diabetes - gestational;\n",
      "Model_Answer: Diabetes is a chronic disease in which the body cannot regulate the amount of sugar in the blood.)  \n",
      "Reference Answer: Diabetes is a chronic disease in which the body cannot regulate the amount of sugar in the blood.)\n"
     ]
    },
    {
     "data": {
      "text/html": [
       "<pre style=\"white-space:pre;overflow-x:auto;line-height:normal;font-family:Menlo,'DejaVu Sans Mono',consolas,'Courier New',monospace\"></pre>\n"
      ],
      "text/plain": []
     },
     "metadata": {},
     "output_type": "display_data"
    },
    {
     "data": {
      "application/vnd.jupyter.widget-view+json": {
       "model_id": "b26adbdecb3a4cbe96257679d5eb6b1b",
       "version_major": 2,
       "version_minor": 0
      },
      "text/plain": [
       "Output()"
      ]
     },
     "metadata": {},
     "output_type": "display_data"
    },
    {
     "name": "stdout",
     "output_type": "stream",
     "text": [
      "[117] 🎯 Correctness Score (raw): 0.6713259125545354\n",
      "\n",
      "--- [Row 118] ---\n",
      "Question: What causes Diabetes ? (Also called: Diabetes - type 1; Diabetes - type 2; Diabetes - gestational; T\n",
      "Model_Answer: Insulin is a hormone produced by the pancreas to control blood sugar. Diabetes can be caused by too \n",
      "Reference Answer: Insulin is a hormone produced by the pancreas to control blood sugar. Diabetes can be caused by too \n"
     ]
    },
    {
     "data": {
      "text/html": [
       "<pre style=\"white-space:pre;overflow-x:auto;line-height:normal;font-family:Menlo,'DejaVu Sans Mono',consolas,'Courier New',monospace\"></pre>\n"
      ],
      "text/plain": []
     },
     "metadata": {},
     "output_type": "display_data"
    },
    {
     "data": {
      "application/vnd.jupyter.widget-view+json": {
       "model_id": "f4ba6d569580488fa1fbc62ec26096e5",
       "version_major": 2,
       "version_minor": 0
      },
      "text/plain": [
       "Output()"
      ]
     },
     "metadata": {},
     "output_type": "display_data"
    },
    {
     "name": "stdout",
     "output_type": "stream",
     "text": [
      "[118] 🎯 Correctness Score (raw): 0.6954439302022452\n",
      "\n",
      "--- [Row 119] ---\n",
      "Question: What is (are) Diabetes ? (Also called: Diabetes mellitus; DM)\n",
      "Model_Answer: Diabetes is a chronic disease in which the body cannot regulate the amount of sugar in the blood.)  \n",
      "Reference Answer: Diabetes is a disease in which your blood glucose, or blood sugar, levels are too high. Glucose come\n"
     ]
    },
    {
     "data": {
      "text/html": [
       "<pre style=\"white-space:pre;overflow-x:auto;line-height:normal;font-family:Menlo,'DejaVu Sans Mono',consolas,'Courier New',monospace\"></pre>\n"
      ],
      "text/plain": []
     },
     "metadata": {},
     "output_type": "display_data"
    },
    {
     "data": {
      "application/vnd.jupyter.widget-view+json": {
       "model_id": "8e96b7f8b1eb488da76f59e899d5a70e",
       "version_major": 2,
       "version_minor": 0
      },
      "text/plain": [
       "Output()"
      ]
     },
     "metadata": {},
     "output_type": "display_data"
    },
    {
     "name": "stdout",
     "output_type": "stream",
     "text": [
      "[119] 🎯 Correctness Score (raw): 0.4502595229761443\n",
      "\n",
      "--- [Row 120] ---\n",
      "Question: What is (are) Diabetes Type 1 ? (Also called: Insulin-dependent diabetes; Juvenile diabetes; Type I \n",
      "Model_Answer: Diabetes means your blood glucose, or blood sugar, levels are too high. With type 1 diabetes, your p\n",
      "Reference Answer: Diabetes means your blood glucose, or blood sugar, levels are too high. With type 1 diabetes, your p\n"
     ]
    },
    {
     "data": {
      "text/html": [
       "<pre style=\"white-space:pre;overflow-x:auto;line-height:normal;font-family:Menlo,'DejaVu Sans Mono',consolas,'Courier New',monospace\"></pre>\n"
      ],
      "text/plain": []
     },
     "metadata": {},
     "output_type": "display_data"
    },
    {
     "data": {
      "application/vnd.jupyter.widget-view+json": {
       "model_id": "b2094f3dc6384d56b43897d8d46d65b1",
       "version_major": 2,
       "version_minor": 0
      },
      "text/plain": [
       "Output()"
      ]
     },
     "metadata": {},
     "output_type": "display_data"
    },
    {
     "name": "stdout",
     "output_type": "stream",
     "text": [
      "[120] 🎯 Correctness Score (raw): 0.747577203013324\n",
      "\n",
      "--- [Row 121] ---\n",
      "Question: What is (are) Diabetes ?\n",
      "Model_Answer: Diabetes means your blood glucose (often called blood sugar) is too high. Your blood always has some\n",
      "Reference Answer: Heart disease and stroke are the leading causes of death for people with diabetes. Controlling the A\n"
     ]
    },
    {
     "data": {
      "text/html": [
       "<pre style=\"white-space:pre;overflow-x:auto;line-height:normal;font-family:Menlo,'DejaVu Sans Mono',consolas,'Courier New',monospace\"></pre>\n"
      ],
      "text/plain": []
     },
     "metadata": {},
     "output_type": "display_data"
    },
    {
     "data": {
      "application/vnd.jupyter.widget-view+json": {
       "model_id": "d47e8e2bdf1946ebb1ae9bb96eb2eae1",
       "version_major": 2,
       "version_minor": 0
      },
      "text/plain": [
       "Output()"
      ]
     },
     "metadata": {},
     "output_type": "display_data"
    },
    {
     "name": "stdout",
     "output_type": "stream",
     "text": [
      "[121] 🎯 Correctness Score (raw): 0.7466039005984545\n",
      "\n",
      "--- [Row 122] ---\n",
      "Question: What is (are) Diabetes ?\n",
      "Model_Answer: Diabetes means your blood glucose (often called blood sugar) is too high. Your blood always has some\n",
      "Reference Answer: People with diabetes should - do aerobic activities,  such as brisk walking, which use the bodys lar\n"
     ]
    },
    {
     "data": {
      "text/html": [
       "<pre style=\"white-space:pre;overflow-x:auto;line-height:normal;font-family:Menlo,'DejaVu Sans Mono',consolas,'Courier New',monospace\"></pre>\n"
      ],
      "text/plain": []
     },
     "metadata": {},
     "output_type": "display_data"
    },
    {
     "data": {
      "application/vnd.jupyter.widget-view+json": {
       "model_id": "48f2c64c039543c29759b67cbcc587d8",
       "version_major": 2,
       "version_minor": 0
      },
      "text/plain": [
       "Output()"
      ]
     },
     "metadata": {},
     "output_type": "display_data"
    },
    {
     "name": "stdout",
     "output_type": "stream",
     "text": [
      "[122] 🎯 Correctness Score (raw): 0.7602033980321827\n",
      "\n",
      "--- [Row 123] ---\n",
      "Question: What is (are) Diabetes ?\n",
      "Model_Answer: Diabetes means your blood glucose (often called blood sugar) is too high. Your blood always has some\n",
      "Reference Answer: Too Much Glucose in the Blood Diabetes means your blood glucose (often called blood sugar) is too hi\n"
     ]
    },
    {
     "data": {
      "text/html": [
       "<pre style=\"white-space:pre;overflow-x:auto;line-height:normal;font-family:Menlo,'DejaVu Sans Mono',consolas,'Courier New',monospace\"></pre>\n"
      ],
      "text/plain": []
     },
     "metadata": {},
     "output_type": "display_data"
    },
    {
     "data": {
      "application/vnd.jupyter.widget-view+json": {
       "model_id": "d9568fb10bbe44a1acbdf57e57435fd8",
       "version_major": 2,
       "version_minor": 0
      },
      "text/plain": [
       "Output()"
      ]
     },
     "metadata": {},
     "output_type": "display_data"
    },
    {
     "name": "stdout",
     "output_type": "stream",
     "text": [
      "[123] 🎯 Correctness Score (raw): 0.79706375454162\n",
      "\n",
      "--- [Row 124] ---\n",
      "Question: What is (are) Diabetes ?\n",
      "Model_Answer: Diabetes means your blood glucose (often called blood sugar) is too high. Your blood always has some\n",
      "Reference Answer: Diabetes means your blood glucose (often called blood sugar) is too high. Your blood always has some\n"
     ]
    },
    {
     "data": {
      "text/html": [
       "<pre style=\"white-space:pre;overflow-x:auto;line-height:normal;font-family:Menlo,'DejaVu Sans Mono',consolas,'Courier New',monospace\"></pre>\n"
      ],
      "text/plain": []
     },
     "metadata": {},
     "output_type": "display_data"
    },
    {
     "data": {
      "application/vnd.jupyter.widget-view+json": {
       "model_id": "25d426509c01400abaf598376b1bb977",
       "version_major": 2,
       "version_minor": 0
      },
      "text/plain": [
       "Output()"
      ]
     },
     "metadata": {},
     "output_type": "display_data"
    },
    {
     "name": "stdout",
     "output_type": "stream",
     "text": [
      "[124] 🎯 Correctness Score (raw): 0.813612212583015\n",
      "\n",
      "--- [Row 125] ---\n",
      "Question: What is (are) Diabetes ?\n",
      "Model_Answer: Diabetes means your blood glucose (often called blood sugar) is too high. Your blood always has some\n",
      "Reference Answer: Type 1 diabetes, which used to be called called juvenile diabetes or insulin-dependent diabetes, dev\n"
     ]
    },
    {
     "data": {
      "text/html": [
       "<pre style=\"white-space:pre;overflow-x:auto;line-height:normal;font-family:Menlo,'DejaVu Sans Mono',consolas,'Courier New',monospace\"></pre>\n"
      ],
      "text/plain": []
     },
     "metadata": {},
     "output_type": "display_data"
    },
    {
     "data": {
      "application/vnd.jupyter.widget-view+json": {
       "model_id": "e1eb9d965c084700ac6a7e3b736977cd",
       "version_major": 2,
       "version_minor": 0
      },
      "text/plain": [
       "Output()"
      ]
     },
     "metadata": {},
     "output_type": "display_data"
    },
    {
     "name": "stdout",
     "output_type": "stream",
     "text": [
      "[125] 🎯 Correctness Score (raw): 0.7381164163438557\n",
      "\n",
      "--- [Row 126] ---\n",
      "Question: What is (are) Diabetes ?\n",
      "Model_Answer: Diabetes means your blood glucose (often called blood sugar) is too high. Your blood always has some\n",
      "Reference Answer: Prediabetes means your blood glucose levels are higher than normal but not high enough for a diagnos\n"
     ]
    },
    {
     "data": {
      "text/html": [
       "<pre style=\"white-space:pre;overflow-x:auto;line-height:normal;font-family:Menlo,'DejaVu Sans Mono',consolas,'Courier New',monospace\"></pre>\n"
      ],
      "text/plain": []
     },
     "metadata": {},
     "output_type": "display_data"
    },
    {
     "data": {
      "application/vnd.jupyter.widget-view+json": {
       "model_id": "aafd075a76984d08903d83139985d646",
       "version_major": 2,
       "version_minor": 0
      },
      "text/plain": [
       "Output()"
      ]
     },
     "metadata": {},
     "output_type": "display_data"
    },
    {
     "name": "stdout",
     "output_type": "stream",
     "text": [
      "[126] 🎯 Correctness Score (raw): 0.7023892207552818\n",
      "\n",
      "--- [Row 127] ---\n",
      "Question: What is (are) Diabetes ?\n",
      "Model_Answer: Diabetes means your blood glucose (often called blood sugar) is too high. Your blood always has some\n",
      "Reference Answer: Studies have shown that most people with prediabetes develop type 2 diabetes within a few years, unl\n"
     ]
    },
    {
     "data": {
      "text/html": [
       "<pre style=\"white-space:pre;overflow-x:auto;line-height:normal;font-family:Menlo,'DejaVu Sans Mono',consolas,'Courier New',monospace\"></pre>\n"
      ],
      "text/plain": []
     },
     "metadata": {},
     "output_type": "display_data"
    },
    {
     "data": {
      "application/vnd.jupyter.widget-view+json": {
       "model_id": "046ed91d4c7241d3ab8fb961b0dd976f",
       "version_major": 2,
       "version_minor": 0
      },
      "text/plain": [
       "Output()"
      ]
     },
     "metadata": {},
     "output_type": "display_data"
    },
    {
     "name": "stdout",
     "output_type": "stream",
     "text": [
      "[127] 🎯 Correctness Score (raw): 0.7919454931870832\n",
      "\n",
      "--- [Row 128] ---\n",
      "Question: Do you have information about Calcium in diet (Also called: Diet - calcium)\n",
      "Model_Answer: Summary : Calcium is the most plentiful mineral found in the human body. The teeth and bones contain\n",
      "Reference Answer: Summary : Calcium is the most plentiful mineral found in the human body. The teeth and bones contain\n"
     ]
    },
    {
     "data": {
      "text/html": [
       "<pre style=\"white-space:pre;overflow-x:auto;line-height:normal;font-family:Menlo,'DejaVu Sans Mono',consolas,'Courier New',monospace\"></pre>\n"
      ],
      "text/plain": []
     },
     "metadata": {},
     "output_type": "display_data"
    },
    {
     "data": {
      "application/vnd.jupyter.widget-view+json": {
       "model_id": "8be5a92418f045cfbab049402acba970",
       "version_major": 2,
       "version_minor": 0
      },
      "text/plain": [
       "Output()"
      ]
     },
     "metadata": {},
     "output_type": "display_data"
    },
    {
     "name": "stdout",
     "output_type": "stream",
     "text": [
      "[128] 🎯 Correctness Score (raw): 0.7898667187900764\n",
      "\n",
      "--- [Row 129] ---\n",
      "Question: Do you have information about Calcium supplements\n",
      "Model_Answer: Summary : WHO SHOULD TAKE CALCIUM SUPPLEMENTS?  Calcium is an important mineral for the human body. \n",
      "Reference Answer: Summary : WHO SHOULD TAKE CALCIUM SUPPLEMENTS?  Calcium is an important mineral for the human body. \n"
     ]
    },
    {
     "data": {
      "text/html": [
       "<pre style=\"white-space:pre;overflow-x:auto;line-height:normal;font-family:Menlo,'DejaVu Sans Mono',consolas,'Courier New',monospace\"></pre>\n"
      ],
      "text/plain": []
     },
     "metadata": {},
     "output_type": "display_data"
    },
    {
     "data": {
      "application/vnd.jupyter.widget-view+json": {
       "model_id": "c8f372444dc54bff839512cd1d12333a",
       "version_major": 2,
       "version_minor": 0
      },
      "text/plain": [
       "Output()"
      ]
     },
     "metadata": {},
     "output_type": "display_data"
    },
    {
     "name": "stdout",
     "output_type": "stream",
     "text": [
      "[129] 🎯 Correctness Score (raw): 0.8191021647511822\n",
      "\n",
      "--- [Row 130] ---\n",
      "Question: What are the complications of Cervicitis ? (Also called: Cervical inflammation; Inflammation - cervi\n",
      "Model_Answer: Cervicitis may last for months to years. Cervicitis may lead to pain with intercourse (dyspareunia).\n",
      "Reference Answer: Cervicitis may last for months to years. Cervicitis may lead to pain with intercourse (dyspareunia).\n"
     ]
    },
    {
     "data": {
      "text/html": [
       "<pre style=\"white-space:pre;overflow-x:auto;line-height:normal;font-family:Menlo,'DejaVu Sans Mono',consolas,'Courier New',monospace\"></pre>\n"
      ],
      "text/plain": []
     },
     "metadata": {},
     "output_type": "display_data"
    },
    {
     "data": {
      "application/vnd.jupyter.widget-view+json": {
       "model_id": "a59df8d73ad545aab57bd61e37c09eca",
       "version_major": 2,
       "version_minor": 0
      },
      "text/plain": [
       "Output()"
      ]
     },
     "metadata": {},
     "output_type": "display_data"
    },
    {
     "name": "stdout",
     "output_type": "stream",
     "text": [
      "[130] 🎯 Correctness Score (raw): 0.7679497711553012\n",
      "\n",
      "--- [Row 131] ---\n",
      "Question: Do you have information about Nicotine and tobacco (Also called: Withdrawal from nicotine; Smoking -\n",
      "Model_Answer: Summary : The nicotine in tobacco can be addictive like alcohol, cocaine, and morphine.  Withdrawal \n",
      "Reference Answer: Summary : The nicotine in tobacco can be addictive like alcohol, cocaine, and morphine.\n"
     ]
    },
    {
     "data": {
      "text/html": [
       "<pre style=\"white-space:pre;overflow-x:auto;line-height:normal;font-family:Menlo,'DejaVu Sans Mono',consolas,'Courier New',monospace\"></pre>\n"
      ],
      "text/plain": []
     },
     "metadata": {},
     "output_type": "display_data"
    },
    {
     "data": {
      "application/vnd.jupyter.widget-view+json": {
       "model_id": "229df36f2f0e454dbd6ec044519467bc",
       "version_major": 2,
       "version_minor": 0
      },
      "text/plain": [
       "Output()"
      ]
     },
     "metadata": {},
     "output_type": "display_data"
    },
    {
     "name": "stdout",
     "output_type": "stream",
     "text": [
      "[131] 🎯 Correctness Score (raw): 0.7165014359455159\n",
      "\n",
      "--- [Row 132] ---\n",
      "Question: What are the side effects or risks of Nicotine Gum ?\n",
      "Model_Answer: If you experience any of the following symptoms, stop using nicotine gum and call your doctor immedi\n",
      "Reference Answer: If you experience any of the following symptoms, stop using nicotine gum and call your doctor immedi\n"
     ]
    },
    {
     "data": {
      "text/html": [
       "<pre style=\"white-space:pre;overflow-x:auto;line-height:normal;font-family:Menlo,'DejaVu Sans Mono',consolas,'Courier New',monospace\"></pre>\n"
      ],
      "text/plain": []
     },
     "metadata": {},
     "output_type": "display_data"
    },
    {
     "data": {
      "application/vnd.jupyter.widget-view+json": {
       "model_id": "64fb36ca20d4431e80d8fd51bcf73bb2",
       "version_major": 2,
       "version_minor": 0
      },
      "text/plain": [
       "Output()"
      ]
     },
     "metadata": {},
     "output_type": "display_data"
    },
    {
     "name": "stdout",
     "output_type": "stream",
     "text": [
      "[132] 🎯 Correctness Score (raw): 0.7539150736173139\n",
      "\n",
      "--- [Row 133] ---\n",
      "Question: What is (are) Foot, leg, and ankle swelling ? (Also called: Swelling of the ankles - feet - legs; An\n",
      "Model_Answer: Painless swelling of the feet and ankles is a common problem, especially among older people.  Abnorm\n",
      "Reference Answer: Painless swelling of the feet and ankles is a common problem, especially among older people.  Abnorm\n"
     ]
    },
    {
     "data": {
      "text/html": [
       "<pre style=\"white-space:pre;overflow-x:auto;line-height:normal;font-family:Menlo,'DejaVu Sans Mono',consolas,'Courier New',monospace\"></pre>\n"
      ],
      "text/plain": []
     },
     "metadata": {},
     "output_type": "display_data"
    },
    {
     "data": {
      "application/vnd.jupyter.widget-view+json": {
       "model_id": "6c6f9dc07f174544a45f701a1a6de19f",
       "version_major": 2,
       "version_minor": 0
      },
      "text/plain": [
       "Output()"
      ]
     },
     "metadata": {},
     "output_type": "display_data"
    },
    {
     "name": "stdout",
     "output_type": "stream",
     "text": [
      "[133] 🎯 Correctness Score (raw): 0.7745988153477591\n",
      "\n",
      "--- [Row 134] ---\n",
      "Question: What to do for Foot, leg, and ankle swelling ? (Also called: Swelling of the ankles - feet - legs; A\n",
      "Model_Answer: Some tips that may help reduce swelling:  - Put your legs on pillows to raise them above your heart \n",
      "Reference Answer: Painless swelling may affect both legs and may include the calves or even the thighs. The effect of \n"
     ]
    },
    {
     "data": {
      "text/html": [
       "<pre style=\"white-space:pre;overflow-x:auto;line-height:normal;font-family:Menlo,'DejaVu Sans Mono',consolas,'Courier New',monospace\"></pre>\n"
      ],
      "text/plain": []
     },
     "metadata": {},
     "output_type": "display_data"
    },
    {
     "data": {
      "application/vnd.jupyter.widget-view+json": {
       "model_id": "874756ff8936408982660f11e404d6f1",
       "version_major": 2,
       "version_minor": 0
      },
      "text/plain": [
       "Output()"
      ]
     },
     "metadata": {},
     "output_type": "display_data"
    },
    {
     "name": "stdout",
     "output_type": "stream",
     "text": [
      "[134] 🎯 Correctness Score (raw): 0.7542276312300756\n",
      "\n",
      "--- [Row 135] ---\n",
      "Question: What causes Foot, leg, and ankle swelling ? (Also called: Swelling of the ankles - feet - legs; Ankl\n",
      "Model_Answer: Foot, leg, and ankle swelling is common when the person also:  - Is overweight  - Has a blood clot i\n",
      "Reference Answer: Foot, leg, and ankle swelling is common when the person also:  - Is overweight  - Has a blood clot i\n"
     ]
    },
    {
     "data": {
      "text/html": [
       "<pre style=\"white-space:pre;overflow-x:auto;line-height:normal;font-family:Menlo,'DejaVu Sans Mono',consolas,'Courier New',monospace\"></pre>\n"
      ],
      "text/plain": []
     },
     "metadata": {},
     "output_type": "display_data"
    },
    {
     "data": {
      "application/vnd.jupyter.widget-view+json": {
       "model_id": "a306f1b6ec354286a9bff3f146f89778",
       "version_major": 2,
       "version_minor": 0
      },
      "text/plain": [
       "Output()"
      ]
     },
     "metadata": {},
     "output_type": "display_data"
    },
    {
     "name": "stdout",
     "output_type": "stream",
     "text": [
      "[135] 🎯 Correctness Score (raw): 0.8233963240524256\n",
      "\n",
      "--- [Row 136] ---\n",
      "Question: What to do for Foot, leg, and ankle swelling ? (Also called: Swelling of the ankles - feet - legs; A\n",
      "Model_Answer: Some tips that may help reduce swelling:  - Put your legs on pillows to raise them above your heart \n",
      "Reference Answer: Some tips that may help reduce swelling:  - Put your legs on pillows to raise them above your heart \n"
     ]
    },
    {
     "data": {
      "text/html": [
       "<pre style=\"white-space:pre;overflow-x:auto;line-height:normal;font-family:Menlo,'DejaVu Sans Mono',consolas,'Courier New',monospace\"></pre>\n"
      ],
      "text/plain": []
     },
     "metadata": {},
     "output_type": "display_data"
    },
    {
     "data": {
      "application/vnd.jupyter.widget-view+json": {
       "model_id": "d96012ffb22944d7846fee597fc647bc",
       "version_major": 2,
       "version_minor": 0
      },
      "text/plain": [
       "Output()"
      ]
     },
     "metadata": {},
     "output_type": "display_data"
    },
    {
     "name": "stdout",
     "output_type": "stream",
     "text": [
      "[136] 🎯 Correctness Score (raw): 0.8080129895323622\n",
      "\n",
      "--- [Row 137] ---\n",
      "Question: What is the outlook for Foot, leg, and ankle swelling ? (Also called: Swelling of the ankles - feet \n",
      "Model_Answer: Your provider will take a medical history and do a thorough physical examination, paying special att\n",
      "Reference Answer: Your provider will take a medical history and do a thorough physical examination, paying special att\n"
     ]
    },
    {
     "data": {
      "text/html": [
       "<pre style=\"white-space:pre;overflow-x:auto;line-height:normal;font-family:Menlo,'DejaVu Sans Mono',consolas,'Courier New',monospace\"></pre>\n"
      ],
      "text/plain": []
     },
     "metadata": {},
     "output_type": "display_data"
    },
    {
     "data": {
      "application/vnd.jupyter.widget-view+json": {
       "model_id": "21f38a41381f428f8a9ee6d57bc5d18c",
       "version_major": 2,
       "version_minor": 0
      },
      "text/plain": [
       "Output()"
      ]
     },
     "metadata": {},
     "output_type": "display_data"
    },
    {
     "name": "stdout",
     "output_type": "stream",
     "text": [
      "[137] 🎯 Correctness Score (raw): 0.7227131741401334\n",
      "\n",
      "--- [Row 138] ---\n",
      "Question: What causes Plantar fasciitis ?\n",
      "Model_Answer: Plantar fasciitis occurs when the thick band of tissue on the bottom of the foot is overstretched or\n",
      "Reference Answer: Plantar fasciitis occurs when the thick band of tissue on the bottom of the foot is overstretched or\n"
     ]
    },
    {
     "data": {
      "text/html": [
       "<pre style=\"white-space:pre;overflow-x:auto;line-height:normal;font-family:Menlo,'DejaVu Sans Mono',consolas,'Courier New',monospace\"></pre>\n"
      ],
      "text/plain": []
     },
     "metadata": {},
     "output_type": "display_data"
    },
    {
     "data": {
      "application/vnd.jupyter.widget-view+json": {
       "model_id": "91cc7d373e764618a46a9ef207363726",
       "version_major": 2,
       "version_minor": 0
      },
      "text/plain": [
       "Output()"
      ]
     },
     "metadata": {},
     "output_type": "display_data"
    },
    {
     "name": "stdout",
     "output_type": "stream",
     "text": [
      "[138] 🎯 Correctness Score (raw): 0.8455840136059376\n",
      "\n",
      "--- [Row 139] ---\n",
      "Question: How to prevent Plantar fasciitis ?\n",
      "Model_Answer: Stretch your plantar fascia in the morning before you get out of bed. Doing activities in moderation\n",
      "Reference Answer: Making sure your ankle, Achilles tendon, and calf muscles are flexible can help prevent plantar fasc\n"
     ]
    },
    {
     "data": {
      "text/html": [
       "<pre style=\"white-space:pre;overflow-x:auto;line-height:normal;font-family:Menlo,'DejaVu Sans Mono',consolas,'Courier New',monospace\"></pre>\n"
      ],
      "text/plain": []
     },
     "metadata": {},
     "output_type": "display_data"
    },
    {
     "data": {
      "application/vnd.jupyter.widget-view+json": {
       "model_id": "cee84dd13c1f41a7af97c793b7500c41",
       "version_major": 2,
       "version_minor": 0
      },
      "text/plain": [
       "Output()"
      ]
     },
     "metadata": {},
     "output_type": "display_data"
    },
    {
     "name": "stdout",
     "output_type": "stream",
     "text": [
      "[139] 🎯 Correctness Score (raw): 0.7735727665349318\n",
      "\n",
      "--- [Row 140] ---\n",
      "Question: How to diagnose Liver cancer - hepatocellular carcinoma ? (Also called: Primary liver cell carcinoma\n",
      "Model_Answer: Thedoctor will perform a physical exam and ask about your symptoms. The physical exam may show an en\n",
      "Reference Answer: Thedoctor will perform a physical exam and ask about your symptoms. The physical exam may show an en\n"
     ]
    },
    {
     "data": {
      "text/html": [
       "<pre style=\"white-space:pre;overflow-x:auto;line-height:normal;font-family:Menlo,'DejaVu Sans Mono',consolas,'Courier New',monospace\"></pre>\n"
      ],
      "text/plain": []
     },
     "metadata": {},
     "output_type": "display_data"
    },
    {
     "data": {
      "application/vnd.jupyter.widget-view+json": {
       "model_id": "0b5649f7faf541819f626d6edf38775d",
       "version_major": 2,
       "version_minor": 0
      },
      "text/plain": [
       "Output()"
      ]
     },
     "metadata": {},
     "output_type": "display_data"
    },
    {
     "name": "stdout",
     "output_type": "stream",
     "text": [
      "[140] 🎯 Correctness Score (raw): 0.7258884965465083\n",
      "\n",
      "--- [Row 141] ---\n",
      "Question: How to diagnose Liver metastases ? (Also called: Metastases to the liver; Metastatic liver cancer; L\n",
      "Model_Answer: Tests that may be done to diagnose liver metastases include:  - CT scan of the abdomen  - Liver func\n",
      "Reference Answer: Tests that may be done to diagnose liver metastases include:  - CT scan of the abdomen  - Liver func\n"
     ]
    },
    {
     "data": {
      "text/html": [
       "<pre style=\"white-space:pre;overflow-x:auto;line-height:normal;font-family:Menlo,'DejaVu Sans Mono',consolas,'Courier New',monospace\"></pre>\n"
      ],
      "text/plain": []
     },
     "metadata": {},
     "output_type": "display_data"
    },
    {
     "data": {
      "application/vnd.jupyter.widget-view+json": {
       "model_id": "ad50bb67d14b4a64b1e06b7c386de41c",
       "version_major": 2,
       "version_minor": 0
      },
      "text/plain": [
       "Output()"
      ]
     },
     "metadata": {},
     "output_type": "display_data"
    },
    {
     "name": "stdout",
     "output_type": "stream",
     "text": [
      "[141] 🎯 Correctness Score (raw): 0.4879087074600175\n",
      "\n",
      "--- [Row 142] ---\n",
      "Question: Do you have information about Upper GI and small bowel series (Also called: GI series; Barium swallo\n",
      "Model_Answer: Summary : An upper GI and small bowel series is a set of x-rays taken to examine the esophagus, stom\n",
      "Reference Answer: Summary : An upper GI and small bowel series is a set of x-rays taken to examine the esophagus, stom\n"
     ]
    },
    {
     "data": {
      "text/html": [
       "<pre style=\"white-space:pre;overflow-x:auto;line-height:normal;font-family:Menlo,'DejaVu Sans Mono',consolas,'Courier New',monospace\"></pre>\n"
      ],
      "text/plain": []
     },
     "metadata": {},
     "output_type": "display_data"
    },
    {
     "data": {
      "application/vnd.jupyter.widget-view+json": {
       "model_id": "8c774b9dd112445f82ae97807580b0b5",
       "version_major": 2,
       "version_minor": 0
      },
      "text/plain": [
       "Output()"
      ]
     },
     "metadata": {},
     "output_type": "display_data"
    },
    {
     "name": "stdout",
     "output_type": "stream",
     "text": [
      "[142] 🎯 Correctness Score (raw): 0.7244352875274072\n",
      "\n",
      "--- [Row 143] ---\n",
      "Question: What is (are) Heart Attack ?\n",
      "Model_Answer: Espaol: El corazón ataque significa que el corazón ha parado o no ha comenzado a latir. Esto ocurre \n",
      "Reference Answer: Espaol\n"
     ]
    },
    {
     "data": {
      "text/html": [
       "<pre style=\"white-space:pre;overflow-x:auto;line-height:normal;font-family:Menlo,'DejaVu Sans Mono',consolas,'Courier New',monospace\"></pre>\n"
      ],
      "text/plain": []
     },
     "metadata": {},
     "output_type": "display_data"
    },
    {
     "data": {
      "application/vnd.jupyter.widget-view+json": {
       "model_id": "5bcf8e94cd034a8994790f96455a9b00",
       "version_major": 2,
       "version_minor": 0
      },
      "text/plain": [
       "Output()"
      ]
     },
     "metadata": {},
     "output_type": "display_data"
    },
    {
     "name": "stdout",
     "output_type": "stream",
     "text": [
      "[143] 🎯 Correctness Score (raw): 0.58956148788891\n",
      "\n",
      "--- [Row 144] ---\n",
      "Question: What causes Heart Attack ?\n",
      "Model_Answer: Most heart attacks are caused by a blood clot that blocks one of the coronary arteries, the blood ve\n",
      "Reference Answer: Coronary Heart Disease\n"
     ]
    },
    {
     "data": {
      "text/html": [
       "<pre style=\"white-space:pre;overflow-x:auto;line-height:normal;font-family:Menlo,'DejaVu Sans Mono',consolas,'Courier New',monospace\"></pre>\n"
      ],
      "text/plain": []
     },
     "metadata": {},
     "output_type": "display_data"
    },
    {
     "data": {
      "application/vnd.jupyter.widget-view+json": {
       "model_id": "457c9b1a2ccf4a4faa47568592cd4e6f",
       "version_major": 2,
       "version_minor": 0
      },
      "text/plain": [
       "Output()"
      ]
     },
     "metadata": {},
     "output_type": "display_data"
    },
    {
     "name": "stdout",
     "output_type": "stream",
     "text": [
      "[144] 🎯 Correctness Score (raw): 0.8116312063168776\n",
      "\n",
      "--- [Row 145] ---\n",
      "Question: What causes Heart Attack ?\n",
      "Model_Answer: Most heart attacks are caused by a blood clot that blocks one of the coronary arteries, the blood ve\n",
      "Reference Answer: Most heart attacks are caused by a blood clot that blocks one of the coronary arteries, the blood ve\n"
     ]
    },
    {
     "data": {
      "text/html": [
       "<pre style=\"white-space:pre;overflow-x:auto;line-height:normal;font-family:Menlo,'DejaVu Sans Mono',consolas,'Courier New',monospace\"></pre>\n"
      ],
      "text/plain": []
     },
     "metadata": {},
     "output_type": "display_data"
    },
    {
     "data": {
      "application/vnd.jupyter.widget-view+json": {
       "model_id": "744b8fff5294474482f4f110cd201159",
       "version_major": 2,
       "version_minor": 0
      },
      "text/plain": [
       "Output()"
      ]
     },
     "metadata": {},
     "output_type": "display_data"
    },
    {
     "name": "stdout",
     "output_type": "stream",
     "text": [
      "[145] 🎯 Correctness Score (raw): 0.8150026815395343\n",
      "\n",
      "--- [Row 146] ---\n",
      "Question: What causes Heart Attack ?\n",
      "Model_Answer: Most heart attacks are caused by a blood clot that blocks one of the coronary arteries, the blood ve\n",
      "Reference Answer: Coronary heart disease, or CHD, is the most common underlying cause of a heart attack. Coronary arte\n"
     ]
    },
    {
     "data": {
      "text/html": [
       "<pre style=\"white-space:pre;overflow-x:auto;line-height:normal;font-family:Menlo,'DejaVu Sans Mono',consolas,'Courier New',monospace\"></pre>\n"
      ],
      "text/plain": []
     },
     "metadata": {},
     "output_type": "display_data"
    },
    {
     "data": {
      "application/vnd.jupyter.widget-view+json": {
       "model_id": "4ca842c1a099426392cba0b3be99efcb",
       "version_major": 2,
       "version_minor": 0
      },
      "text/plain": [
       "Output()"
      ]
     },
     "metadata": {},
     "output_type": "display_data"
    },
    {
     "name": "stdout",
     "output_type": "stream",
     "text": [
      "[146] 🎯 Correctness Score (raw): 0.8187763430597546\n",
      "\n",
      "--- [Row 147] ---\n",
      "Question: How to diagnose Stroke ? (Also called: Cerebrovascular disease; CVA; Cerebral infarction; Cerebral h\n",
      "Model_Answer: The doctor will do a physical exam to:   - Check for problems with vision, movement, feeling, reflex\n",
      "Reference Answer: The doctor will do a physical exam to:   - Check for problems with vision, movement, feeling, reflex\n"
     ]
    },
    {
     "data": {
      "text/html": [
       "<pre style=\"white-space:pre;overflow-x:auto;line-height:normal;font-family:Menlo,'DejaVu Sans Mono',consolas,'Courier New',monospace\"></pre>\n"
      ],
      "text/plain": []
     },
     "metadata": {},
     "output_type": "display_data"
    },
    {
     "data": {
      "application/vnd.jupyter.widget-view+json": {
       "model_id": "a96890d8adc34678b3a02dc2ea00907c",
       "version_major": 2,
       "version_minor": 0
      },
      "text/plain": [
       "Output()"
      ]
     },
     "metadata": {},
     "output_type": "display_data"
    },
    {
     "name": "stdout",
     "output_type": "stream",
     "text": [
      "[147] 🎯 Correctness Score (raw): 0.7782141599535661\n",
      "\n",
      "--- [Row 148] ---\n",
      "Question: How to diagnose Autoimmune disorders ?\n",
      "Model_Answer: The health care provider will do a physical exam. Signs depend on the type of disease.  Tests that m\n",
      "Reference Answer: The health care provider will do a physical exam. Signs depend on the type of disease.  Tests that m\n"
     ]
    },
    {
     "data": {
      "text/html": [
       "<pre style=\"white-space:pre;overflow-x:auto;line-height:normal;font-family:Menlo,'DejaVu Sans Mono',consolas,'Courier New',monospace\"></pre>\n"
      ],
      "text/plain": []
     },
     "metadata": {},
     "output_type": "display_data"
    },
    {
     "data": {
      "application/vnd.jupyter.widget-view+json": {
       "model_id": "3566001d284d423c92190a72ac9737f3",
       "version_major": 2,
       "version_minor": 0
      },
      "text/plain": [
       "Output()"
      ]
     },
     "metadata": {},
     "output_type": "display_data"
    },
    {
     "name": "stdout",
     "output_type": "stream",
     "text": [
      "[148] 🎯 Correctness Score (raw): 0.7344664206323175\n",
      "\n",
      "--- [Row 149] ---\n",
      "Question: What should I know about storage and disposal of Glimepiride ?\n",
      "Model_Answer: Keep this medication in the container it came in, tightly closed, and out of reach of children. Stor\n",
      "Reference Answer: Keep this medication in the container it came in, tightly closed, and out of reach of children. Stor\n"
     ]
    },
    {
     "data": {
      "text/html": [
       "<pre style=\"white-space:pre;overflow-x:auto;line-height:normal;font-family:Menlo,'DejaVu Sans Mono',consolas,'Courier New',monospace\"></pre>\n"
      ],
      "text/plain": []
     },
     "metadata": {},
     "output_type": "display_data"
    },
    {
     "name": "stdout",
     "output_type": "stream",
     "text": [
      "[149] 🎯 Correctness Score (raw): 0.8077238220745988\n",
      "✅ Final results saved to final_eval_results.xlsx\n"
     ]
    }
   ],
   "source": [
    "# ========== 6. Compute DeepEval Correctness ==========\n",
    "from deepeval.metrics import GEval\n",
    "from deepeval.test_case import LLMTestCase, LLMTestCaseParams\n",
    "\n",
    "# Initialize metric\n",
    "correctness_metric = GEval(\n",
    "    name=\"Correctness\",\n",
    "    criteria=\"Determine whether the actual output is factually correct based on the expected output. Provide 1 for correct and 0 for incorrect.\",\n",
    "    evaluation_steps=[\n",
    "        \"Check if 'actual output' contradicts 'expected output'\",\n",
    "        \"Only penalize omission of important details\"\n",
    "    ],\n",
    "    evaluation_params=[LLMTestCaseParams.INPUT, LLMTestCaseParams.ACTUAL_OUTPUT],\n",
    "    model=\"gpt-4o-mini\"  # or \"gpt-4\", \"gpt-3.5-turbo\", etc.\n",
    ")\n",
    "\n",
    "# Filter valid rows again\n",
    "valid_rows = df[\n",
    "    (df[\"Model_Answer\"].notna()) &\n",
    "    (df[\"Answer\"].notna()) &\n",
    "    (df[\"Question\"].notna()) &\n",
    "    (df[\"Model_Answer\"] != \"Skipped\")\n",
    "].copy()\n",
    "\n",
    "# Prepare to collect scores\n",
    "correctness_scores = []\n",
    "\n",
    "for i in range(len(valid_rows)):\n",
    "    try:\n",
    "        question = valid_rows[\"Question\"].iloc[i]\n",
    "        model_answer = valid_rows[\"Model_Answer\"].iloc[i]\n",
    "        reference_answer = valid_rows[\"Answer\"].iloc[i]\n",
    "\n",
    "        print(f\"\\n--- [Row {i}] ---\")\n",
    "        print(\"Question:\", question[:100])\n",
    "        print(\"Model_Answer:\", model_answer[:100])\n",
    "        print(\"Reference Answer:\", reference_answer[:100])\n",
    "\n",
    "        test_case = LLMTestCase(\n",
    "            input=question,\n",
    "            actual_output=model_answer,\n",
    "            context=[reference_answer]\n",
    "        )\n",
    "\n",
    "        result = correctness_metric.measure(test_case)\n",
    "\n",
    "        # ✅ THIS is the actual correctness score\n",
    "        score = float(result)\n",
    "        correctness_scores.append(score)\n",
    "\n",
    "        print(f\"[{i}] 🎯 Correctness Score (raw): {score}\")\n",
    "\n",
    "    except Exception as e:\n",
    "        print(f\"[{i}] ⚠️ Error: {e}\")\n",
    "        correctness_scores.append(0.0)\n",
    "        \n",
    "# Assign the scores\n",
    "valid_rows[\"DeepEval_Correctness\"] = correctness_scores\n",
    "\n",
    "# ========== 7. Save Final Results ==========\n",
    "valid_rows.to_excel(\"final_eval_results.xlsx\", index=False)\n",
    "print(\"✅ Final results saved to final_eval_results.xlsx\")"
   ]
  },
  {
   "cell_type": "markdown",
   "metadata": {},
   "source": [
    "## For BLEU Score"
   ]
  },
  {
   "cell_type": "code",
   "execution_count": 6,
   "metadata": {
    "scrolled": true
   },
   "outputs": [
    {
     "name": "stdout",
     "output_type": "stream",
     "text": [
      "Requirement already satisfied: nltk in /opt/conda/lib/python3.10/site-packages (3.9.1)\n",
      "Requirement already satisfied: click in /opt/conda/lib/python3.10/site-packages (from nltk) (8.1.7)\n",
      "Requirement already satisfied: joblib in /opt/conda/lib/python3.10/site-packages (from nltk) (1.4.2)\n",
      "Requirement already satisfied: regex>=2021.8.3 in /opt/conda/lib/python3.10/site-packages (from nltk) (2024.11.6)\n",
      "Requirement already satisfied: tqdm in /opt/conda/lib/python3.10/site-packages (from nltk) (4.67.1)\n",
      "\u001b[33mWARNING: Running pip as the 'root' user can result in broken permissions and conflicting behaviour with the system package manager. It is recommended to use a virtual environment instead: https://pip.pypa.io/warnings/venv\u001b[0m\u001b[33m\n",
      "Note: you may need to restart the kernel to use updated packages.\n"
     ]
    }
   ],
   "source": [
    "pip install nltk"
   ]
  },
  {
   "cell_type": "code",
   "execution_count": 7,
   "metadata": {
    "scrolled": true
   },
   "outputs": [
    {
     "name": "stdout",
     "output_type": "stream",
     "text": [
      "✅ DataFrame reloaded successfully!\n",
      "                AnswerID    Unnamed: 2              Unnamed: 3  \\\n",
      "0  ADAM_0002818_Sec1.txt  3-Incomplete   ADAM_0002818_Sec1.txt   \n",
      "1  ADAM_0002818_Sec2.txt  3-Incomplete   ADAM_0002818_Sec2.txt   \n",
      "2  GARD_0004450_Sec1.txt  3-Incomplete   GARD_0004450_Sec1.txt   \n",
      "3  GARD_0004450_Sec2.txt  3-Incomplete   GARD_0004450_Sec2.txt   \n",
      "4  GARD_0004450_Sec3.txt  3-Incomplete   GARD_0004450_Sec3.txt   \n",
      "\n",
      "                                            Question  \\\n",
      "0                    What is (are) Noonan syndrome ?   \n",
      "1                      What causes Noonan syndrome ?   \n",
      "2  What is (are) Noonan syndrome ? (Also called: ...   \n",
      "3  What are the symptoms of Noonan syndrome ? (Al...   \n",
      "4  Is Noonan syndrome inherited ? (Also called: M...   \n",
      "\n",
      "                                              Answer  \\\n",
      "0  Noonan syndrome is a disease that can be passe...   \n",
      "1  Noonan syndrome is linked to defects in severa...   \n",
      "2  Noonan syndrome is a genetic disorder that cau...   \n",
      "3  What are the signs and symptoms of Noonan synd...   \n",
      "4  How is Noonan syndrome inherited? Noonan syndr...   \n",
      "\n",
      "                                        Model_Answer  \n",
      "0  Noonan syndrome is a disease that can be passe...  \n",
      "1  Noonan syndrome is linked to defects in severa...  \n",
      "2  Noonan syndrome is a genetic disorder that cau...  \n",
      "3  What are the signs and symptoms of Noonan synd...  \n",
      "4  How is Noonan syndrome inherited? Noonan syndr...  \n"
     ]
    }
   ],
   "source": [
    "import pandas as pd\n",
    "\n",
    "# Load the saved Excel file\n",
    "df = pd.read_excel(\"generated_answers.xlsx\")\n",
    "\n",
    "print(\"✅ DataFrame reloaded successfully!\")\n",
    "print(df.head())  # Display the first few rows to verify"
   ]
  },
  {
   "cell_type": "code",
   "execution_count": 8,
   "metadata": {},
   "outputs": [
    {
     "name": "stdout",
     "output_type": "stream",
     "text": [
      "                AnswerID    Unnamed: 2              Unnamed: 3  \\\n",
      "0  ADAM_0002818_Sec1.txt  3-Incomplete   ADAM_0002818_Sec1.txt   \n",
      "1  ADAM_0002818_Sec2.txt  3-Incomplete   ADAM_0002818_Sec2.txt   \n",
      "2  GARD_0004450_Sec1.txt  3-Incomplete   GARD_0004450_Sec1.txt   \n",
      "3  GARD_0004450_Sec2.txt  3-Incomplete   GARD_0004450_Sec2.txt   \n",
      "4  GARD_0004450_Sec3.txt  3-Incomplete   GARD_0004450_Sec3.txt   \n",
      "\n",
      "                                            Question  \\\n",
      "0                    What is (are) Noonan syndrome ?   \n",
      "1                      What causes Noonan syndrome ?   \n",
      "2  What is (are) Noonan syndrome ? (Also called: ...   \n",
      "3  What are the symptoms of Noonan syndrome ? (Al...   \n",
      "4  Is Noonan syndrome inherited ? (Also called: M...   \n",
      "\n",
      "                                              Answer  \\\n",
      "0  Noonan syndrome is a disease that can be passe...   \n",
      "1  Noonan syndrome is linked to defects in severa...   \n",
      "2  Noonan syndrome is a genetic disorder that cau...   \n",
      "3  What are the signs and symptoms of Noonan synd...   \n",
      "4  How is Noonan syndrome inherited? Noonan syndr...   \n",
      "\n",
      "                                        Model_Answer  \n",
      "0  Noonan syndrome is a disease that can be passe...  \n",
      "1  Noonan syndrome is linked to defects in severa...  \n",
      "2  Noonan syndrome is a genetic disorder that cau...  \n",
      "3  What are the signs and symptoms of Noonan synd...  \n",
      "4  How is Noonan syndrome inherited? Noonan syndr...  \n"
     ]
    }
   ],
   "source": [
    "# Filter valid rows again\n",
    "valid_rows = df[\n",
    "    (df[\"Model_Answer\"].notna()) &\n",
    "    (df[\"Answer\"].notna()) &\n",
    "    (df[\"Question\"].notna()) &\n",
    "    (df[\"Model_Answer\"] != \"Skipped\")\n",
    "].copy()\n",
    "\n",
    "print(valid_rows.head())"
   ]
  },
  {
   "cell_type": "code",
   "execution_count": 9,
   "metadata": {},
   "outputs": [
    {
     "name": "stdout",
     "output_type": "stream",
     "text": [
      "📄 BLEU results saved to bleu_score_results.csv\n"
     ]
    }
   ],
   "source": [
    "# ========== 8. Compute BLEU Score (No punkt needed) ==========\n",
    "import nltk\n",
    "from nltk.translate.bleu_score import sentence_bleu, SmoothingFunction\n",
    "\n",
    "smoothie = SmoothingFunction().method4  # Smoothing for short sentences\n",
    "\n",
    "# BLEU score calculation helper using simple whitespace split\n",
    "def compute_bleu(reference, hypothesis):\n",
    "    if not reference or not hypothesis:\n",
    "        return 0.0\n",
    "    try:\n",
    "        reference_tokens = reference.split()\n",
    "        hypothesis_tokens = hypothesis.split()\n",
    "\n",
    "        return sentence_bleu(\n",
    "            [reference_tokens], hypothesis_tokens,\n",
    "            weights=(0.25, 0.25, 0.25, 0.25),  # BLEU-4\n",
    "            smoothing_function=smoothie\n",
    "        )\n",
    "    except Exception as e:\n",
    "        print(f\"⚠️ BLEU computation error: {e}\")\n",
    "        return 0.0\n",
    "\n",
    "# Store BLEU scores\n",
    "bleu_scores = []\n",
    "\n",
    "# Loop through rows and print BLEU computation info\n",
    "for i, row in valid_rows.iterrows():\n",
    "    reference = row[\"Answer\"]\n",
    "    hypothesis = row[\"Model_Answer\"]\n",
    "    score = compute_bleu(reference, hypothesis)\n",
    "    bleu_scores.append(score)\n",
    "\n",
    "# Assign scores to DataFrame\n",
    "valid_rows[\"BLEU_Score\"] = bleu_scores\n",
    "\n",
    "# ========== 9. Save BLEU Results ==========\n",
    "# Create a subset of columns to save\n",
    "results_to_save = valid_rows[[\n",
    "    \"Question\",\n",
    "    \"Answer\",           # Reference Answer\n",
    "    \"Model_Answer\",\n",
    "    \"BLEU_Score\"\n",
    "]].copy()\n",
    "\n",
    "# Rename for clarity\n",
    "results_to_save.rename(columns={\n",
    "    \"Answer\": \"Reference Answer\"\n",
    "}, inplace=True)\n",
    "\n",
    "# Save to CSV\n",
    "results_to_save.to_csv(\"bleu_score_results.csv\", index=False)\n",
    "print(\"📄 BLEU results saved to bleu_score_results.csv\")"
   ]
  },
  {
   "cell_type": "markdown",
   "metadata": {},
   "source": [
    "# THE END OF RE-RUN SECTION"
   ]
  },
  {
   "cell_type": "markdown",
   "metadata": {},
   "source": [
    "## Tune the model (LoRA)"
   ]
  },
  {
   "cell_type": "code",
   "execution_count": 9,
   "metadata": {},
   "outputs": [],
   "source": [
    "# ===============================\n",
    "# LoRA Fine-Tuning Script for LLaMA 3.2 3B/7B on Medquad\n",
    "# ===============================\n",
    "\n",
    "import os\n",
    "import torch\n",
    "import pandas as pd\n",
    "from datasets import Dataset\n",
    "from transformers import (\n",
    "    AutoTokenizer, AutoModelForCausalLM, TrainingArguments, Trainer,\n",
    "    DataCollatorForLanguageModeling\n",
    ")\n",
    "from peft import LoraConfig, get_peft_model, TaskType, prepare_model_for_kbit_training\n",
    "\n",
    "# ===============================\n",
    "# Step 1: Define Paths & Model ID\n",
    "# ===============================\n",
    "model_id = \"meta-llama/Llama-3.2-3B-Instruct\"  # You can also use the 3B model here\n",
    "cache_dir = \"/workspace/model_cache\"\n",
    "data_path = \"VerifiedQ_A.xlsx\"\n",
    "output_dir = \"./llama3_lora_medquad\"\n",
    "\n",
    "os.makedirs(cache_dir, exist_ok=True)\n",
    "os.makedirs(output_dir, exist_ok=True)"
   ]
  },
  {
   "cell_type": "code",
   "execution_count": 10,
   "metadata": {},
   "outputs": [
    {
     "data": {
      "application/vnd.jupyter.widget-view+json": {
       "model_id": "004bb8bcdf624f6998e32c6fbf6eba57",
       "version_major": 2,
       "version_minor": 0
      },
      "text/plain": [
       "Map:   0%|          | 0/150 [00:00<?, ? examples/s]"
      ]
     },
     "metadata": {},
     "output_type": "display_data"
    }
   ],
   "source": [
    "# ===============================\n",
    "# Step 2: Load Dataset\n",
    "# ===============================\n",
    "df = pd.read_excel(data_path)\n",
    "df = df.dropna(subset=[\"Question\", \"Answer\"])\n",
    "\n",
    "def format_prompt(example):\n",
    "    return {\n",
    "        \"text\": f\"### Question:\\n{example['Question']}\\n\\n### Answer:\\n{example['Answer']}\"\n",
    "    }\n",
    "\n",
    "raw_dataset = Dataset.from_pandas(df)\n",
    "formatted_dataset = raw_dataset.map(format_prompt)"
   ]
  },
  {
   "cell_type": "code",
   "execution_count": 11,
   "metadata": {},
   "outputs": [
    {
     "data": {
      "application/vnd.jupyter.widget-view+json": {
       "model_id": "42c2565fcd9e4b7d9364a25f9ca1046c",
       "version_major": 2,
       "version_minor": 0
      },
      "text/plain": [
       "Map:   0%|          | 0/150 [00:00<?, ? examples/s]"
      ]
     },
     "metadata": {},
     "output_type": "display_data"
    }
   ],
   "source": [
    "# ===============================\n",
    "# Step 3: Tokenizer\n",
    "# ===============================\n",
    "tokenizer = AutoTokenizer.from_pretrained(model_id, cache_dir=cache_dir, use_fast=True)\n",
    "tokenizer.pad_token = tokenizer.eos_token\n",
    "\n",
    "def tokenize(example):\n",
    "    return tokenizer(\n",
    "        example[\"text\"], truncation=True, padding=\"max_length\", max_length=512\n",
    "    )\n",
    "\n",
    "tokenized_dataset = formatted_dataset.map(tokenize, batched=True)\n"
   ]
  },
  {
   "cell_type": "code",
   "execution_count": 12,
   "metadata": {},
   "outputs": [
    {
     "data": {
      "application/vnd.jupyter.widget-view+json": {
       "model_id": "33ecf2a469c54758910348c29924b24a",
       "version_major": 2,
       "version_minor": 0
      },
      "text/plain": [
       "Loading checkpoint shards:   0%|          | 0/2 [00:00<?, ?it/s]"
      ]
     },
     "metadata": {},
     "output_type": "display_data"
    }
   ],
   "source": [
    "# ===============================\n",
    "# Step 4: Load Model (Full Precision) + Inject LoRA\n",
    "# ===============================\n",
    "model = AutoModelForCausalLM.from_pretrained(\n",
    "    model_id,\n",
    "    device_map=\"auto\",\n",
    "    torch_dtype=torch.bfloat16,\n",
    "    cache_dir=cache_dir\n",
    ")\n",
    "\n",
    "lora_config = LoraConfig(\n",
    "    r=64,\n",
    "    lora_alpha=16,\n",
    "    target_modules=[\"q_proj\", \"v_proj\"],\n",
    "    lora_dropout=0.1,\n",
    "    bias=\"none\",\n",
    "    task_type=TaskType.CAUSAL_LM\n",
    ")\n",
    "\n",
    "model = get_peft_model(model, lora_config)\n"
   ]
  },
  {
   "cell_type": "code",
   "execution_count": 13,
   "metadata": {},
   "outputs": [],
   "source": [
    "# ===============================\n",
    "# Step 5: Training Configuration (Updated)\n",
    "# ===============================\n",
    "training_args = TrainingArguments(\n",
    "    output_dir=output_dir,\n",
    "    per_device_train_batch_size=4,\n",
    "    gradient_accumulation_steps=1,  # Run optimizer step after every batch\n",
    "    num_train_epochs=10,  # More epochs for small dataset\n",
    "    learning_rate=2e-4,\n",
    "    bf16=True,\n",
    "    logging_dir=f\"{output_dir}/logs\",\n",
    "    save_strategy=\"epoch\",\n",
    "    report_to=\"none\",\n",
    "    logging_steps=1,  # Optional: more frequent logging\n",
    ")\n",
    "\n",
    "data_collator = DataCollatorForLanguageModeling(tokenizer=tokenizer, mlm=False)\n"
   ]
  },
  {
   "cell_type": "code",
   "execution_count": 14,
   "metadata": {
    "scrolled": true
   },
   "outputs": [
    {
     "name": "stderr",
     "output_type": "stream",
     "text": [
      "/tmp/ipykernel_1999/1826885073.py:4: FutureWarning: `tokenizer` is deprecated and will be removed in version 5.0.0 for `Trainer.__init__`. Use `processing_class` instead.\n",
      "  trainer = Trainer(\n",
      "No label_names provided for model class `PeftModelForCausalLM`. Since `PeftModel` hides base models input arguments, if label_names is not given, label_names can't be set automatically within `Trainer`. Note that empty label_names list will be used instead.\n"
     ]
    },
    {
     "data": {
      "text/html": [
       "\n",
       "    <div>\n",
       "      \n",
       "      <progress value='380' max='380' style='width:300px; height:20px; vertical-align: middle;'></progress>\n",
       "      [380/380 02:03, Epoch 10/10]\n",
       "    </div>\n",
       "    <table border=\"1\" class=\"dataframe\">\n",
       "  <thead>\n",
       " <tr style=\"text-align: left;\">\n",
       "      <th>Step</th>\n",
       "      <th>Training Loss</th>\n",
       "    </tr>\n",
       "  </thead>\n",
       "  <tbody>\n",
       "    <tr>\n",
       "      <td>1</td>\n",
       "      <td>2.074400</td>\n",
       "    </tr>\n",
       "    <tr>\n",
       "      <td>2</td>\n",
       "      <td>2.246700</td>\n",
       "    </tr>\n",
       "    <tr>\n",
       "      <td>3</td>\n",
       "      <td>1.769500</td>\n",
       "    </tr>\n",
       "    <tr>\n",
       "      <td>4</td>\n",
       "      <td>2.157400</td>\n",
       "    </tr>\n",
       "    <tr>\n",
       "      <td>5</td>\n",
       "      <td>1.840300</td>\n",
       "    </tr>\n",
       "    <tr>\n",
       "      <td>6</td>\n",
       "      <td>1.949000</td>\n",
       "    </tr>\n",
       "    <tr>\n",
       "      <td>7</td>\n",
       "      <td>2.005600</td>\n",
       "    </tr>\n",
       "    <tr>\n",
       "      <td>8</td>\n",
       "      <td>1.498400</td>\n",
       "    </tr>\n",
       "    <tr>\n",
       "      <td>9</td>\n",
       "      <td>1.769200</td>\n",
       "    </tr>\n",
       "    <tr>\n",
       "      <td>10</td>\n",
       "      <td>1.955400</td>\n",
       "    </tr>\n",
       "    <tr>\n",
       "      <td>11</td>\n",
       "      <td>1.588400</td>\n",
       "    </tr>\n",
       "    <tr>\n",
       "      <td>12</td>\n",
       "      <td>2.026800</td>\n",
       "    </tr>\n",
       "    <tr>\n",
       "      <td>13</td>\n",
       "      <td>1.630700</td>\n",
       "    </tr>\n",
       "    <tr>\n",
       "      <td>14</td>\n",
       "      <td>1.598400</td>\n",
       "    </tr>\n",
       "    <tr>\n",
       "      <td>15</td>\n",
       "      <td>1.652200</td>\n",
       "    </tr>\n",
       "    <tr>\n",
       "      <td>16</td>\n",
       "      <td>1.651700</td>\n",
       "    </tr>\n",
       "    <tr>\n",
       "      <td>17</td>\n",
       "      <td>1.593100</td>\n",
       "    </tr>\n",
       "    <tr>\n",
       "      <td>18</td>\n",
       "      <td>1.633400</td>\n",
       "    </tr>\n",
       "    <tr>\n",
       "      <td>19</td>\n",
       "      <td>1.645600</td>\n",
       "    </tr>\n",
       "    <tr>\n",
       "      <td>20</td>\n",
       "      <td>1.344900</td>\n",
       "    </tr>\n",
       "    <tr>\n",
       "      <td>21</td>\n",
       "      <td>1.504500</td>\n",
       "    </tr>\n",
       "    <tr>\n",
       "      <td>22</td>\n",
       "      <td>1.583700</td>\n",
       "    </tr>\n",
       "    <tr>\n",
       "      <td>23</td>\n",
       "      <td>1.434500</td>\n",
       "    </tr>\n",
       "    <tr>\n",
       "      <td>24</td>\n",
       "      <td>1.657500</td>\n",
       "    </tr>\n",
       "    <tr>\n",
       "      <td>25</td>\n",
       "      <td>1.462200</td>\n",
       "    </tr>\n",
       "    <tr>\n",
       "      <td>26</td>\n",
       "      <td>1.477100</td>\n",
       "    </tr>\n",
       "    <tr>\n",
       "      <td>27</td>\n",
       "      <td>1.683800</td>\n",
       "    </tr>\n",
       "    <tr>\n",
       "      <td>28</td>\n",
       "      <td>1.672300</td>\n",
       "    </tr>\n",
       "    <tr>\n",
       "      <td>29</td>\n",
       "      <td>1.380800</td>\n",
       "    </tr>\n",
       "    <tr>\n",
       "      <td>30</td>\n",
       "      <td>1.432400</td>\n",
       "    </tr>\n",
       "    <tr>\n",
       "      <td>31</td>\n",
       "      <td>1.775700</td>\n",
       "    </tr>\n",
       "    <tr>\n",
       "      <td>32</td>\n",
       "      <td>1.511500</td>\n",
       "    </tr>\n",
       "    <tr>\n",
       "      <td>33</td>\n",
       "      <td>1.531900</td>\n",
       "    </tr>\n",
       "    <tr>\n",
       "      <td>34</td>\n",
       "      <td>1.293200</td>\n",
       "    </tr>\n",
       "    <tr>\n",
       "      <td>35</td>\n",
       "      <td>1.462800</td>\n",
       "    </tr>\n",
       "    <tr>\n",
       "      <td>36</td>\n",
       "      <td>1.424800</td>\n",
       "    </tr>\n",
       "    <tr>\n",
       "      <td>37</td>\n",
       "      <td>1.484400</td>\n",
       "    </tr>\n",
       "    <tr>\n",
       "      <td>38</td>\n",
       "      <td>1.580100</td>\n",
       "    </tr>\n",
       "    <tr>\n",
       "      <td>39</td>\n",
       "      <td>1.448700</td>\n",
       "    </tr>\n",
       "    <tr>\n",
       "      <td>40</td>\n",
       "      <td>1.299800</td>\n",
       "    </tr>\n",
       "    <tr>\n",
       "      <td>41</td>\n",
       "      <td>1.522100</td>\n",
       "    </tr>\n",
       "    <tr>\n",
       "      <td>42</td>\n",
       "      <td>1.443600</td>\n",
       "    </tr>\n",
       "    <tr>\n",
       "      <td>43</td>\n",
       "      <td>1.624200</td>\n",
       "    </tr>\n",
       "    <tr>\n",
       "      <td>44</td>\n",
       "      <td>1.415500</td>\n",
       "    </tr>\n",
       "    <tr>\n",
       "      <td>45</td>\n",
       "      <td>1.665500</td>\n",
       "    </tr>\n",
       "    <tr>\n",
       "      <td>46</td>\n",
       "      <td>1.487100</td>\n",
       "    </tr>\n",
       "    <tr>\n",
       "      <td>47</td>\n",
       "      <td>1.428500</td>\n",
       "    </tr>\n",
       "    <tr>\n",
       "      <td>48</td>\n",
       "      <td>1.599800</td>\n",
       "    </tr>\n",
       "    <tr>\n",
       "      <td>49</td>\n",
       "      <td>1.352300</td>\n",
       "    </tr>\n",
       "    <tr>\n",
       "      <td>50</td>\n",
       "      <td>1.144600</td>\n",
       "    </tr>\n",
       "    <tr>\n",
       "      <td>51</td>\n",
       "      <td>1.346500</td>\n",
       "    </tr>\n",
       "    <tr>\n",
       "      <td>52</td>\n",
       "      <td>1.475000</td>\n",
       "    </tr>\n",
       "    <tr>\n",
       "      <td>53</td>\n",
       "      <td>1.298200</td>\n",
       "    </tr>\n",
       "    <tr>\n",
       "      <td>54</td>\n",
       "      <td>1.360000</td>\n",
       "    </tr>\n",
       "    <tr>\n",
       "      <td>55</td>\n",
       "      <td>1.540200</td>\n",
       "    </tr>\n",
       "    <tr>\n",
       "      <td>56</td>\n",
       "      <td>1.358500</td>\n",
       "    </tr>\n",
       "    <tr>\n",
       "      <td>57</td>\n",
       "      <td>1.459600</td>\n",
       "    </tr>\n",
       "    <tr>\n",
       "      <td>58</td>\n",
       "      <td>1.491800</td>\n",
       "    </tr>\n",
       "    <tr>\n",
       "      <td>59</td>\n",
       "      <td>1.430100</td>\n",
       "    </tr>\n",
       "    <tr>\n",
       "      <td>60</td>\n",
       "      <td>1.461200</td>\n",
       "    </tr>\n",
       "    <tr>\n",
       "      <td>61</td>\n",
       "      <td>1.406100</td>\n",
       "    </tr>\n",
       "    <tr>\n",
       "      <td>62</td>\n",
       "      <td>1.519200</td>\n",
       "    </tr>\n",
       "    <tr>\n",
       "      <td>63</td>\n",
       "      <td>1.597000</td>\n",
       "    </tr>\n",
       "    <tr>\n",
       "      <td>64</td>\n",
       "      <td>1.286200</td>\n",
       "    </tr>\n",
       "    <tr>\n",
       "      <td>65</td>\n",
       "      <td>1.247400</td>\n",
       "    </tr>\n",
       "    <tr>\n",
       "      <td>66</td>\n",
       "      <td>1.407300</td>\n",
       "    </tr>\n",
       "    <tr>\n",
       "      <td>67</td>\n",
       "      <td>1.423200</td>\n",
       "    </tr>\n",
       "    <tr>\n",
       "      <td>68</td>\n",
       "      <td>1.485000</td>\n",
       "    </tr>\n",
       "    <tr>\n",
       "      <td>69</td>\n",
       "      <td>1.557100</td>\n",
       "    </tr>\n",
       "    <tr>\n",
       "      <td>70</td>\n",
       "      <td>1.365800</td>\n",
       "    </tr>\n",
       "    <tr>\n",
       "      <td>71</td>\n",
       "      <td>1.260100</td>\n",
       "    </tr>\n",
       "    <tr>\n",
       "      <td>72</td>\n",
       "      <td>1.266100</td>\n",
       "    </tr>\n",
       "    <tr>\n",
       "      <td>73</td>\n",
       "      <td>1.392400</td>\n",
       "    </tr>\n",
       "    <tr>\n",
       "      <td>74</td>\n",
       "      <td>1.269400</td>\n",
       "    </tr>\n",
       "    <tr>\n",
       "      <td>75</td>\n",
       "      <td>1.512500</td>\n",
       "    </tr>\n",
       "    <tr>\n",
       "      <td>76</td>\n",
       "      <td>1.429800</td>\n",
       "    </tr>\n",
       "    <tr>\n",
       "      <td>77</td>\n",
       "      <td>1.482000</td>\n",
       "    </tr>\n",
       "    <tr>\n",
       "      <td>78</td>\n",
       "      <td>1.385400</td>\n",
       "    </tr>\n",
       "    <tr>\n",
       "      <td>79</td>\n",
       "      <td>1.211600</td>\n",
       "    </tr>\n",
       "    <tr>\n",
       "      <td>80</td>\n",
       "      <td>1.334100</td>\n",
       "    </tr>\n",
       "    <tr>\n",
       "      <td>81</td>\n",
       "      <td>1.417400</td>\n",
       "    </tr>\n",
       "    <tr>\n",
       "      <td>82</td>\n",
       "      <td>1.378100</td>\n",
       "    </tr>\n",
       "    <tr>\n",
       "      <td>83</td>\n",
       "      <td>1.440200</td>\n",
       "    </tr>\n",
       "    <tr>\n",
       "      <td>84</td>\n",
       "      <td>1.079300</td>\n",
       "    </tr>\n",
       "    <tr>\n",
       "      <td>85</td>\n",
       "      <td>1.521500</td>\n",
       "    </tr>\n",
       "    <tr>\n",
       "      <td>86</td>\n",
       "      <td>1.405300</td>\n",
       "    </tr>\n",
       "    <tr>\n",
       "      <td>87</td>\n",
       "      <td>1.404200</td>\n",
       "    </tr>\n",
       "    <tr>\n",
       "      <td>88</td>\n",
       "      <td>1.353300</td>\n",
       "    </tr>\n",
       "    <tr>\n",
       "      <td>89</td>\n",
       "      <td>1.201000</td>\n",
       "    </tr>\n",
       "    <tr>\n",
       "      <td>90</td>\n",
       "      <td>1.538200</td>\n",
       "    </tr>\n",
       "    <tr>\n",
       "      <td>91</td>\n",
       "      <td>0.963900</td>\n",
       "    </tr>\n",
       "    <tr>\n",
       "      <td>92</td>\n",
       "      <td>1.110600</td>\n",
       "    </tr>\n",
       "    <tr>\n",
       "      <td>93</td>\n",
       "      <td>1.226400</td>\n",
       "    </tr>\n",
       "    <tr>\n",
       "      <td>94</td>\n",
       "      <td>1.393800</td>\n",
       "    </tr>\n",
       "    <tr>\n",
       "      <td>95</td>\n",
       "      <td>1.376300</td>\n",
       "    </tr>\n",
       "    <tr>\n",
       "      <td>96</td>\n",
       "      <td>1.266200</td>\n",
       "    </tr>\n",
       "    <tr>\n",
       "      <td>97</td>\n",
       "      <td>1.295600</td>\n",
       "    </tr>\n",
       "    <tr>\n",
       "      <td>98</td>\n",
       "      <td>1.279500</td>\n",
       "    </tr>\n",
       "    <tr>\n",
       "      <td>99</td>\n",
       "      <td>1.172000</td>\n",
       "    </tr>\n",
       "    <tr>\n",
       "      <td>100</td>\n",
       "      <td>1.251000</td>\n",
       "    </tr>\n",
       "    <tr>\n",
       "      <td>101</td>\n",
       "      <td>1.363900</td>\n",
       "    </tr>\n",
       "    <tr>\n",
       "      <td>102</td>\n",
       "      <td>1.467700</td>\n",
       "    </tr>\n",
       "    <tr>\n",
       "      <td>103</td>\n",
       "      <td>1.242300</td>\n",
       "    </tr>\n",
       "    <tr>\n",
       "      <td>104</td>\n",
       "      <td>1.208400</td>\n",
       "    </tr>\n",
       "    <tr>\n",
       "      <td>105</td>\n",
       "      <td>1.527700</td>\n",
       "    </tr>\n",
       "    <tr>\n",
       "      <td>106</td>\n",
       "      <td>1.305100</td>\n",
       "    </tr>\n",
       "    <tr>\n",
       "      <td>107</td>\n",
       "      <td>1.491800</td>\n",
       "    </tr>\n",
       "    <tr>\n",
       "      <td>108</td>\n",
       "      <td>1.404100</td>\n",
       "    </tr>\n",
       "    <tr>\n",
       "      <td>109</td>\n",
       "      <td>1.191400</td>\n",
       "    </tr>\n",
       "    <tr>\n",
       "      <td>110</td>\n",
       "      <td>1.194200</td>\n",
       "    </tr>\n",
       "    <tr>\n",
       "      <td>111</td>\n",
       "      <td>1.166600</td>\n",
       "    </tr>\n",
       "    <tr>\n",
       "      <td>112</td>\n",
       "      <td>1.239000</td>\n",
       "    </tr>\n",
       "    <tr>\n",
       "      <td>113</td>\n",
       "      <td>1.227800</td>\n",
       "    </tr>\n",
       "    <tr>\n",
       "      <td>114</td>\n",
       "      <td>1.098900</td>\n",
       "    </tr>\n",
       "    <tr>\n",
       "      <td>115</td>\n",
       "      <td>1.179500</td>\n",
       "    </tr>\n",
       "    <tr>\n",
       "      <td>116</td>\n",
       "      <td>1.134100</td>\n",
       "    </tr>\n",
       "    <tr>\n",
       "      <td>117</td>\n",
       "      <td>1.527900</td>\n",
       "    </tr>\n",
       "    <tr>\n",
       "      <td>118</td>\n",
       "      <td>1.188900</td>\n",
       "    </tr>\n",
       "    <tr>\n",
       "      <td>119</td>\n",
       "      <td>1.214100</td>\n",
       "    </tr>\n",
       "    <tr>\n",
       "      <td>120</td>\n",
       "      <td>1.242600</td>\n",
       "    </tr>\n",
       "    <tr>\n",
       "      <td>121</td>\n",
       "      <td>0.808600</td>\n",
       "    </tr>\n",
       "    <tr>\n",
       "      <td>122</td>\n",
       "      <td>1.117700</td>\n",
       "    </tr>\n",
       "    <tr>\n",
       "      <td>123</td>\n",
       "      <td>1.094700</td>\n",
       "    </tr>\n",
       "    <tr>\n",
       "      <td>124</td>\n",
       "      <td>1.301500</td>\n",
       "    </tr>\n",
       "    <tr>\n",
       "      <td>125</td>\n",
       "      <td>1.285500</td>\n",
       "    </tr>\n",
       "    <tr>\n",
       "      <td>126</td>\n",
       "      <td>1.013500</td>\n",
       "    </tr>\n",
       "    <tr>\n",
       "      <td>127</td>\n",
       "      <td>1.160400</td>\n",
       "    </tr>\n",
       "    <tr>\n",
       "      <td>128</td>\n",
       "      <td>1.145200</td>\n",
       "    </tr>\n",
       "    <tr>\n",
       "      <td>129</td>\n",
       "      <td>1.182700</td>\n",
       "    </tr>\n",
       "    <tr>\n",
       "      <td>130</td>\n",
       "      <td>1.245500</td>\n",
       "    </tr>\n",
       "    <tr>\n",
       "      <td>131</td>\n",
       "      <td>1.101800</td>\n",
       "    </tr>\n",
       "    <tr>\n",
       "      <td>132</td>\n",
       "      <td>1.152700</td>\n",
       "    </tr>\n",
       "    <tr>\n",
       "      <td>133</td>\n",
       "      <td>1.369800</td>\n",
       "    </tr>\n",
       "    <tr>\n",
       "      <td>134</td>\n",
       "      <td>1.259600</td>\n",
       "    </tr>\n",
       "    <tr>\n",
       "      <td>135</td>\n",
       "      <td>1.166500</td>\n",
       "    </tr>\n",
       "    <tr>\n",
       "      <td>136</td>\n",
       "      <td>1.291300</td>\n",
       "    </tr>\n",
       "    <tr>\n",
       "      <td>137</td>\n",
       "      <td>1.329700</td>\n",
       "    </tr>\n",
       "    <tr>\n",
       "      <td>138</td>\n",
       "      <td>1.325700</td>\n",
       "    </tr>\n",
       "    <tr>\n",
       "      <td>139</td>\n",
       "      <td>1.250400</td>\n",
       "    </tr>\n",
       "    <tr>\n",
       "      <td>140</td>\n",
       "      <td>1.049500</td>\n",
       "    </tr>\n",
       "    <tr>\n",
       "      <td>141</td>\n",
       "      <td>1.029200</td>\n",
       "    </tr>\n",
       "    <tr>\n",
       "      <td>142</td>\n",
       "      <td>1.359500</td>\n",
       "    </tr>\n",
       "    <tr>\n",
       "      <td>143</td>\n",
       "      <td>1.401300</td>\n",
       "    </tr>\n",
       "    <tr>\n",
       "      <td>144</td>\n",
       "      <td>1.322300</td>\n",
       "    </tr>\n",
       "    <tr>\n",
       "      <td>145</td>\n",
       "      <td>1.026300</td>\n",
       "    </tr>\n",
       "    <tr>\n",
       "      <td>146</td>\n",
       "      <td>1.208400</td>\n",
       "    </tr>\n",
       "    <tr>\n",
       "      <td>147</td>\n",
       "      <td>1.126300</td>\n",
       "    </tr>\n",
       "    <tr>\n",
       "      <td>148</td>\n",
       "      <td>1.223600</td>\n",
       "    </tr>\n",
       "    <tr>\n",
       "      <td>149</td>\n",
       "      <td>1.554000</td>\n",
       "    </tr>\n",
       "    <tr>\n",
       "      <td>150</td>\n",
       "      <td>1.018600</td>\n",
       "    </tr>\n",
       "    <tr>\n",
       "      <td>151</td>\n",
       "      <td>1.169800</td>\n",
       "    </tr>\n",
       "    <tr>\n",
       "      <td>152</td>\n",
       "      <td>1.173400</td>\n",
       "    </tr>\n",
       "    <tr>\n",
       "      <td>153</td>\n",
       "      <td>1.100500</td>\n",
       "    </tr>\n",
       "    <tr>\n",
       "      <td>154</td>\n",
       "      <td>1.269400</td>\n",
       "    </tr>\n",
       "    <tr>\n",
       "      <td>155</td>\n",
       "      <td>1.131500</td>\n",
       "    </tr>\n",
       "    <tr>\n",
       "      <td>156</td>\n",
       "      <td>0.923300</td>\n",
       "    </tr>\n",
       "    <tr>\n",
       "      <td>157</td>\n",
       "      <td>1.211400</td>\n",
       "    </tr>\n",
       "    <tr>\n",
       "      <td>158</td>\n",
       "      <td>0.929900</td>\n",
       "    </tr>\n",
       "    <tr>\n",
       "      <td>159</td>\n",
       "      <td>1.200200</td>\n",
       "    </tr>\n",
       "    <tr>\n",
       "      <td>160</td>\n",
       "      <td>1.092800</td>\n",
       "    </tr>\n",
       "    <tr>\n",
       "      <td>161</td>\n",
       "      <td>1.206900</td>\n",
       "    </tr>\n",
       "    <tr>\n",
       "      <td>162</td>\n",
       "      <td>1.156300</td>\n",
       "    </tr>\n",
       "    <tr>\n",
       "      <td>163</td>\n",
       "      <td>1.176500</td>\n",
       "    </tr>\n",
       "    <tr>\n",
       "      <td>164</td>\n",
       "      <td>0.763200</td>\n",
       "    </tr>\n",
       "    <tr>\n",
       "      <td>165</td>\n",
       "      <td>1.301300</td>\n",
       "    </tr>\n",
       "    <tr>\n",
       "      <td>166</td>\n",
       "      <td>0.940400</td>\n",
       "    </tr>\n",
       "    <tr>\n",
       "      <td>167</td>\n",
       "      <td>0.911400</td>\n",
       "    </tr>\n",
       "    <tr>\n",
       "      <td>168</td>\n",
       "      <td>1.154000</td>\n",
       "    </tr>\n",
       "    <tr>\n",
       "      <td>169</td>\n",
       "      <td>0.954300</td>\n",
       "    </tr>\n",
       "    <tr>\n",
       "      <td>170</td>\n",
       "      <td>0.927700</td>\n",
       "    </tr>\n",
       "    <tr>\n",
       "      <td>171</td>\n",
       "      <td>1.021700</td>\n",
       "    </tr>\n",
       "    <tr>\n",
       "      <td>172</td>\n",
       "      <td>1.393000</td>\n",
       "    </tr>\n",
       "    <tr>\n",
       "      <td>173</td>\n",
       "      <td>1.008200</td>\n",
       "    </tr>\n",
       "    <tr>\n",
       "      <td>174</td>\n",
       "      <td>1.044200</td>\n",
       "    </tr>\n",
       "    <tr>\n",
       "      <td>175</td>\n",
       "      <td>1.057500</td>\n",
       "    </tr>\n",
       "    <tr>\n",
       "      <td>176</td>\n",
       "      <td>1.163200</td>\n",
       "    </tr>\n",
       "    <tr>\n",
       "      <td>177</td>\n",
       "      <td>1.185200</td>\n",
       "    </tr>\n",
       "    <tr>\n",
       "      <td>178</td>\n",
       "      <td>1.230300</td>\n",
       "    </tr>\n",
       "    <tr>\n",
       "      <td>179</td>\n",
       "      <td>1.396200</td>\n",
       "    </tr>\n",
       "    <tr>\n",
       "      <td>180</td>\n",
       "      <td>0.897200</td>\n",
       "    </tr>\n",
       "    <tr>\n",
       "      <td>181</td>\n",
       "      <td>1.125800</td>\n",
       "    </tr>\n",
       "    <tr>\n",
       "      <td>182</td>\n",
       "      <td>0.974500</td>\n",
       "    </tr>\n",
       "    <tr>\n",
       "      <td>183</td>\n",
       "      <td>1.165200</td>\n",
       "    </tr>\n",
       "    <tr>\n",
       "      <td>184</td>\n",
       "      <td>1.359600</td>\n",
       "    </tr>\n",
       "    <tr>\n",
       "      <td>185</td>\n",
       "      <td>1.086100</td>\n",
       "    </tr>\n",
       "    <tr>\n",
       "      <td>186</td>\n",
       "      <td>1.277500</td>\n",
       "    </tr>\n",
       "    <tr>\n",
       "      <td>187</td>\n",
       "      <td>1.083000</td>\n",
       "    </tr>\n",
       "    <tr>\n",
       "      <td>188</td>\n",
       "      <td>1.055500</td>\n",
       "    </tr>\n",
       "    <tr>\n",
       "      <td>189</td>\n",
       "      <td>1.101500</td>\n",
       "    </tr>\n",
       "    <tr>\n",
       "      <td>190</td>\n",
       "      <td>1.100500</td>\n",
       "    </tr>\n",
       "    <tr>\n",
       "      <td>191</td>\n",
       "      <td>1.050300</td>\n",
       "    </tr>\n",
       "    <tr>\n",
       "      <td>192</td>\n",
       "      <td>1.105300</td>\n",
       "    </tr>\n",
       "    <tr>\n",
       "      <td>193</td>\n",
       "      <td>0.995100</td>\n",
       "    </tr>\n",
       "    <tr>\n",
       "      <td>194</td>\n",
       "      <td>0.812800</td>\n",
       "    </tr>\n",
       "    <tr>\n",
       "      <td>195</td>\n",
       "      <td>0.988700</td>\n",
       "    </tr>\n",
       "    <tr>\n",
       "      <td>196</td>\n",
       "      <td>0.675400</td>\n",
       "    </tr>\n",
       "    <tr>\n",
       "      <td>197</td>\n",
       "      <td>0.981700</td>\n",
       "    </tr>\n",
       "    <tr>\n",
       "      <td>198</td>\n",
       "      <td>1.062300</td>\n",
       "    </tr>\n",
       "    <tr>\n",
       "      <td>199</td>\n",
       "      <td>1.065200</td>\n",
       "    </tr>\n",
       "    <tr>\n",
       "      <td>200</td>\n",
       "      <td>1.171500</td>\n",
       "    </tr>\n",
       "    <tr>\n",
       "      <td>201</td>\n",
       "      <td>0.977200</td>\n",
       "    </tr>\n",
       "    <tr>\n",
       "      <td>202</td>\n",
       "      <td>1.222200</td>\n",
       "    </tr>\n",
       "    <tr>\n",
       "      <td>203</td>\n",
       "      <td>0.865700</td>\n",
       "    </tr>\n",
       "    <tr>\n",
       "      <td>204</td>\n",
       "      <td>1.403200</td>\n",
       "    </tr>\n",
       "    <tr>\n",
       "      <td>205</td>\n",
       "      <td>1.096800</td>\n",
       "    </tr>\n",
       "    <tr>\n",
       "      <td>206</td>\n",
       "      <td>0.993700</td>\n",
       "    </tr>\n",
       "    <tr>\n",
       "      <td>207</td>\n",
       "      <td>1.231100</td>\n",
       "    </tr>\n",
       "    <tr>\n",
       "      <td>208</td>\n",
       "      <td>0.810200</td>\n",
       "    </tr>\n",
       "    <tr>\n",
       "      <td>209</td>\n",
       "      <td>1.179700</td>\n",
       "    </tr>\n",
       "    <tr>\n",
       "      <td>210</td>\n",
       "      <td>0.710200</td>\n",
       "    </tr>\n",
       "    <tr>\n",
       "      <td>211</td>\n",
       "      <td>1.014300</td>\n",
       "    </tr>\n",
       "    <tr>\n",
       "      <td>212</td>\n",
       "      <td>1.053900</td>\n",
       "    </tr>\n",
       "    <tr>\n",
       "      <td>213</td>\n",
       "      <td>0.889600</td>\n",
       "    </tr>\n",
       "    <tr>\n",
       "      <td>214</td>\n",
       "      <td>0.937500</td>\n",
       "    </tr>\n",
       "    <tr>\n",
       "      <td>215</td>\n",
       "      <td>0.858000</td>\n",
       "    </tr>\n",
       "    <tr>\n",
       "      <td>216</td>\n",
       "      <td>1.011700</td>\n",
       "    </tr>\n",
       "    <tr>\n",
       "      <td>217</td>\n",
       "      <td>1.229200</td>\n",
       "    </tr>\n",
       "    <tr>\n",
       "      <td>218</td>\n",
       "      <td>1.213300</td>\n",
       "    </tr>\n",
       "    <tr>\n",
       "      <td>219</td>\n",
       "      <td>1.104200</td>\n",
       "    </tr>\n",
       "    <tr>\n",
       "      <td>220</td>\n",
       "      <td>1.204400</td>\n",
       "    </tr>\n",
       "    <tr>\n",
       "      <td>221</td>\n",
       "      <td>0.889700</td>\n",
       "    </tr>\n",
       "    <tr>\n",
       "      <td>222</td>\n",
       "      <td>0.781800</td>\n",
       "    </tr>\n",
       "    <tr>\n",
       "      <td>223</td>\n",
       "      <td>1.062400</td>\n",
       "    </tr>\n",
       "    <tr>\n",
       "      <td>224</td>\n",
       "      <td>0.975300</td>\n",
       "    </tr>\n",
       "    <tr>\n",
       "      <td>225</td>\n",
       "      <td>0.964600</td>\n",
       "    </tr>\n",
       "    <tr>\n",
       "      <td>226</td>\n",
       "      <td>1.131700</td>\n",
       "    </tr>\n",
       "    <tr>\n",
       "      <td>227</td>\n",
       "      <td>1.049600</td>\n",
       "    </tr>\n",
       "    <tr>\n",
       "      <td>228</td>\n",
       "      <td>1.219300</td>\n",
       "    </tr>\n",
       "    <tr>\n",
       "      <td>229</td>\n",
       "      <td>0.945200</td>\n",
       "    </tr>\n",
       "    <tr>\n",
       "      <td>230</td>\n",
       "      <td>0.972700</td>\n",
       "    </tr>\n",
       "    <tr>\n",
       "      <td>231</td>\n",
       "      <td>0.844300</td>\n",
       "    </tr>\n",
       "    <tr>\n",
       "      <td>232</td>\n",
       "      <td>0.947400</td>\n",
       "    </tr>\n",
       "    <tr>\n",
       "      <td>233</td>\n",
       "      <td>0.904600</td>\n",
       "    </tr>\n",
       "    <tr>\n",
       "      <td>234</td>\n",
       "      <td>1.025200</td>\n",
       "    </tr>\n",
       "    <tr>\n",
       "      <td>235</td>\n",
       "      <td>0.976800</td>\n",
       "    </tr>\n",
       "    <tr>\n",
       "      <td>236</td>\n",
       "      <td>0.790900</td>\n",
       "    </tr>\n",
       "    <tr>\n",
       "      <td>237</td>\n",
       "      <td>0.747500</td>\n",
       "    </tr>\n",
       "    <tr>\n",
       "      <td>238</td>\n",
       "      <td>1.029100</td>\n",
       "    </tr>\n",
       "    <tr>\n",
       "      <td>239</td>\n",
       "      <td>0.871100</td>\n",
       "    </tr>\n",
       "    <tr>\n",
       "      <td>240</td>\n",
       "      <td>0.902900</td>\n",
       "    </tr>\n",
       "    <tr>\n",
       "      <td>241</td>\n",
       "      <td>1.045300</td>\n",
       "    </tr>\n",
       "    <tr>\n",
       "      <td>242</td>\n",
       "      <td>1.121600</td>\n",
       "    </tr>\n",
       "    <tr>\n",
       "      <td>243</td>\n",
       "      <td>0.963300</td>\n",
       "    </tr>\n",
       "    <tr>\n",
       "      <td>244</td>\n",
       "      <td>1.036300</td>\n",
       "    </tr>\n",
       "    <tr>\n",
       "      <td>245</td>\n",
       "      <td>1.153700</td>\n",
       "    </tr>\n",
       "    <tr>\n",
       "      <td>246</td>\n",
       "      <td>0.710200</td>\n",
       "    </tr>\n",
       "    <tr>\n",
       "      <td>247</td>\n",
       "      <td>0.979600</td>\n",
       "    </tr>\n",
       "    <tr>\n",
       "      <td>248</td>\n",
       "      <td>0.712400</td>\n",
       "    </tr>\n",
       "    <tr>\n",
       "      <td>249</td>\n",
       "      <td>0.941900</td>\n",
       "    </tr>\n",
       "    <tr>\n",
       "      <td>250</td>\n",
       "      <td>0.813900</td>\n",
       "    </tr>\n",
       "    <tr>\n",
       "      <td>251</td>\n",
       "      <td>0.712300</td>\n",
       "    </tr>\n",
       "    <tr>\n",
       "      <td>252</td>\n",
       "      <td>0.978000</td>\n",
       "    </tr>\n",
       "    <tr>\n",
       "      <td>253</td>\n",
       "      <td>0.972000</td>\n",
       "    </tr>\n",
       "    <tr>\n",
       "      <td>254</td>\n",
       "      <td>0.835600</td>\n",
       "    </tr>\n",
       "    <tr>\n",
       "      <td>255</td>\n",
       "      <td>1.107500</td>\n",
       "    </tr>\n",
       "    <tr>\n",
       "      <td>256</td>\n",
       "      <td>1.001600</td>\n",
       "    </tr>\n",
       "    <tr>\n",
       "      <td>257</td>\n",
       "      <td>1.234400</td>\n",
       "    </tr>\n",
       "    <tr>\n",
       "      <td>258</td>\n",
       "      <td>0.861800</td>\n",
       "    </tr>\n",
       "    <tr>\n",
       "      <td>259</td>\n",
       "      <td>0.923100</td>\n",
       "    </tr>\n",
       "    <tr>\n",
       "      <td>260</td>\n",
       "      <td>1.109200</td>\n",
       "    </tr>\n",
       "    <tr>\n",
       "      <td>261</td>\n",
       "      <td>0.789000</td>\n",
       "    </tr>\n",
       "    <tr>\n",
       "      <td>262</td>\n",
       "      <td>0.886600</td>\n",
       "    </tr>\n",
       "    <tr>\n",
       "      <td>263</td>\n",
       "      <td>0.917600</td>\n",
       "    </tr>\n",
       "    <tr>\n",
       "      <td>264</td>\n",
       "      <td>0.896900</td>\n",
       "    </tr>\n",
       "    <tr>\n",
       "      <td>265</td>\n",
       "      <td>1.107600</td>\n",
       "    </tr>\n",
       "    <tr>\n",
       "      <td>266</td>\n",
       "      <td>0.955200</td>\n",
       "    </tr>\n",
       "    <tr>\n",
       "      <td>267</td>\n",
       "      <td>0.974200</td>\n",
       "    </tr>\n",
       "    <tr>\n",
       "      <td>268</td>\n",
       "      <td>1.068700</td>\n",
       "    </tr>\n",
       "    <tr>\n",
       "      <td>269</td>\n",
       "      <td>0.923000</td>\n",
       "    </tr>\n",
       "    <tr>\n",
       "      <td>270</td>\n",
       "      <td>0.837300</td>\n",
       "    </tr>\n",
       "    <tr>\n",
       "      <td>271</td>\n",
       "      <td>1.032100</td>\n",
       "    </tr>\n",
       "    <tr>\n",
       "      <td>272</td>\n",
       "      <td>0.919300</td>\n",
       "    </tr>\n",
       "    <tr>\n",
       "      <td>273</td>\n",
       "      <td>0.876100</td>\n",
       "    </tr>\n",
       "    <tr>\n",
       "      <td>274</td>\n",
       "      <td>0.846600</td>\n",
       "    </tr>\n",
       "    <tr>\n",
       "      <td>275</td>\n",
       "      <td>0.791800</td>\n",
       "    </tr>\n",
       "    <tr>\n",
       "      <td>276</td>\n",
       "      <td>0.964500</td>\n",
       "    </tr>\n",
       "    <tr>\n",
       "      <td>277</td>\n",
       "      <td>0.773600</td>\n",
       "    </tr>\n",
       "    <tr>\n",
       "      <td>278</td>\n",
       "      <td>0.957900</td>\n",
       "    </tr>\n",
       "    <tr>\n",
       "      <td>279</td>\n",
       "      <td>0.938800</td>\n",
       "    </tr>\n",
       "    <tr>\n",
       "      <td>280</td>\n",
       "      <td>0.982400</td>\n",
       "    </tr>\n",
       "    <tr>\n",
       "      <td>281</td>\n",
       "      <td>0.865900</td>\n",
       "    </tr>\n",
       "    <tr>\n",
       "      <td>282</td>\n",
       "      <td>1.122700</td>\n",
       "    </tr>\n",
       "    <tr>\n",
       "      <td>283</td>\n",
       "      <td>1.078100</td>\n",
       "    </tr>\n",
       "    <tr>\n",
       "      <td>284</td>\n",
       "      <td>0.569100</td>\n",
       "    </tr>\n",
       "    <tr>\n",
       "      <td>285</td>\n",
       "      <td>0.635700</td>\n",
       "    </tr>\n",
       "    <tr>\n",
       "      <td>286</td>\n",
       "      <td>0.631500</td>\n",
       "    </tr>\n",
       "    <tr>\n",
       "      <td>287</td>\n",
       "      <td>0.644100</td>\n",
       "    </tr>\n",
       "    <tr>\n",
       "      <td>288</td>\n",
       "      <td>0.849700</td>\n",
       "    </tr>\n",
       "    <tr>\n",
       "      <td>289</td>\n",
       "      <td>0.638800</td>\n",
       "    </tr>\n",
       "    <tr>\n",
       "      <td>290</td>\n",
       "      <td>0.722100</td>\n",
       "    </tr>\n",
       "    <tr>\n",
       "      <td>291</td>\n",
       "      <td>1.007600</td>\n",
       "    </tr>\n",
       "    <tr>\n",
       "      <td>292</td>\n",
       "      <td>0.835000</td>\n",
       "    </tr>\n",
       "    <tr>\n",
       "      <td>293</td>\n",
       "      <td>0.972600</td>\n",
       "    </tr>\n",
       "    <tr>\n",
       "      <td>294</td>\n",
       "      <td>0.580600</td>\n",
       "    </tr>\n",
       "    <tr>\n",
       "      <td>295</td>\n",
       "      <td>0.898500</td>\n",
       "    </tr>\n",
       "    <tr>\n",
       "      <td>296</td>\n",
       "      <td>0.813200</td>\n",
       "    </tr>\n",
       "    <tr>\n",
       "      <td>297</td>\n",
       "      <td>1.007100</td>\n",
       "    </tr>\n",
       "    <tr>\n",
       "      <td>298</td>\n",
       "      <td>0.765800</td>\n",
       "    </tr>\n",
       "    <tr>\n",
       "      <td>299</td>\n",
       "      <td>0.974800</td>\n",
       "    </tr>\n",
       "    <tr>\n",
       "      <td>300</td>\n",
       "      <td>0.990300</td>\n",
       "    </tr>\n",
       "    <tr>\n",
       "      <td>301</td>\n",
       "      <td>0.626800</td>\n",
       "    </tr>\n",
       "    <tr>\n",
       "      <td>302</td>\n",
       "      <td>1.085800</td>\n",
       "    </tr>\n",
       "    <tr>\n",
       "      <td>303</td>\n",
       "      <td>0.820900</td>\n",
       "    </tr>\n",
       "    <tr>\n",
       "      <td>304</td>\n",
       "      <td>1.243500</td>\n",
       "    </tr>\n",
       "    <tr>\n",
       "      <td>305</td>\n",
       "      <td>0.690600</td>\n",
       "    </tr>\n",
       "    <tr>\n",
       "      <td>306</td>\n",
       "      <td>0.748600</td>\n",
       "    </tr>\n",
       "    <tr>\n",
       "      <td>307</td>\n",
       "      <td>1.011500</td>\n",
       "    </tr>\n",
       "    <tr>\n",
       "      <td>308</td>\n",
       "      <td>0.615800</td>\n",
       "    </tr>\n",
       "    <tr>\n",
       "      <td>309</td>\n",
       "      <td>0.957300</td>\n",
       "    </tr>\n",
       "    <tr>\n",
       "      <td>310</td>\n",
       "      <td>0.939000</td>\n",
       "    </tr>\n",
       "    <tr>\n",
       "      <td>311</td>\n",
       "      <td>0.660700</td>\n",
       "    </tr>\n",
       "    <tr>\n",
       "      <td>312</td>\n",
       "      <td>0.600700</td>\n",
       "    </tr>\n",
       "    <tr>\n",
       "      <td>313</td>\n",
       "      <td>0.880000</td>\n",
       "    </tr>\n",
       "    <tr>\n",
       "      <td>314</td>\n",
       "      <td>0.773100</td>\n",
       "    </tr>\n",
       "    <tr>\n",
       "      <td>315</td>\n",
       "      <td>0.634700</td>\n",
       "    </tr>\n",
       "    <tr>\n",
       "      <td>316</td>\n",
       "      <td>0.800300</td>\n",
       "    </tr>\n",
       "    <tr>\n",
       "      <td>317</td>\n",
       "      <td>1.004200</td>\n",
       "    </tr>\n",
       "    <tr>\n",
       "      <td>318</td>\n",
       "      <td>0.797800</td>\n",
       "    </tr>\n",
       "    <tr>\n",
       "      <td>319</td>\n",
       "      <td>0.911100</td>\n",
       "    </tr>\n",
       "    <tr>\n",
       "      <td>320</td>\n",
       "      <td>0.825700</td>\n",
       "    </tr>\n",
       "    <tr>\n",
       "      <td>321</td>\n",
       "      <td>0.599100</td>\n",
       "    </tr>\n",
       "    <tr>\n",
       "      <td>322</td>\n",
       "      <td>0.969500</td>\n",
       "    </tr>\n",
       "    <tr>\n",
       "      <td>323</td>\n",
       "      <td>1.054800</td>\n",
       "    </tr>\n",
       "    <tr>\n",
       "      <td>324</td>\n",
       "      <td>0.456300</td>\n",
       "    </tr>\n",
       "    <tr>\n",
       "      <td>325</td>\n",
       "      <td>0.930600</td>\n",
       "    </tr>\n",
       "    <tr>\n",
       "      <td>326</td>\n",
       "      <td>1.174400</td>\n",
       "    </tr>\n",
       "    <tr>\n",
       "      <td>327</td>\n",
       "      <td>0.757100</td>\n",
       "    </tr>\n",
       "    <tr>\n",
       "      <td>328</td>\n",
       "      <td>0.889000</td>\n",
       "    </tr>\n",
       "    <tr>\n",
       "      <td>329</td>\n",
       "      <td>0.776500</td>\n",
       "    </tr>\n",
       "    <tr>\n",
       "      <td>330</td>\n",
       "      <td>0.977900</td>\n",
       "    </tr>\n",
       "    <tr>\n",
       "      <td>331</td>\n",
       "      <td>0.875700</td>\n",
       "    </tr>\n",
       "    <tr>\n",
       "      <td>332</td>\n",
       "      <td>0.955700</td>\n",
       "    </tr>\n",
       "    <tr>\n",
       "      <td>333</td>\n",
       "      <td>0.881000</td>\n",
       "    </tr>\n",
       "    <tr>\n",
       "      <td>334</td>\n",
       "      <td>0.469200</td>\n",
       "    </tr>\n",
       "    <tr>\n",
       "      <td>335</td>\n",
       "      <td>0.672600</td>\n",
       "    </tr>\n",
       "    <tr>\n",
       "      <td>336</td>\n",
       "      <td>0.940600</td>\n",
       "    </tr>\n",
       "    <tr>\n",
       "      <td>337</td>\n",
       "      <td>0.818000</td>\n",
       "    </tr>\n",
       "    <tr>\n",
       "      <td>338</td>\n",
       "      <td>0.679700</td>\n",
       "    </tr>\n",
       "    <tr>\n",
       "      <td>339</td>\n",
       "      <td>1.058100</td>\n",
       "    </tr>\n",
       "    <tr>\n",
       "      <td>340</td>\n",
       "      <td>0.619600</td>\n",
       "    </tr>\n",
       "    <tr>\n",
       "      <td>341</td>\n",
       "      <td>1.022200</td>\n",
       "    </tr>\n",
       "    <tr>\n",
       "      <td>342</td>\n",
       "      <td>0.423500</td>\n",
       "    </tr>\n",
       "    <tr>\n",
       "      <td>343</td>\n",
       "      <td>0.754900</td>\n",
       "    </tr>\n",
       "    <tr>\n",
       "      <td>344</td>\n",
       "      <td>1.060100</td>\n",
       "    </tr>\n",
       "    <tr>\n",
       "      <td>345</td>\n",
       "      <td>0.765300</td>\n",
       "    </tr>\n",
       "    <tr>\n",
       "      <td>346</td>\n",
       "      <td>0.873800</td>\n",
       "    </tr>\n",
       "    <tr>\n",
       "      <td>347</td>\n",
       "      <td>0.754200</td>\n",
       "    </tr>\n",
       "    <tr>\n",
       "      <td>348</td>\n",
       "      <td>0.731200</td>\n",
       "    </tr>\n",
       "    <tr>\n",
       "      <td>349</td>\n",
       "      <td>0.786400</td>\n",
       "    </tr>\n",
       "    <tr>\n",
       "      <td>350</td>\n",
       "      <td>0.704000</td>\n",
       "    </tr>\n",
       "    <tr>\n",
       "      <td>351</td>\n",
       "      <td>0.718100</td>\n",
       "    </tr>\n",
       "    <tr>\n",
       "      <td>352</td>\n",
       "      <td>0.766400</td>\n",
       "    </tr>\n",
       "    <tr>\n",
       "      <td>353</td>\n",
       "      <td>0.747300</td>\n",
       "    </tr>\n",
       "    <tr>\n",
       "      <td>354</td>\n",
       "      <td>0.914900</td>\n",
       "    </tr>\n",
       "    <tr>\n",
       "      <td>355</td>\n",
       "      <td>0.748800</td>\n",
       "    </tr>\n",
       "    <tr>\n",
       "      <td>356</td>\n",
       "      <td>0.946600</td>\n",
       "    </tr>\n",
       "    <tr>\n",
       "      <td>357</td>\n",
       "      <td>0.735300</td>\n",
       "    </tr>\n",
       "    <tr>\n",
       "      <td>358</td>\n",
       "      <td>0.632400</td>\n",
       "    </tr>\n",
       "    <tr>\n",
       "      <td>359</td>\n",
       "      <td>0.857600</td>\n",
       "    </tr>\n",
       "    <tr>\n",
       "      <td>360</td>\n",
       "      <td>0.611300</td>\n",
       "    </tr>\n",
       "    <tr>\n",
       "      <td>361</td>\n",
       "      <td>1.105100</td>\n",
       "    </tr>\n",
       "    <tr>\n",
       "      <td>362</td>\n",
       "      <td>0.522500</td>\n",
       "    </tr>\n",
       "    <tr>\n",
       "      <td>363</td>\n",
       "      <td>0.799500</td>\n",
       "    </tr>\n",
       "    <tr>\n",
       "      <td>364</td>\n",
       "      <td>0.864600</td>\n",
       "    </tr>\n",
       "    <tr>\n",
       "      <td>365</td>\n",
       "      <td>0.951100</td>\n",
       "    </tr>\n",
       "    <tr>\n",
       "      <td>366</td>\n",
       "      <td>0.761900</td>\n",
       "    </tr>\n",
       "    <tr>\n",
       "      <td>367</td>\n",
       "      <td>0.576100</td>\n",
       "    </tr>\n",
       "    <tr>\n",
       "      <td>368</td>\n",
       "      <td>0.864700</td>\n",
       "    </tr>\n",
       "    <tr>\n",
       "      <td>369</td>\n",
       "      <td>0.940300</td>\n",
       "    </tr>\n",
       "    <tr>\n",
       "      <td>370</td>\n",
       "      <td>0.773300</td>\n",
       "    </tr>\n",
       "    <tr>\n",
       "      <td>371</td>\n",
       "      <td>0.927100</td>\n",
       "    </tr>\n",
       "    <tr>\n",
       "      <td>372</td>\n",
       "      <td>0.825400</td>\n",
       "    </tr>\n",
       "    <tr>\n",
       "      <td>373</td>\n",
       "      <td>0.906100</td>\n",
       "    </tr>\n",
       "    <tr>\n",
       "      <td>374</td>\n",
       "      <td>0.769400</td>\n",
       "    </tr>\n",
       "    <tr>\n",
       "      <td>375</td>\n",
       "      <td>0.652900</td>\n",
       "    </tr>\n",
       "    <tr>\n",
       "      <td>376</td>\n",
       "      <td>0.810800</td>\n",
       "    </tr>\n",
       "    <tr>\n",
       "      <td>377</td>\n",
       "      <td>1.064800</td>\n",
       "    </tr>\n",
       "    <tr>\n",
       "      <td>378</td>\n",
       "      <td>0.840100</td>\n",
       "    </tr>\n",
       "    <tr>\n",
       "      <td>379</td>\n",
       "      <td>0.841600</td>\n",
       "    </tr>\n",
       "    <tr>\n",
       "      <td>380</td>\n",
       "      <td>0.348200</td>\n",
       "    </tr>\n",
       "  </tbody>\n",
       "</table><p>"
      ],
      "text/plain": [
       "<IPython.core.display.HTML object>"
      ]
     },
     "metadata": {},
     "output_type": "display_data"
    },
    {
     "data": {
      "application/vnd.jupyter.widget-view+json": {
       "model_id": "b192d0633fef475e8056ae2e0cadf7db",
       "version_major": 2,
       "version_minor": 0
      },
      "text/plain": [
       "config.json:   0%|          | 0.00/878 [00:00<?, ?B/s]"
      ]
     },
     "metadata": {},
     "output_type": "display_data"
    },
    {
     "data": {
      "text/plain": [
       "TrainOutput(global_step=380, training_loss=1.1147158563921327, metrics={'train_runtime': 124.7368, 'train_samples_per_second': 12.025, 'train_steps_per_second': 3.046, 'total_flos': 1.3073345150976e+16, 'train_loss': 1.1147158563921327, 'epoch': 10.0})"
      ]
     },
     "execution_count": 14,
     "metadata": {},
     "output_type": "execute_result"
    }
   ],
   "source": [
    "# ===============================\n",
    "# Step 6: Trainer\n",
    "# ===============================\n",
    "trainer = Trainer(\n",
    "    model=model,\n",
    "    args=training_args,\n",
    "    train_dataset=tokenized_dataset,\n",
    "    tokenizer=tokenizer,\n",
    "    data_collator=data_collator\n",
    ")\n",
    "\n",
    "trainer.train()"
   ]
  },
  {
   "cell_type": "code",
   "execution_count": 15,
   "metadata": {},
   "outputs": [
    {
     "name": "stdout",
     "output_type": "stream",
     "text": [
      "Fine-tuning complete! Model saved to ./llama3_lora_medquad\n"
     ]
    }
   ],
   "source": [
    "# ===============================\n",
    "# Step 7: Save Model & Tokenizer\n",
    "# ===============================\n",
    "model.save_pretrained(output_dir)\n",
    "tokenizer.save_pretrained(output_dir)\n",
    "\n",
    "print(f\"Fine-tuning complete! Model saved to {output_dir}\")"
   ]
  },
  {
   "cell_type": "markdown",
   "metadata": {},
   "source": [
    "## Load the NEW LoRA model"
   ]
  },
  {
   "cell_type": "code",
   "execution_count": 16,
   "metadata": {},
   "outputs": [
    {
     "data": {
      "application/vnd.jupyter.widget-view+json": {
       "model_id": "5794e581bee84b2a9e8b6dc2e8ea16db",
       "version_major": 2,
       "version_minor": 0
      },
      "text/plain": [
       "Loading checkpoint shards:   0%|          | 0/2 [00:00<?, ?it/s]"
      ]
     },
     "metadata": {},
     "output_type": "display_data"
    },
    {
     "name": "stdout",
     "output_type": "stream",
     "text": [
      "Fine-tuned LoRA model and tokenizer successfully loaded!\n"
     ]
    }
   ],
   "source": [
    "# ===============================\n",
    "# Step 8: Load Fine-Tuned LoRA Model for Evaluation\n",
    "# ===============================\n",
    "from transformers import AutoTokenizer, AutoModelForCausalLM\n",
    "from peft import PeftModel\n",
    "import torch\n",
    "import os\n",
    "\n",
    "# Define the model directory where LoRA was saved\n",
    "lora_model_dir = \"./llama3_lora_medquad\"\n",
    "base_model_id = \"meta-llama/Llama-3.2-3B-Instruct\"\n",
    "cache_dir = \"/workspace/model_cache\"\n",
    "\n",
    "# Load base LLaMA model (required for LoRA base)\n",
    "base_model = AutoModelForCausalLM.from_pretrained(\n",
    "    base_model_id,\n",
    "    torch_dtype=torch.bfloat16,\n",
    "    device_map=\"auto\",\n",
    "    cache_dir=cache_dir\n",
    ")\n",
    "\n",
    "# Load the LoRA adapters\n",
    "model = PeftModel.from_pretrained(base_model, lora_model_dir)\n",
    "model.eval()  # Set to eval mode\n",
    "\n",
    "# Load tokenizer from fine-tuned folder (same tokenizer)\n",
    "tokenizer = AutoTokenizer.from_pretrained(lora_model_dir)\n",
    "\n",
    "print(\"Fine-tuned LoRA model and tokenizer successfully loaded!\")\n"
   ]
  },
  {
   "cell_type": "code",
   "execution_count": 25,
   "metadata": {},
   "outputs": [
    {
     "name": "stdout",
     "output_type": "stream",
     "text": [
      "🧪 Sample Output:\n",
      " Answer concisely:\n",
      "\n",
      "What are the symptoms of diabetes?\n",
      "\n",
      "Answer: \n",
      "Diabetes symptoms can vary depending on the type and severity of the condition. Common symptoms include:\n",
      "\n",
      "* Increased thirst and hunger\n",
      "* Frequent urination\n",
      "* Fatigue\n",
      "* Blurred vision\n",
      "* Slow healing of cuts and wounds\n",
      "* Tingling or numbness in hands and feet\n",
      "* Unexplained weight loss\n",
      "* Recurring skin, gum, or bladder infections\n",
      "\n",
      "In type 1 diabetes, symptoms appear suddenly and can include:\n",
      "* Severe vomiting\n",
      "* Abdominal pain\n",
      "* Diarrhea\n",
      "* Nausea\n",
      "* Headache\n",
      "\n",
      "In type 2 diabetes, symptoms often develop gradually and may include:\n",
      "* Increased appetite\n",
      "* Weight gain\n",
      "* Increased urination\n",
      "* Fatigue\n",
      "* Blurred vision\n",
      "\n",
      "Note: Some people with diabetes may not exhibit any symptoms at all, especially in the early stages of the condition. Regular blood glucose monitoring and check-ups with a healthcare provider can help detect diabetes before symptoms appear.\n"
     ]
    }
   ],
   "source": [
    "# ===============================\n",
    "# 🔍 Optional: Confirm it works with a test question\n",
    "# ===============================\n",
    "prompt = \"Answer concisely:\\n\\nWhat are the symptoms of diabetes?\\n\\nAnswer:\"\n",
    "inputs = tokenizer(prompt, return_tensors=\"pt\").to(\"cuda\")\n",
    "\n",
    "with torch.no_grad():\n",
    "    outputs = model.generate(\n",
    "        **inputs,\n",
    "        max_length=256,\n",
    "        pad_token_id=tokenizer.eos_token_id\n",
    "    )\n",
    "\n",
    "response = tokenizer.decode(outputs[0], skip_special_tokens=True)\n",
    "print(\"🧪 Sample Output:\\n\", response)"
   ]
  },
  {
   "cell_type": "markdown",
   "metadata": {},
   "source": [
    "## Fine-Tuning"
   ]
  },
  {
   "cell_type": "code",
   "execution_count": 8,
   "metadata": {},
   "outputs": [
    {
     "data": {
      "application/vnd.jupyter.widget-view+json": {
       "model_id": "b2a0f77b2cdc41aaaed4c249de4920d9",
       "version_major": 2,
       "version_minor": 0
      },
      "text/plain": [
       "Loading checkpoint shards:   0%|          | 0/2 [00:00<?, ?it/s]"
      ]
     },
     "metadata": {},
     "output_type": "display_data"
    },
    {
     "name": "stdout",
     "output_type": "stream",
     "text": [
      "✅ Model successfully loaded from cache: /workspace/model_cache\n"
     ]
    }
   ],
   "source": [
    "# ===============================\n",
    "# Clean Fine-Tuning Script for LLaMA 3.2 3B (No Benchmarking, From Scratch)\n",
    "# ===============================\n",
    "\n",
    "import os\n",
    "import torch\n",
    "import pandas as pd\n",
    "from datasets import Dataset\n",
    "from transformers import (\n",
    "    AutoTokenizer, AutoModelForCausalLM, TrainingArguments, Trainer,\n",
    "    DataCollatorForLanguageModeling\n",
    ")\n",
    "\n",
    "# ===============================\n",
    "# Step 1: Load model\n",
    "# ===============================\n",
    "model_id = \"meta-llama/Llama-3.2-3B-Instruct\"  # Model name\n",
    "cache_dir = \"/workspace/model_cache\"  # Set cache directory to store model locally\n",
    "\n",
    "# Ensure the cache directory exists\n",
    "os.makedirs(cache_dir, exist_ok=True)\n",
    "\n",
    "# Load tokenizer from cache (if available); otherwise, download and store it\n",
    "tokenizer = AutoTokenizer.from_pretrained(model_id, cache_dir=cache_dir, use_fast=True)\n",
    "tokenizer.pad_token = tokenizer.eos_token\n",
    "\n",
    "# Load model with reduced memory usage and automatic GPU allocation\n",
    "model = AutoModelForCausalLM.from_pretrained(\n",
    "    model_id,\n",
    "    torch_dtype=torch.bfloat16,\n",
    "    device_map=\"auto\",\n",
    "    cache_dir=cache_dir\n",
    ")\n",
    "\n",
    "print(\"✅ Model successfully loaded from cache:\", cache_dir)"
   ]
  },
  {
   "cell_type": "code",
   "execution_count": 10,
   "metadata": {},
   "outputs": [
    {
     "name": "stdout",
     "output_type": "stream",
     "text": [
      "                AnswerID    Unnamed: 2              Unnamed: 3  \\\n",
      "0  ADAM_0002818_Sec1.txt  3-Incomplete   ADAM_0002818_Sec1.txt   \n",
      "1  ADAM_0002818_Sec2.txt  3-Incomplete   ADAM_0002818_Sec2.txt   \n",
      "2  GARD_0004450_Sec1.txt  3-Incomplete   GARD_0004450_Sec1.txt   \n",
      "3  GARD_0004450_Sec2.txt  3-Incomplete   GARD_0004450_Sec2.txt   \n",
      "4  GARD_0004450_Sec3.txt  3-Incomplete   GARD_0004450_Sec3.txt   \n",
      "\n",
      "                                            Question  \\\n",
      "0                    What is (are) Noonan syndrome ?   \n",
      "1                      What causes Noonan syndrome ?   \n",
      "2  What is (are) Noonan syndrome ? (Also called: ...   \n",
      "3  What are the symptoms of Noonan syndrome ? (Al...   \n",
      "4  Is Noonan syndrome inherited ? (Also called: M...   \n",
      "\n",
      "                                              Answer  \n",
      "0  Noonan syndrome is a disease that can be passe...  \n",
      "1  Noonan syndrome is linked to defects in severa...  \n",
      "2  Noonan syndrome is a genetic disorder that cau...  \n",
      "3  What are the signs and symptoms of Noonan synd...  \n",
      "4  How is Noonan syndrome inherited? Noonan syndr...  \n"
     ]
    },
    {
     "data": {
      "application/vnd.jupyter.widget-view+json": {
       "model_id": "143e48658b1047d186746a6b38d2355a",
       "version_major": 2,
       "version_minor": 0
      },
      "text/plain": [
       "Map:   0%|          | 0/150 [00:00<?, ? examples/s]"
      ]
     },
     "metadata": {},
     "output_type": "display_data"
    }
   ],
   "source": [
    "# ===============================\n",
    "# Step 2: Define Dataset\n",
    "# ===============================\n",
    "data_path = \"VerifiedQ_A.xlsx\"\n",
    "output_dir = \"./llama3_finetune_medquad\"\n",
    "os.makedirs(output_dir, exist_ok=True)\n",
    "\n",
    "# ===============================\n",
    "# Step 3: Load Dataset\n",
    "# ===============================\n",
    "df = pd.read_excel(data_path)\n",
    "df = df.dropna(subset=[\"Question\", \"Answer\"])\n",
    "print(df.head()) # Quick check\n",
    "\n",
    "def format_prompt(example): # mimics instruction-following prompts which models like LLaMA are tuned for\n",
    "    return {\n",
    "        \"text\": f\"### Question:\\n{example['Question']}\\n\\n### Answer:\\n{example['Answer']}\"\n",
    "    }\n",
    "\n",
    "raw_dataset = Dataset.from_pandas(df) # Convert DataFrame to Hugging Face Dataset\n",
    "formatted_dataset = raw_dataset.map(format_prompt) # Apply Prompt Formatting"
   ]
  },
  {
   "cell_type": "code",
   "execution_count": 13,
   "metadata": {},
   "outputs": [
    {
     "data": {
      "application/vnd.jupyter.widget-view+json": {
       "model_id": "4f9996a12109436fb1dcbcf1d947cf64",
       "version_major": 2,
       "version_minor": 0
      },
      "text/plain": [
       "Map:   0%|          | 0/150 [00:00<?, ? examples/s]"
      ]
     },
     "metadata": {},
     "output_type": "display_data"
    }
   ],
   "source": [
    "# ===============================\n",
    "# Step 4: Tokenize Dataset\n",
    "# ===============================\n",
    "# Tokenize the formatted text prompts with max length and padding\n",
    "# Returns token ids and attention masks used during training\n",
    "\n",
    "def tokenize(example):\n",
    "    return tokenizer(\n",
    "        example[\"text\"], truncation=True, padding=\"max_length\", max_length=512\n",
    "    )\n",
    "\n",
    "# Apply tokenization to the entire dataset in batches for speed\n",
    "tokenized_dataset = formatted_dataset.map(tokenize, batched=True)"
   ]
  },
  {
   "cell_type": "code",
   "execution_count": 14,
   "metadata": {},
   "outputs": [],
   "source": [
    "# ===============================\n",
    "# Step 5: Training Configuration\n",
    "# ===============================\n",
    "# Define all hyperparameters and runtime configs for training\n",
    "training_args = TrainingArguments(\n",
    "    output_dir=output_dir,  # Folder to save model checkpoints\n",
    "    per_device_train_batch_size=4,  # Batch size per GPU\n",
    "    gradient_accumulation_steps=1,  # Gradient steps before backward/update\n",
    "    num_train_epochs=10,  # Number of passes over the full training data\n",
    "    learning_rate=5e-5,  # Initial learning rate for AdamW optimizer\n",
    "    bf16=True,  # Use bfloat16 if supported by GPU (e.g., A100)\n",
    "    logging_dir=f\"{output_dir}/logs\",  # Save training logs here\n",
    "    save_strategy=\"epoch\",  # Save model once per epoch\n",
    "    report_to=\"none\",  # Disable integration with wandb/huggingface\n",
    "    logging_steps=10,  # Log loss etc. every N steps\n",
    "    save_total_limit=2,  # Keep only last 2 checkpoints to save disk\n",
    "    warmup_steps=100  # Gradually ramp up LR to avoid instability\n",
    ")\n",
    "\n",
    "# Create a data collator that dynamically pads batches during training\n",
    "data_collator = DataCollatorForLanguageModeling(tokenizer=tokenizer, mlm=False)"
   ]
  },
  {
   "cell_type": "code",
   "execution_count": 15,
   "metadata": {
    "scrolled": true
   },
   "outputs": [
    {
     "name": "stderr",
     "output_type": "stream",
     "text": [
      "/tmp/ipykernel_2763/311759560.py:5: FutureWarning: `tokenizer` is deprecated and will be removed in version 5.0.0 for `Trainer.__init__`. Use `processing_class` instead.\n",
      "  trainer = Trainer(\n"
     ]
    },
    {
     "data": {
      "text/html": [
       "\n",
       "    <div>\n",
       "      \n",
       "      <progress value='380' max='380' style='width:300px; height:20px; vertical-align: middle;'></progress>\n",
       "      [380/380 09:04, Epoch 10/10]\n",
       "    </div>\n",
       "    <table border=\"1\" class=\"dataframe\">\n",
       "  <thead>\n",
       " <tr style=\"text-align: left;\">\n",
       "      <th>Step</th>\n",
       "      <th>Training Loss</th>\n",
       "    </tr>\n",
       "  </thead>\n",
       "  <tbody>\n",
       "    <tr>\n",
       "      <td>10</td>\n",
       "      <td>1.970600</td>\n",
       "    </tr>\n",
       "    <tr>\n",
       "      <td>20</td>\n",
       "      <td>1.684600</td>\n",
       "    </tr>\n",
       "    <tr>\n",
       "      <td>30</td>\n",
       "      <td>1.512800</td>\n",
       "    </tr>\n",
       "    <tr>\n",
       "      <td>40</td>\n",
       "      <td>1.356800</td>\n",
       "    </tr>\n",
       "    <tr>\n",
       "      <td>50</td>\n",
       "      <td>1.167300</td>\n",
       "    </tr>\n",
       "    <tr>\n",
       "      <td>60</td>\n",
       "      <td>1.076800</td>\n",
       "    </tr>\n",
       "    <tr>\n",
       "      <td>70</td>\n",
       "      <td>1.032000</td>\n",
       "    </tr>\n",
       "    <tr>\n",
       "      <td>80</td>\n",
       "      <td>0.855400</td>\n",
       "    </tr>\n",
       "    <tr>\n",
       "      <td>90</td>\n",
       "      <td>0.574800</td>\n",
       "    </tr>\n",
       "    <tr>\n",
       "      <td>100</td>\n",
       "      <td>0.506000</td>\n",
       "    </tr>\n",
       "    <tr>\n",
       "      <td>110</td>\n",
       "      <td>0.616800</td>\n",
       "    </tr>\n",
       "    <tr>\n",
       "      <td>120</td>\n",
       "      <td>0.415300</td>\n",
       "    </tr>\n",
       "    <tr>\n",
       "      <td>130</td>\n",
       "      <td>0.361200</td>\n",
       "    </tr>\n",
       "    <tr>\n",
       "      <td>140</td>\n",
       "      <td>0.343500</td>\n",
       "    </tr>\n",
       "    <tr>\n",
       "      <td>150</td>\n",
       "      <td>0.353000</td>\n",
       "    </tr>\n",
       "    <tr>\n",
       "      <td>160</td>\n",
       "      <td>0.181100</td>\n",
       "    </tr>\n",
       "    <tr>\n",
       "      <td>170</td>\n",
       "      <td>0.176900</td>\n",
       "    </tr>\n",
       "    <tr>\n",
       "      <td>180</td>\n",
       "      <td>0.152800</td>\n",
       "    </tr>\n",
       "    <tr>\n",
       "      <td>190</td>\n",
       "      <td>0.148800</td>\n",
       "    </tr>\n",
       "    <tr>\n",
       "      <td>200</td>\n",
       "      <td>0.091500</td>\n",
       "    </tr>\n",
       "    <tr>\n",
       "      <td>210</td>\n",
       "      <td>0.112100</td>\n",
       "    </tr>\n",
       "    <tr>\n",
       "      <td>220</td>\n",
       "      <td>0.094000</td>\n",
       "    </tr>\n",
       "    <tr>\n",
       "      <td>230</td>\n",
       "      <td>0.077100</td>\n",
       "    </tr>\n",
       "    <tr>\n",
       "      <td>240</td>\n",
       "      <td>0.051000</td>\n",
       "    </tr>\n",
       "    <tr>\n",
       "      <td>250</td>\n",
       "      <td>0.060800</td>\n",
       "    </tr>\n",
       "    <tr>\n",
       "      <td>260</td>\n",
       "      <td>0.059300</td>\n",
       "    </tr>\n",
       "    <tr>\n",
       "      <td>270</td>\n",
       "      <td>0.049800</td>\n",
       "    </tr>\n",
       "    <tr>\n",
       "      <td>280</td>\n",
       "      <td>0.034000</td>\n",
       "    </tr>\n",
       "    <tr>\n",
       "      <td>290</td>\n",
       "      <td>0.037400</td>\n",
       "    </tr>\n",
       "    <tr>\n",
       "      <td>300</td>\n",
       "      <td>0.048300</td>\n",
       "    </tr>\n",
       "    <tr>\n",
       "      <td>310</td>\n",
       "      <td>0.032200</td>\n",
       "    </tr>\n",
       "    <tr>\n",
       "      <td>320</td>\n",
       "      <td>0.038900</td>\n",
       "    </tr>\n",
       "    <tr>\n",
       "      <td>330</td>\n",
       "      <td>0.030900</td>\n",
       "    </tr>\n",
       "    <tr>\n",
       "      <td>340</td>\n",
       "      <td>0.035500</td>\n",
       "    </tr>\n",
       "    <tr>\n",
       "      <td>350</td>\n",
       "      <td>0.027800</td>\n",
       "    </tr>\n",
       "    <tr>\n",
       "      <td>360</td>\n",
       "      <td>0.028600</td>\n",
       "    </tr>\n",
       "    <tr>\n",
       "      <td>370</td>\n",
       "      <td>0.025800</td>\n",
       "    </tr>\n",
       "    <tr>\n",
       "      <td>380</td>\n",
       "      <td>0.029000</td>\n",
       "    </tr>\n",
       "  </tbody>\n",
       "</table><p>"
      ],
      "text/plain": [
       "<IPython.core.display.HTML object>"
      ]
     },
     "metadata": {},
     "output_type": "display_data"
    },
    {
     "data": {
      "text/plain": [
       "TrainOutput(global_step=380, training_loss=0.4065922520662609, metrics={'train_runtime': 545.3352, 'train_samples_per_second': 2.751, 'train_steps_per_second': 0.697, 'total_flos': 1.2988787982336e+16, 'train_loss': 0.4065922520662609, 'epoch': 10.0})"
      ]
     },
     "execution_count": 15,
     "metadata": {},
     "output_type": "execute_result"
    }
   ],
   "source": [
    "# ===============================\n",
    "# Step 6: Trainer\n",
    "# ===============================\n",
    "# The Trainer class handles the training loop and saves the best model\n",
    "trainer = Trainer(\n",
    "    model=model,  # The model to fine-tune\n",
    "    args=training_args,  # Training configuration\n",
    "    train_dataset=tokenized_dataset,  # Input data\n",
    "    tokenizer=tokenizer,  # Tokenizer for saving and decoding\n",
    "    data_collator=data_collator  # Handles padding during training\n",
    ")\n",
    "\n",
    "# Start training\n",
    "trainer.train()"
   ]
  },
  {
   "cell_type": "code",
   "execution_count": 16,
   "metadata": {},
   "outputs": [
    {
     "name": "stdout",
     "output_type": "stream",
     "text": [
      "\n",
      "✅ Full fine-tuning complete! Model saved to ./llama3_finetune_medquad\n"
     ]
    }
   ],
   "source": [
    "# ===============================\n",
    "# Step 7: Save Model & Tokenizer\n",
    "# ===============================\n",
    "# Save the final fine-tuned model and tokenizer for inference or reuse\n",
    "model.save_pretrained(output_dir)\n",
    "tokenizer.save_pretrained(output_dir)\n",
    "\n",
    "print(f\"\\n✅ Full fine-tuning complete! Model saved to {output_dir}\")"
   ]
  },
  {
   "cell_type": "markdown",
   "metadata": {},
   "source": [
    "## Load the NEW Fine-Tuned Model"
   ]
  },
  {
   "cell_type": "code",
   "execution_count": 18,
   "metadata": {},
   "outputs": [
    {
     "data": {
      "application/vnd.jupyter.widget-view+json": {
       "model_id": "2a604ba1f65b41f19a02a9d1b68d38fa",
       "version_major": 2,
       "version_minor": 0
      },
      "text/plain": [
       "Loading checkpoint shards:   0%|          | 0/2 [00:00<?, ?it/s]"
      ]
     },
     "metadata": {},
     "output_type": "display_data"
    },
    {
     "name": "stdout",
     "output_type": "stream",
     "text": [
      "✅ Fine-tuned full model and tokenizer successfully loaded!\n"
     ]
    }
   ],
   "source": [
    "# ===============================\n",
    "# Step 8: Load Fine-Tuned Full Model for Inference\n",
    "# ===============================\n",
    "from transformers import AutoTokenizer, AutoModelForCausalLM\n",
    "import torch\n",
    "import os\n",
    "\n",
    "# Define paths to the saved model and cache\n",
    "finetuned_model_dir = \"./llama3_finetune_medquad\"  # Your saved model directory\n",
    "cache_dir = \"/workspace/model_cache\"  # Cache path\n",
    "\n",
    "# Load the fine-tuned model\n",
    "model = AutoModelForCausalLM.from_pretrained(\n",
    "    finetuned_model_dir,\n",
    "    torch_dtype=torch.bfloat16,\n",
    "    device_map=\"auto\",\n",
    "    cache_dir=cache_dir\n",
    ")\n",
    "model.eval()  # Set to eval mode to disable dropout etc.\n",
    "\n",
    "# Load the tokenizer (from same fine-tuned folder)\n",
    "tokenizer = AutoTokenizer.from_pretrained(finetuned_model_dir)\n",
    "tokenizer.pad_token = tokenizer.eos_token  # Ensure pad token is defined\n",
    "\n",
    "print(\"✅ Fine-tuned full model and tokenizer successfully loaded!\")\n"
   ]
  },
  {
   "cell_type": "markdown",
   "metadata": {},
   "source": [
    "## Now go back the top and START from the \"# FROM HERE, after reload the NEW & Trained model, you can re-run the codes below till the end of BLEU\""
   ]
  }
 ],
 "metadata": {
  "kernelspec": {
   "display_name": "Python 3 (ipykernel)",
   "language": "python",
   "name": "python3"
  },
  "language_info": {
   "codemirror_mode": {
    "name": "ipython",
    "version": 3
   },
   "file_extension": ".py",
   "mimetype": "text/x-python",
   "name": "python",
   "nbconvert_exporter": "python",
   "pygments_lexer": "ipython3",
   "version": "3.10.13"
  }
 },
 "nbformat": 4,
 "nbformat_minor": 4
}
